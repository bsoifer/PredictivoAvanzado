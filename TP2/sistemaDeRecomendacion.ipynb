{
 "cells": [
  {
   "cell_type": "code",
   "execution_count": 2,
   "metadata": {},
   "outputs": [],
   "source": [
    "import pandas as pd\n",
    "import numpy as np\n",
    "import matplotlib.pyplot as plt\n",
    "from sklearn.model_selection import train_test_split as skl_train_test_split\n",
    "from surprise import Reader, Dataset, SVD, KNNBasic, NormalPredictor, BaselineOnly, NMF\n",
    "from surprise.model_selection import cross_validate, KFold\n",
    "from collections import defaultdict\n",
    "\n",
    "plt.rcParams['font.family'] = 'Times New Roman'"
   ]
  },
  {
   "cell_type": "markdown",
   "metadata": {},
   "source": [
    "# Preparacion de datos"
   ]
  },
  {
   "cell_type": "code",
   "execution_count": 3,
   "metadata": {},
   "outputs": [
    {
     "name": "stdout",
     "output_type": "stream",
     "text": [
      "Shape del DataFrame original de locales: (130, 22)\n",
      "Shape del DataFrame final de locales con promedios: (130, 29)\n"
     ]
    }
   ],
   "source": [
    "df_ratings = pd.read_csv('./datos/rating_final.csv')\n",
    "df_places = pd.read_csv('./datos/geoplaces2.csv')\n",
    "\n",
    "datasets_locales = ['./datos/chefmozaccepts.csv', './datos/chefmozcuisine.csv', './datos/chefmozhours4.csv', './datos/chefmozparking.csv']\n",
    "\n",
    "for dataset in datasets_locales:\n",
    "    df_temp = pd.read_csv(dataset)\n",
    "    merged_places = pd.merge(df_places, df_temp, on='placeID', how='left')\n",
    "\n",
    "print(f\"Shape del DataFrame original de locales: {merged_places.shape}\")\n",
    "\n",
    "merged_places = df_places.drop_duplicates(subset=['placeID'])\n",
    "\n",
    "merged_places.to_csv('./datos/dataLocal.csv', sep=';', index=False)\n",
    "\n",
    "for dataset in datasets_locales:\n",
    "    df_temp = pd.read_csv(dataset)\n",
    "    df_places = pd.merge(df_places, df_temp, on='placeID', how='left')\n",
    "\n",
    "avg_ratings = df_ratings.groupby('placeID')[['rating', 'food_rating', 'service_rating']].mean().reset_index()\n",
    "\n",
    "df_places = pd.merge(df_places, avg_ratings, on='placeID', how='left')\n",
    "df_places = df_places.drop_duplicates(subset=['placeID'])\n",
    "df_places.to_csv('./datos/dataLocal_with_averages.csv', sep=';', index=False)\n",
    "\n",
    "print(f\"Shape del DataFrame final de locales con promedios: {df_places.shape}\")"
   ]
  },
  {
   "cell_type": "code",
   "execution_count": 4,
   "metadata": {},
   "outputs": [
    {
     "name": "stdout",
     "output_type": "stream",
     "text": [
      "Shape del DataFrame original de usuarios: (138, 24)\n"
     ]
    }
   ],
   "source": [
    "userprofile_file = './datos/userprofile.csv'\n",
    "usercuisine_file = './datos/usercuisine.csv'\n",
    "userpayment_file = './datos/userpayment.csv'\n",
    "\n",
    "df_userprofile = pd.read_csv(userprofile_file, sep=',')\n",
    "df_usercuisine = pd.read_csv(usercuisine_file, sep=',')\n",
    "df_userpayment = pd.read_csv(userpayment_file, sep=',')\n",
    "\n",
    "df_users = pd.merge(df_userprofile, df_usercuisine, on='userID', how='left')\n",
    "df_users = pd.merge(df_users, df_userpayment, on='userID', how='left')\n",
    "\n",
    "df_users = df_users.drop_duplicates(subset=['userID'])\n",
    "\n",
    "avg_user_ratings = df_ratings.groupby('userID')[['rating', 'food_rating', 'service_rating']].mean().reset_index()\n",
    "\n",
    "df_users = pd.merge(df_users, avg_user_ratings, on='userID', how='left')\n",
    "\n",
    "df_users.to_csv('./datos/dataUser.csv', sep=';', index=False)\n",
    "\n",
    "print(f\"Shape del DataFrame original de usuarios: {df_users.shape}\")"
   ]
  },
  {
   "cell_type": "code",
   "execution_count": 5,
   "metadata": {},
   "outputs": [],
   "source": [
    "ratings = df_users\n",
    "locales = df_places"
   ]
  },
  {
   "cell_type": "code",
   "execution_count": 6,
   "metadata": {},
   "outputs": [
    {
     "name": "stdout",
     "output_type": "stream",
     "text": [
      "Index(['userID', 'latitude', 'longitude', 'smoker', 'drink_level',\n",
      "       'dress_preference', 'ambience', 'transport', 'marital_status', 'hijos',\n",
      "       'birth_year', 'interest', 'personality', 'religion', 'activity',\n",
      "       'color', 'weight', 'budget', 'height', 'Rcuisine', 'Upayment', 'rating',\n",
      "       'food_rating', 'service_rating'],\n",
      "      dtype='object')\n",
      "Index(['placeID', 'latitude', 'longitude', 'the_geom_meter', 'name', 'address',\n",
      "       'city', 'state', 'country', 'fax', 'zip', 'alcohol', 'smoking_area',\n",
      "       'dress_code', 'accessibility', 'price', 'url', 'Rambience', 'franchise',\n",
      "       'area', 'other_services', 'Rpayment', 'Rcuisine', 'hours', 'days',\n",
      "       'parking_lot', 'rating', 'food_rating', 'service_rating'],\n",
      "      dtype='object')\n"
     ]
    }
   ],
   "source": [
    "print(ratings.columns)\n",
    "print(locales.columns)"
   ]
  },
  {
   "cell_type": "markdown",
   "metadata": {},
   "source": [
    "# Similitud del coseno"
   ]
  },
  {
   "cell_type": "code",
   "execution_count": 7,
   "metadata": {},
   "outputs": [],
   "source": [
    "df_ratings = pd.read_csv('./datos/dataRatings.csv', delimiter=';')\n",
    "\n",
    "df_ratings = df_ratings.drop_duplicates(subset=['userID', 'placeID'])\n",
    "\n",
    "df_ratings.to_csv('./datos/dataRatings.csv', index=False, sep=';')"
   ]
  },
  {
   "cell_type": "code",
   "execution_count": 8,
   "metadata": {},
   "outputs": [
    {
     "name": "stdout",
     "output_type": "stream",
     "text": [
      "[[1.         0.29052311 0.26067155 ... 0.43389833 0.7050241  0.17912732]\n",
      " [0.29052311 1.         0.62682767 ... 0.13611863 0.49574583 0.57941364]\n",
      " [0.26067155 0.62682767 1.         ... 0.22696956 0.15812585 0.33536408]\n",
      " ...\n",
      " [0.43389833 0.13611863 0.22696956 ... 1.         0.51621685 0.15246621]\n",
      " [0.7050241  0.49574583 0.15812585 ... 0.51621685 1.         0.43144178]\n",
      " [0.17912732 0.57941364 0.33536408 ... 0.15246621 0.43144178 1.        ]]\n"
     ]
    }
   ],
   "source": [
    "from sklearn.preprocessing import StandardScaler, OneHotEncoder\n",
    "from sklearn.compose import ColumnTransformer\n",
    "from sklearn.pipeline import Pipeline\n",
    "from sklearn.metrics.pairwise import cosine_similarity\n",
    "\n",
    "categorical_features = ['alcohol', 'smoking_area', 'dress_code', 'accessibility', 'price', 'Rambience', 'franchise', 'area', 'other_services', 'Rpayment', 'Rcuisine']\n",
    "numerical_features = ['latitude', 'longitude', 'rating', 'food_rating', 'service_rating']\n",
    "\n",
    "preprocessor = ColumnTransformer(\n",
    "    transformers=[\n",
    "        ('num', StandardScaler(), numerical_features),\n",
    "        ('cat', OneHotEncoder(), categorical_features)])\n",
    "\n",
    "pipeline = Pipeline(steps=[('preprocessor', preprocessor)])\n",
    "locales_preprocessed = pipeline.fit_transform(locales)\n",
    "\n",
    "similarity_matrix = cosine_similarity(locales_preprocessed, locales_preprocessed)\n",
    "\n",
    "print(similarity_matrix)"
   ]
  },
  {
   "cell_type": "code",
   "execution_count": 9,
   "metadata": {},
   "outputs": [
    {
     "name": "stdout",
     "output_type": "stream",
     "text": [
      "                                    name  \\\n",
      "522            Hamburguesas Valle Dorado   \n",
      "639                    Hamburguesas saul   \n",
      "57             Abondance Restaurante Bar   \n",
      "645                      Rincon Huasteco   \n",
      "669                         Cafe Chaires   \n",
      "705                 Restaurant Orizatlan   \n",
      "898                     sirloin stockade   \n",
      "330                            Luna Cafe   \n",
      "441                           Potzocalli   \n",
      "354                          el pueblito   \n",
      "261      Restaurante la Estrella de Dima   \n",
      "465  Restaurante El Chivero S.A. de C.V.   \n",
      "531                          dairy queen   \n",
      "54                        Restaurante 75   \n",
      "3                        puesto de tacos   \n",
      "\n",
      "                                      address             city    rating  \\\n",
      "522                                 Av. Coral  San Luis Potosi  0.800000   \n",
      "639  Av. Saan Luis enttre moctezuma y salinas  San Luis Potosi  0.600000   \n",
      "57                Industrias 908 Valle Dorado  San Luis Potosi  0.500000   \n",
      "645                                         ?                ?  0.916667   \n",
      "669                                         ?  San Luis Potosi  1.000000   \n",
      "705                  Pascual M. Hernandez 240  San Luis Potosi  0.875000   \n",
      "898                                         ?                ?  0.750000   \n",
      "330                   Francisco I. Madero 215  San Luis Potosi  1.176471   \n",
      "441                      Carretera Central Sn  San Luis Potosi  1.181818   \n",
      "354                                         ?                ?  1.000000   \n",
      "261           Soledad Sn Arboledas de Soledad          Soledad  1.250000   \n",
      "465                  Angel Veral 328 Altamira  San Luis Potosi  0.882353   \n",
      "531                                         ?                ?  1.166667   \n",
      "54         Villa de Pozos 4497 Villa de Pozos  San Luis Potosi  0.875000   \n",
      "3      esquina santos degollado y leon guzman           s.l.p.  1.281250   \n",
      "\n",
      "     food_rating  service_rating  \n",
      "522     1.400000        0.600000  \n",
      "639     0.600000        0.400000  \n",
      "57      0.500000        0.750000  \n",
      "645     1.166667        0.916667  \n",
      "669     1.000000        0.933333  \n",
      "705     1.375000        1.000000  \n",
      "898     0.750000        1.000000  \n",
      "330     1.176471        1.000000  \n",
      "441     1.181818        1.000000  \n",
      "354     1.200000        1.200000  \n",
      "261     1.250000        1.000000  \n",
      "465     1.058824        0.705882  \n",
      "531     1.166667        1.166667  \n",
      "54      1.000000        0.750000  \n",
      "3       1.343750        0.937500  \n"
     ]
    }
   ],
   "source": [
    "def recommend_locales_based_on_similarity(local_input, n=15):\n",
    "    try:\n",
    "        local_index = locales.loc[locales.name == local_input].index[0]\n",
    "    except IndexError:\n",
    "        return \"Local no encontrado. Asegúrate de que el nombre sea correcto.\"\n",
    "\n",
    "    similarity_score = list(enumerate(similarity_matrix[local_index]))\n",
    "    similarity_score = sorted(similarity_score, key=lambda x: x[1], reverse=True)\n",
    "    similarity_score = similarity_score[1:n+1]\n",
    "    local_indices = [i[0] for i in similarity_score]\n",
    "\n",
    "    return locales[['name', 'address', 'city', 'rating', 'food_rating', 'service_rating']].iloc[local_indices]\n",
    "\n",
    "recomendaciones = recommend_locales_based_on_similarity('carnitas_mata', n=15)\n",
    "print(recomendaciones)"
   ]
  },
  {
   "cell_type": "markdown",
   "metadata": {},
   "source": [
    "# SR usando Surprise"
   ]
  },
  {
   "cell_type": "code",
   "execution_count": 10,
   "metadata": {},
   "outputs": [
    {
     "name": "stdout",
     "output_type": "stream",
     "text": [
      "     userID  placeID  rating  food_rating  service_rating   latitude  \\\n",
      "0     U1077   135085       2            2               2  22.150802   \n",
      "1     U1077   135038       2            2               1  22.155651   \n",
      "2     U1077   132825       2            2               2  22.147392   \n",
      "3     U1077   135060       1            2               2  22.156883   \n",
      "4     U1068   135104       1            1               2  23.752982   \n",
      "...     ...      ...     ...          ...             ...        ...   \n",
      "1156  U1043   132630       1            1               1  23.752931   \n",
      "1157  U1011   132715       1            1               0  23.732423   \n",
      "1158  U1068   132733       1            1               0  23.752707   \n",
      "1159  U1068   132594       1            1               1  23.752168   \n",
      "1160  U1068   132660       0            0               0  23.752943   \n",
      "\n",
      "       longitude                                     the_geom_meter  \\\n",
      "0    -100.982680  0101000020957F00009F823DA6094858C18A2D4D37F9A4...   \n",
      "1    -100.977767  0101000020957F0000506149736E4758C1A8BC93DA48A3...   \n",
      "2    -100.983092  0101000020957F00001AD016568C4858C1243261274BA5...   \n",
      "3    -100.978485  0101000020957F00004C95C918394758C17A5C44896AA3...   \n",
      "4     -99.168434  0101000020957F00007CDF5EAFC58157C1645743B23E4F...   \n",
      "...          ...                                                ...   \n",
      "1156  -99.164473  0101000020957F000047206572DE8157C1D3315028254E...   \n",
      "1157  -99.158660  0101000020957F00004609B96F198557C11973490A874D...   \n",
      "1158  -99.162565  0101000020957F0000F2F4110CF28157C1DCFD7C1BA04D...   \n",
      "1159  -99.165709  0101000020957F00003AE4C6DBF48157C1CE38ECC1864E...   \n",
      "1160  -99.164679  0101000020957F00003D7905C9DC8157C13FCD1AB7334E...   \n",
      "\n",
      "                                       name  \\\n",
      "0                    Tortas Locas Hipocampo   \n",
      "1                     Restaurant la Chalita   \n",
      "2                           puesto de tacos   \n",
      "3                   Restaurante Marisco Sam   \n",
      "4                                      vips   \n",
      "...                                     ...   \n",
      "1156                             palomo tec   \n",
      "1157                   tacos de la estacion   \n",
      "1158                          Little Cesarz   \n",
      "1159     tacos de barbacoa enfrente del Tec   \n",
      "1160  carnitas mata calle Emilio Portes Gil   \n",
      "\n",
      "                                     address  ... url Rambience franchise  \\\n",
      "0             Venustiano Carranza 719 Centro  ...   ?  familiar         f   \n",
      "1         Guajardo Sn San Luis Potosi Centro  ...   ?  familiar         f   \n",
      "2     esquina santos degollado y leon guzman  ...   ?  familiar         f   \n",
      "3                 Ignacio Allende 785 Centro  ...   ?  familiar         f   \n",
      "4                                          ?  ...   ?  familiar         t   \n",
      "...                                      ...  ...  ..       ...       ...   \n",
      "1156                 blvrd emilio portes gil  ...   ?  familiar         f   \n",
      "1157                                       ?  ...   ?     quiet         f   \n",
      "1158                                       ?  ...   ?  familiar         t   \n",
      "1159                                       ?  ...   ?  familiar         f   \n",
      "1160                       Emilio Portes Gil  ...   ?  familiar         f   \n",
      "\n",
      "        area other_services Rpayment   Rcuisine         hours  \\\n",
      "0     closed           none     cash  Fast_Food  00:00-00:00;   \n",
      "1     closed           none     cash        NaN  08:00-17:00;   \n",
      "2       open           none     cash    Mexican  09:00-12:00;   \n",
      "3     closed           none     cash    Seafood  11:30-19:00;   \n",
      "4     closed        variety     cash    Mexican  00:00-23:30;   \n",
      "...      ...            ...      ...        ...           ...   \n",
      "1156  closed           none      NaN    Mexican  00:00-23:30;   \n",
      "1157    open           none     cash    Mexican  09:00-16:00;   \n",
      "1158  closed           none     cash   Pizzeria  10:30-22:30;   \n",
      "1159    open           none     cash    Mexican  09:30-23:30;   \n",
      "1160  closed           none      NaN        NaN  00:00-23:30;   \n",
      "\n",
      "                      days parking_lot  \n",
      "0     Mon;Tue;Wed;Thu;Fri;      public  \n",
      "1     Mon;Tue;Wed;Thu;Fri;        none  \n",
      "2     Mon;Tue;Wed;Thu;Fri;        none  \n",
      "3     Mon;Tue;Wed;Thu;Fri;        none  \n",
      "4     Mon;Tue;Wed;Thu;Fri;         yes  \n",
      "...                    ...         ...  \n",
      "1156  Mon;Tue;Wed;Thu;Fri;        none  \n",
      "1157  Mon;Tue;Wed;Thu;Fri;        none  \n",
      "1158  Mon;Tue;Wed;Thu;Fri;         yes  \n",
      "1159  Mon;Tue;Wed;Thu;Fri;      public  \n",
      "1160  Mon;Tue;Wed;Thu;Fri;        none  \n",
      "\n",
      "[1161 rows x 30 columns]\n"
     ]
    }
   ],
   "source": [
    "print(df_ratings)"
   ]
  },
  {
   "cell_type": "code",
   "execution_count": 11,
   "metadata": {},
   "outputs": [],
   "source": [
    "from surprise import Dataset\n",
    "from surprise import Reader\n",
    "\n",
    "reader = Reader(rating_scale=(0, 2))\n",
    "data = Dataset.load_from_df(df_ratings[['userID', 'placeID', 'rating']], reader)"
   ]
  },
  {
   "cell_type": "code",
   "execution_count": 12,
   "metadata": {},
   "outputs": [
    {
     "name": "stdout",
     "output_type": "stream",
     "text": [
      "Processing epoch 0\n",
      "Processing epoch 1\n",
      "Processing epoch 2\n",
      "Processing epoch 3\n",
      "Processing epoch 4\n",
      "Processing epoch 5\n",
      "Processing epoch 6\n",
      "Processing epoch 7\n",
      "Processing epoch 8\n",
      "Processing epoch 9\n",
      "Processing epoch 0\n",
      "Processing epoch 1\n",
      "Processing epoch 2\n",
      "Processing epoch 3\n",
      "Processing epoch 4\n",
      "Processing epoch 5\n",
      "Processing epoch 6\n",
      "Processing epoch 7\n",
      "Processing epoch 8\n",
      "Processing epoch 9\n",
      "Processing epoch 0\n",
      "Processing epoch 1\n",
      "Processing epoch 2\n",
      "Processing epoch 3\n",
      "Processing epoch 4\n",
      "Processing epoch 5\n",
      "Processing epoch 6\n",
      "Processing epoch 7\n",
      "Processing epoch 8\n",
      "Processing epoch 9\n",
      "Evaluating RMSE, MAE of algorithm SVD on 3 split(s).\n",
      "\n",
      "                  Fold 1  Fold 2  Fold 3  Mean    Std     \n",
      "RMSE (testset)    0.7152  0.7342  0.6985  0.7160  0.0146  \n",
      "MAE (testset)     0.6167  0.6339  0.5947  0.6151  0.0160  \n",
      "Fit time          0.01    0.01    0.00    0.01    0.00    \n",
      "Test time         0.01    0.01    0.01    0.01    0.00    \n"
     ]
    },
    {
     "data": {
      "text/plain": [
       "{'test_rmse': array([0.71520697, 0.73415813, 0.69849138]),\n",
       " 'test_mae': array([0.6166756 , 0.63385178, 0.59471754]),\n",
       " 'fit_time': (0.00797581672668457, 0.006070137023925781, 0.004473447799682617),\n",
       " 'test_time': (0.011011362075805664,\n",
       "  0.006634950637817383,\n",
       "  0.00956416130065918)}"
      ]
     },
     "execution_count": 12,
     "metadata": {},
     "output_type": "execute_result"
    }
   ],
   "source": [
    "from surprise import SVD\n",
    "from surprise.model_selection import cross_validate\n",
    "\n",
    "svd = SVD(verbose=True, n_epochs=10)\n",
    "cross_validate(svd, data, measures=['RMSE', 'MAE'], cv=3, verbose=True)"
   ]
  },
  {
   "cell_type": "code",
   "execution_count": 13,
   "metadata": {},
   "outputs": [
    {
     "name": "stdout",
     "output_type": "stream",
     "text": [
      "Processing epoch 0\n",
      "Processing epoch 1\n",
      "Processing epoch 2\n",
      "Processing epoch 3\n",
      "Processing epoch 4\n",
      "Processing epoch 5\n",
      "Processing epoch 6\n",
      "Processing epoch 7\n",
      "Processing epoch 8\n",
      "Processing epoch 9\n"
     ]
    },
    {
     "data": {
      "text/plain": [
       "<surprise.prediction_algorithms.matrix_factorization.SVD at 0x29c81755790>"
      ]
     },
     "execution_count": 13,
     "metadata": {},
     "output_type": "execute_result"
    }
   ],
   "source": [
    "trainset = data.build_full_trainset()\n",
    "svd.fit(trainset)"
   ]
  },
  {
   "cell_type": "code",
   "execution_count": 14,
   "metadata": {},
   "outputs": [
    {
     "data": {
      "text/plain": [
       "Prediction(uid=10, iid=100, r_ui=None, est=1.1998277347114557, details={'was_impossible': False})"
      ]
     },
     "execution_count": 14,
     "metadata": {},
     "output_type": "execute_result"
    }
   ],
   "source": [
    "svd.predict(uid=10, iid=100)"
   ]
  },
  {
   "cell_type": "code",
   "execution_count": 15,
   "metadata": {},
   "outputs": [
    {
     "name": "stdout",
     "output_type": "stream",
     "text": [
      "     userID  placeID  rating  food_rating  service_rating   latitude  \\\n",
      "0     U1077   135085       2            2               2  22.150802   \n",
      "1     U1077   135038       2            2               1  22.155651   \n",
      "2     U1077   132825       2            2               2  22.147392   \n",
      "3     U1077   135060       1            2               2  22.156883   \n",
      "4     U1068   135104       1            1               2  23.752982   \n",
      "...     ...      ...     ...          ...             ...        ...   \n",
      "1156  U1043   132630       1            1               1  23.752931   \n",
      "1157  U1011   132715       1            1               0  23.732423   \n",
      "1158  U1068   132733       1            1               0  23.752707   \n",
      "1159  U1068   132594       1            1               1  23.752168   \n",
      "1160  U1068   132660       0            0               0  23.752943   \n",
      "\n",
      "       longitude                                     the_geom_meter  \\\n",
      "0    -100.982680  0101000020957F00009F823DA6094858C18A2D4D37F9A4...   \n",
      "1    -100.977767  0101000020957F0000506149736E4758C1A8BC93DA48A3...   \n",
      "2    -100.983092  0101000020957F00001AD016568C4858C1243261274BA5...   \n",
      "3    -100.978485  0101000020957F00004C95C918394758C17A5C44896AA3...   \n",
      "4     -99.168434  0101000020957F00007CDF5EAFC58157C1645743B23E4F...   \n",
      "...          ...                                                ...   \n",
      "1156  -99.164473  0101000020957F000047206572DE8157C1D3315028254E...   \n",
      "1157  -99.158660  0101000020957F00004609B96F198557C11973490A874D...   \n",
      "1158  -99.162565  0101000020957F0000F2F4110CF28157C1DCFD7C1BA04D...   \n",
      "1159  -99.165709  0101000020957F00003AE4C6DBF48157C1CE38ECC1864E...   \n",
      "1160  -99.164679  0101000020957F00003D7905C9DC8157C13FCD1AB7334E...   \n",
      "\n",
      "                                       name  \\\n",
      "0                    Tortas Locas Hipocampo   \n",
      "1                     Restaurant la Chalita   \n",
      "2                           puesto de tacos   \n",
      "3                   Restaurante Marisco Sam   \n",
      "4                                      vips   \n",
      "...                                     ...   \n",
      "1156                             palomo tec   \n",
      "1157                   tacos de la estacion   \n",
      "1158                          Little Cesarz   \n",
      "1159     tacos de barbacoa enfrente del Tec   \n",
      "1160  carnitas mata calle Emilio Portes Gil   \n",
      "\n",
      "                                     address  ... url Rambience franchise  \\\n",
      "0             Venustiano Carranza 719 Centro  ...   ?  familiar         f   \n",
      "1         Guajardo Sn San Luis Potosi Centro  ...   ?  familiar         f   \n",
      "2     esquina santos degollado y leon guzman  ...   ?  familiar         f   \n",
      "3                 Ignacio Allende 785 Centro  ...   ?  familiar         f   \n",
      "4                                          ?  ...   ?  familiar         t   \n",
      "...                                      ...  ...  ..       ...       ...   \n",
      "1156                 blvrd emilio portes gil  ...   ?  familiar         f   \n",
      "1157                                       ?  ...   ?     quiet         f   \n",
      "1158                                       ?  ...   ?  familiar         t   \n",
      "1159                                       ?  ...   ?  familiar         f   \n",
      "1160                       Emilio Portes Gil  ...   ?  familiar         f   \n",
      "\n",
      "        area other_services Rpayment   Rcuisine         hours  \\\n",
      "0     closed           none     cash  Fast_Food  00:00-00:00;   \n",
      "1     closed           none     cash        NaN  08:00-17:00;   \n",
      "2       open           none     cash    Mexican  09:00-12:00;   \n",
      "3     closed           none     cash    Seafood  11:30-19:00;   \n",
      "4     closed        variety     cash    Mexican  00:00-23:30;   \n",
      "...      ...            ...      ...        ...           ...   \n",
      "1156  closed           none      NaN    Mexican  00:00-23:30;   \n",
      "1157    open           none     cash    Mexican  09:00-16:00;   \n",
      "1158  closed           none     cash   Pizzeria  10:30-22:30;   \n",
      "1159    open           none     cash    Mexican  09:30-23:30;   \n",
      "1160  closed           none      NaN        NaN  00:00-23:30;   \n",
      "\n",
      "                      days parking_lot  \n",
      "0     Mon;Tue;Wed;Thu;Fri;      public  \n",
      "1     Mon;Tue;Wed;Thu;Fri;        none  \n",
      "2     Mon;Tue;Wed;Thu;Fri;        none  \n",
      "3     Mon;Tue;Wed;Thu;Fri;        none  \n",
      "4     Mon;Tue;Wed;Thu;Fri;         yes  \n",
      "...                    ...         ...  \n",
      "1156  Mon;Tue;Wed;Thu;Fri;        none  \n",
      "1157  Mon;Tue;Wed;Thu;Fri;        none  \n",
      "1158  Mon;Tue;Wed;Thu;Fri;         yes  \n",
      "1159  Mon;Tue;Wed;Thu;Fri;      public  \n",
      "1160  Mon;Tue;Wed;Thu;Fri;        none  \n",
      "\n",
      "[1161 rows x 30 columns]\n"
     ]
    }
   ],
   "source": [
    "print(df_ratings)"
   ]
  },
  {
   "cell_type": "code",
   "execution_count": 16,
   "metadata": {},
   "outputs": [
    {
     "data": {
      "text/html": [
       "<div>\n",
       "<style scoped>\n",
       "    .dataframe tbody tr th:only-of-type {\n",
       "        vertical-align: middle;\n",
       "    }\n",
       "\n",
       "    .dataframe tbody tr th {\n",
       "        vertical-align: top;\n",
       "    }\n",
       "\n",
       "    .dataframe thead th {\n",
       "        text-align: right;\n",
       "    }\n",
       "</style>\n",
       "<table border=\"1\" class=\"dataframe\">\n",
       "  <thead>\n",
       "    <tr style=\"text-align: right;\">\n",
       "      <th></th>\n",
       "      <th>userID</th>\n",
       "      <th>placeID</th>\n",
       "      <th>rating</th>\n",
       "      <th>food_rating</th>\n",
       "      <th>service_rating</th>\n",
       "      <th>latitude</th>\n",
       "      <th>longitude</th>\n",
       "      <th>the_geom_meter</th>\n",
       "      <th>name</th>\n",
       "      <th>address</th>\n",
       "      <th>...</th>\n",
       "      <th>url</th>\n",
       "      <th>Rambience</th>\n",
       "      <th>franchise</th>\n",
       "      <th>area</th>\n",
       "      <th>other_services</th>\n",
       "      <th>Rpayment</th>\n",
       "      <th>Rcuisine</th>\n",
       "      <th>hours</th>\n",
       "      <th>days</th>\n",
       "      <th>parking_lot</th>\n",
       "    </tr>\n",
       "  </thead>\n",
       "  <tbody>\n",
       "    <tr>\n",
       "      <th>0</th>\n",
       "      <td>U1077</td>\n",
       "      <td>135085</td>\n",
       "      <td>2</td>\n",
       "      <td>2</td>\n",
       "      <td>2</td>\n",
       "      <td>22.150802</td>\n",
       "      <td>-100.98268</td>\n",
       "      <td>0101000020957F00009F823DA6094858C18A2D4D37F9A4...</td>\n",
       "      <td>Tortas Locas Hipocampo</td>\n",
       "      <td>Venustiano Carranza 719 Centro</td>\n",
       "      <td>...</td>\n",
       "      <td>?</td>\n",
       "      <td>familiar</td>\n",
       "      <td>f</td>\n",
       "      <td>closed</td>\n",
       "      <td>none</td>\n",
       "      <td>cash</td>\n",
       "      <td>Fast_Food</td>\n",
       "      <td>00:00-00:00;</td>\n",
       "      <td>Mon;Tue;Wed;Thu;Fri;</td>\n",
       "      <td>public</td>\n",
       "    </tr>\n",
       "    <tr>\n",
       "      <th>68</th>\n",
       "      <td>U1108</td>\n",
       "      <td>135085</td>\n",
       "      <td>1</td>\n",
       "      <td>2</td>\n",
       "      <td>1</td>\n",
       "      <td>22.150802</td>\n",
       "      <td>-100.98268</td>\n",
       "      <td>0101000020957F00009F823DA6094858C18A2D4D37F9A4...</td>\n",
       "      <td>Tortas Locas Hipocampo</td>\n",
       "      <td>Venustiano Carranza 719 Centro</td>\n",
       "      <td>...</td>\n",
       "      <td>?</td>\n",
       "      <td>familiar</td>\n",
       "      <td>f</td>\n",
       "      <td>closed</td>\n",
       "      <td>none</td>\n",
       "      <td>cash</td>\n",
       "      <td>Fast_Food</td>\n",
       "      <td>00:00-00:00;</td>\n",
       "      <td>Mon;Tue;Wed;Thu;Fri;</td>\n",
       "      <td>public</td>\n",
       "    </tr>\n",
       "    <tr>\n",
       "      <th>211</th>\n",
       "      <td>U1081</td>\n",
       "      <td>135085</td>\n",
       "      <td>1</td>\n",
       "      <td>2</td>\n",
       "      <td>1</td>\n",
       "      <td>22.150802</td>\n",
       "      <td>-100.98268</td>\n",
       "      <td>0101000020957F00009F823DA6094858C18A2D4D37F9A4...</td>\n",
       "      <td>Tortas Locas Hipocampo</td>\n",
       "      <td>Venustiano Carranza 719 Centro</td>\n",
       "      <td>...</td>\n",
       "      <td>?</td>\n",
       "      <td>familiar</td>\n",
       "      <td>f</td>\n",
       "      <td>closed</td>\n",
       "      <td>none</td>\n",
       "      <td>cash</td>\n",
       "      <td>Fast_Food</td>\n",
       "      <td>00:00-00:00;</td>\n",
       "      <td>Mon;Tue;Wed;Thu;Fri;</td>\n",
       "      <td>public</td>\n",
       "    </tr>\n",
       "    <tr>\n",
       "      <th>246</th>\n",
       "      <td>U1056</td>\n",
       "      <td>135085</td>\n",
       "      <td>2</td>\n",
       "      <td>2</td>\n",
       "      <td>2</td>\n",
       "      <td>22.150802</td>\n",
       "      <td>-100.98268</td>\n",
       "      <td>0101000020957F00009F823DA6094858C18A2D4D37F9A4...</td>\n",
       "      <td>Tortas Locas Hipocampo</td>\n",
       "      <td>Venustiano Carranza 719 Centro</td>\n",
       "      <td>...</td>\n",
       "      <td>?</td>\n",
       "      <td>familiar</td>\n",
       "      <td>f</td>\n",
       "      <td>closed</td>\n",
       "      <td>none</td>\n",
       "      <td>cash</td>\n",
       "      <td>Fast_Food</td>\n",
       "      <td>00:00-00:00;</td>\n",
       "      <td>Mon;Tue;Wed;Thu;Fri;</td>\n",
       "      <td>public</td>\n",
       "    </tr>\n",
       "    <tr>\n",
       "      <th>257</th>\n",
       "      <td>U1134</td>\n",
       "      <td>135085</td>\n",
       "      <td>2</td>\n",
       "      <td>1</td>\n",
       "      <td>2</td>\n",
       "      <td>22.150802</td>\n",
       "      <td>-100.98268</td>\n",
       "      <td>0101000020957F00009F823DA6094858C18A2D4D37F9A4...</td>\n",
       "      <td>Tortas Locas Hipocampo</td>\n",
       "      <td>Venustiano Carranza 719 Centro</td>\n",
       "      <td>...</td>\n",
       "      <td>?</td>\n",
       "      <td>familiar</td>\n",
       "      <td>f</td>\n",
       "      <td>closed</td>\n",
       "      <td>none</td>\n",
       "      <td>cash</td>\n",
       "      <td>Fast_Food</td>\n",
       "      <td>00:00-00:00;</td>\n",
       "      <td>Mon;Tue;Wed;Thu;Fri;</td>\n",
       "      <td>public</td>\n",
       "    </tr>\n",
       "    <tr>\n",
       "      <th>347</th>\n",
       "      <td>U1116</td>\n",
       "      <td>135085</td>\n",
       "      <td>2</td>\n",
       "      <td>2</td>\n",
       "      <td>2</td>\n",
       "      <td>22.150802</td>\n",
       "      <td>-100.98268</td>\n",
       "      <td>0101000020957F00009F823DA6094858C18A2D4D37F9A4...</td>\n",
       "      <td>Tortas Locas Hipocampo</td>\n",
       "      <td>Venustiano Carranza 719 Centro</td>\n",
       "      <td>...</td>\n",
       "      <td>?</td>\n",
       "      <td>familiar</td>\n",
       "      <td>f</td>\n",
       "      <td>closed</td>\n",
       "      <td>none</td>\n",
       "      <td>cash</td>\n",
       "      <td>Fast_Food</td>\n",
       "      <td>00:00-00:00;</td>\n",
       "      <td>Mon;Tue;Wed;Thu;Fri;</td>\n",
       "      <td>public</td>\n",
       "    </tr>\n",
       "    <tr>\n",
       "      <th>403</th>\n",
       "      <td>U1132</td>\n",
       "      <td>135085</td>\n",
       "      <td>2</td>\n",
       "      <td>2</td>\n",
       "      <td>2</td>\n",
       "      <td>22.150802</td>\n",
       "      <td>-100.98268</td>\n",
       "      <td>0101000020957F00009F823DA6094858C18A2D4D37F9A4...</td>\n",
       "      <td>Tortas Locas Hipocampo</td>\n",
       "      <td>Venustiano Carranza 719 Centro</td>\n",
       "      <td>...</td>\n",
       "      <td>?</td>\n",
       "      <td>familiar</td>\n",
       "      <td>f</td>\n",
       "      <td>closed</td>\n",
       "      <td>none</td>\n",
       "      <td>cash</td>\n",
       "      <td>Fast_Food</td>\n",
       "      <td>00:00-00:00;</td>\n",
       "      <td>Mon;Tue;Wed;Thu;Fri;</td>\n",
       "      <td>public</td>\n",
       "    </tr>\n",
       "    <tr>\n",
       "      <th>420</th>\n",
       "      <td>U1120</td>\n",
       "      <td>135085</td>\n",
       "      <td>0</td>\n",
       "      <td>0</td>\n",
       "      <td>0</td>\n",
       "      <td>22.150802</td>\n",
       "      <td>-100.98268</td>\n",
       "      <td>0101000020957F00009F823DA6094858C18A2D4D37F9A4...</td>\n",
       "      <td>Tortas Locas Hipocampo</td>\n",
       "      <td>Venustiano Carranza 719 Centro</td>\n",
       "      <td>...</td>\n",
       "      <td>?</td>\n",
       "      <td>familiar</td>\n",
       "      <td>f</td>\n",
       "      <td>closed</td>\n",
       "      <td>none</td>\n",
       "      <td>cash</td>\n",
       "      <td>Fast_Food</td>\n",
       "      <td>00:00-00:00;</td>\n",
       "      <td>Mon;Tue;Wed;Thu;Fri;</td>\n",
       "      <td>public</td>\n",
       "    </tr>\n",
       "    <tr>\n",
       "      <th>450</th>\n",
       "      <td>U1036</td>\n",
       "      <td>135085</td>\n",
       "      <td>2</td>\n",
       "      <td>2</td>\n",
       "      <td>2</td>\n",
       "      <td>22.150802</td>\n",
       "      <td>-100.98268</td>\n",
       "      <td>0101000020957F00009F823DA6094858C18A2D4D37F9A4...</td>\n",
       "      <td>Tortas Locas Hipocampo</td>\n",
       "      <td>Venustiano Carranza 719 Centro</td>\n",
       "      <td>...</td>\n",
       "      <td>?</td>\n",
       "      <td>familiar</td>\n",
       "      <td>f</td>\n",
       "      <td>closed</td>\n",
       "      <td>none</td>\n",
       "      <td>cash</td>\n",
       "      <td>Fast_Food</td>\n",
       "      <td>00:00-00:00;</td>\n",
       "      <td>Mon;Tue;Wed;Thu;Fri;</td>\n",
       "      <td>public</td>\n",
       "    </tr>\n",
       "    <tr>\n",
       "      <th>485</th>\n",
       "      <td>U1084</td>\n",
       "      <td>135085</td>\n",
       "      <td>2</td>\n",
       "      <td>2</td>\n",
       "      <td>2</td>\n",
       "      <td>22.150802</td>\n",
       "      <td>-100.98268</td>\n",
       "      <td>0101000020957F00009F823DA6094858C18A2D4D37F9A4...</td>\n",
       "      <td>Tortas Locas Hipocampo</td>\n",
       "      <td>Venustiano Carranza 719 Centro</td>\n",
       "      <td>...</td>\n",
       "      <td>?</td>\n",
       "      <td>familiar</td>\n",
       "      <td>f</td>\n",
       "      <td>closed</td>\n",
       "      <td>none</td>\n",
       "      <td>cash</td>\n",
       "      <td>Fast_Food</td>\n",
       "      <td>00:00-00:00;</td>\n",
       "      <td>Mon;Tue;Wed;Thu;Fri;</td>\n",
       "      <td>public</td>\n",
       "    </tr>\n",
       "    <tr>\n",
       "      <th>504</th>\n",
       "      <td>U1113</td>\n",
       "      <td>135085</td>\n",
       "      <td>1</td>\n",
       "      <td>2</td>\n",
       "      <td>1</td>\n",
       "      <td>22.150802</td>\n",
       "      <td>-100.98268</td>\n",
       "      <td>0101000020957F00009F823DA6094858C18A2D4D37F9A4...</td>\n",
       "      <td>Tortas Locas Hipocampo</td>\n",
       "      <td>Venustiano Carranza 719 Centro</td>\n",
       "      <td>...</td>\n",
       "      <td>?</td>\n",
       "      <td>familiar</td>\n",
       "      <td>f</td>\n",
       "      <td>closed</td>\n",
       "      <td>none</td>\n",
       "      <td>cash</td>\n",
       "      <td>Fast_Food</td>\n",
       "      <td>00:00-00:00;</td>\n",
       "      <td>Mon;Tue;Wed;Thu;Fri;</td>\n",
       "      <td>public</td>\n",
       "    </tr>\n",
       "    <tr>\n",
       "      <th>512</th>\n",
       "      <td>U1104</td>\n",
       "      <td>135085</td>\n",
       "      <td>2</td>\n",
       "      <td>2</td>\n",
       "      <td>1</td>\n",
       "      <td>22.150802</td>\n",
       "      <td>-100.98268</td>\n",
       "      <td>0101000020957F00009F823DA6094858C18A2D4D37F9A4...</td>\n",
       "      <td>Tortas Locas Hipocampo</td>\n",
       "      <td>Venustiano Carranza 719 Centro</td>\n",
       "      <td>...</td>\n",
       "      <td>?</td>\n",
       "      <td>familiar</td>\n",
       "      <td>f</td>\n",
       "      <td>closed</td>\n",
       "      <td>none</td>\n",
       "      <td>cash</td>\n",
       "      <td>Fast_Food</td>\n",
       "      <td>00:00-00:00;</td>\n",
       "      <td>Mon;Tue;Wed;Thu;Fri;</td>\n",
       "      <td>public</td>\n",
       "    </tr>\n",
       "    <tr>\n",
       "      <th>530</th>\n",
       "      <td>U1106</td>\n",
       "      <td>135085</td>\n",
       "      <td>2</td>\n",
       "      <td>2</td>\n",
       "      <td>2</td>\n",
       "      <td>22.150802</td>\n",
       "      <td>-100.98268</td>\n",
       "      <td>0101000020957F00009F823DA6094858C18A2D4D37F9A4...</td>\n",
       "      <td>Tortas Locas Hipocampo</td>\n",
       "      <td>Venustiano Carranza 719 Centro</td>\n",
       "      <td>...</td>\n",
       "      <td>?</td>\n",
       "      <td>familiar</td>\n",
       "      <td>f</td>\n",
       "      <td>closed</td>\n",
       "      <td>none</td>\n",
       "      <td>cash</td>\n",
       "      <td>Fast_Food</td>\n",
       "      <td>00:00-00:00;</td>\n",
       "      <td>Mon;Tue;Wed;Thu;Fri;</td>\n",
       "      <td>public</td>\n",
       "    </tr>\n",
       "    <tr>\n",
       "      <th>547</th>\n",
       "      <td>U1045</td>\n",
       "      <td>135085</td>\n",
       "      <td>2</td>\n",
       "      <td>2</td>\n",
       "      <td>2</td>\n",
       "      <td>22.150802</td>\n",
       "      <td>-100.98268</td>\n",
       "      <td>0101000020957F00009F823DA6094858C18A2D4D37F9A4...</td>\n",
       "      <td>Tortas Locas Hipocampo</td>\n",
       "      <td>Venustiano Carranza 719 Centro</td>\n",
       "      <td>...</td>\n",
       "      <td>?</td>\n",
       "      <td>familiar</td>\n",
       "      <td>f</td>\n",
       "      <td>closed</td>\n",
       "      <td>none</td>\n",
       "      <td>cash</td>\n",
       "      <td>Fast_Food</td>\n",
       "      <td>00:00-00:00;</td>\n",
       "      <td>Mon;Tue;Wed;Thu;Fri;</td>\n",
       "      <td>public</td>\n",
       "    </tr>\n",
       "    <tr>\n",
       "      <th>573</th>\n",
       "      <td>U1016</td>\n",
       "      <td>135085</td>\n",
       "      <td>2</td>\n",
       "      <td>2</td>\n",
       "      <td>0</td>\n",
       "      <td>22.150802</td>\n",
       "      <td>-100.98268</td>\n",
       "      <td>0101000020957F00009F823DA6094858C18A2D4D37F9A4...</td>\n",
       "      <td>Tortas Locas Hipocampo</td>\n",
       "      <td>Venustiano Carranza 719 Centro</td>\n",
       "      <td>...</td>\n",
       "      <td>?</td>\n",
       "      <td>familiar</td>\n",
       "      <td>f</td>\n",
       "      <td>closed</td>\n",
       "      <td>none</td>\n",
       "      <td>cash</td>\n",
       "      <td>Fast_Food</td>\n",
       "      <td>00:00-00:00;</td>\n",
       "      <td>Mon;Tue;Wed;Thu;Fri;</td>\n",
       "      <td>public</td>\n",
       "    </tr>\n",
       "    <tr>\n",
       "      <th>592</th>\n",
       "      <td>U1007</td>\n",
       "      <td>135085</td>\n",
       "      <td>1</td>\n",
       "      <td>2</td>\n",
       "      <td>0</td>\n",
       "      <td>22.150802</td>\n",
       "      <td>-100.98268</td>\n",
       "      <td>0101000020957F00009F823DA6094858C18A2D4D37F9A4...</td>\n",
       "      <td>Tortas Locas Hipocampo</td>\n",
       "      <td>Venustiano Carranza 719 Centro</td>\n",
       "      <td>...</td>\n",
       "      <td>?</td>\n",
       "      <td>familiar</td>\n",
       "      <td>f</td>\n",
       "      <td>closed</td>\n",
       "      <td>none</td>\n",
       "      <td>cash</td>\n",
       "      <td>Fast_Food</td>\n",
       "      <td>00:00-00:00;</td>\n",
       "      <td>Mon;Tue;Wed;Thu;Fri;</td>\n",
       "      <td>public</td>\n",
       "    </tr>\n",
       "    <tr>\n",
       "      <th>639</th>\n",
       "      <td>U1013</td>\n",
       "      <td>135085</td>\n",
       "      <td>1</td>\n",
       "      <td>2</td>\n",
       "      <td>0</td>\n",
       "      <td>22.150802</td>\n",
       "      <td>-100.98268</td>\n",
       "      <td>0101000020957F00009F823DA6094858C18A2D4D37F9A4...</td>\n",
       "      <td>Tortas Locas Hipocampo</td>\n",
       "      <td>Venustiano Carranza 719 Centro</td>\n",
       "      <td>...</td>\n",
       "      <td>?</td>\n",
       "      <td>familiar</td>\n",
       "      <td>f</td>\n",
       "      <td>closed</td>\n",
       "      <td>none</td>\n",
       "      <td>cash</td>\n",
       "      <td>Fast_Food</td>\n",
       "      <td>00:00-00:00;</td>\n",
       "      <td>Mon;Tue;Wed;Thu;Fri;</td>\n",
       "      <td>public</td>\n",
       "    </tr>\n",
       "    <tr>\n",
       "      <th>688</th>\n",
       "      <td>U1001</td>\n",
       "      <td>135085</td>\n",
       "      <td>0</td>\n",
       "      <td>1</td>\n",
       "      <td>1</td>\n",
       "      <td>22.150802</td>\n",
       "      <td>-100.98268</td>\n",
       "      <td>0101000020957F00009F823DA6094858C18A2D4D37F9A4...</td>\n",
       "      <td>Tortas Locas Hipocampo</td>\n",
       "      <td>Venustiano Carranza 719 Centro</td>\n",
       "      <td>...</td>\n",
       "      <td>?</td>\n",
       "      <td>familiar</td>\n",
       "      <td>f</td>\n",
       "      <td>closed</td>\n",
       "      <td>none</td>\n",
       "      <td>cash</td>\n",
       "      <td>Fast_Food</td>\n",
       "      <td>00:00-00:00;</td>\n",
       "      <td>Mon;Tue;Wed;Thu;Fri;</td>\n",
       "      <td>public</td>\n",
       "    </tr>\n",
       "    <tr>\n",
       "      <th>695</th>\n",
       "      <td>U1135</td>\n",
       "      <td>135085</td>\n",
       "      <td>0</td>\n",
       "      <td>0</td>\n",
       "      <td>0</td>\n",
       "      <td>22.150802</td>\n",
       "      <td>-100.98268</td>\n",
       "      <td>0101000020957F00009F823DA6094858C18A2D4D37F9A4...</td>\n",
       "      <td>Tortas Locas Hipocampo</td>\n",
       "      <td>Venustiano Carranza 719 Centro</td>\n",
       "      <td>...</td>\n",
       "      <td>?</td>\n",
       "      <td>familiar</td>\n",
       "      <td>f</td>\n",
       "      <td>closed</td>\n",
       "      <td>none</td>\n",
       "      <td>cash</td>\n",
       "      <td>Fast_Food</td>\n",
       "      <td>00:00-00:00;</td>\n",
       "      <td>Mon;Tue;Wed;Thu;Fri;</td>\n",
       "      <td>public</td>\n",
       "    </tr>\n",
       "    <tr>\n",
       "      <th>702</th>\n",
       "      <td>U1032</td>\n",
       "      <td>135085</td>\n",
       "      <td>1</td>\n",
       "      <td>1</td>\n",
       "      <td>1</td>\n",
       "      <td>22.150802</td>\n",
       "      <td>-100.98268</td>\n",
       "      <td>0101000020957F00009F823DA6094858C18A2D4D37F9A4...</td>\n",
       "      <td>Tortas Locas Hipocampo</td>\n",
       "      <td>Venustiano Carranza 719 Centro</td>\n",
       "      <td>...</td>\n",
       "      <td>?</td>\n",
       "      <td>familiar</td>\n",
       "      <td>f</td>\n",
       "      <td>closed</td>\n",
       "      <td>none</td>\n",
       "      <td>cash</td>\n",
       "      <td>Fast_Food</td>\n",
       "      <td>00:00-00:00;</td>\n",
       "      <td>Mon;Tue;Wed;Thu;Fri;</td>\n",
       "      <td>public</td>\n",
       "    </tr>\n",
       "    <tr>\n",
       "      <th>726</th>\n",
       "      <td>U1062</td>\n",
       "      <td>135085</td>\n",
       "      <td>0</td>\n",
       "      <td>0</td>\n",
       "      <td>0</td>\n",
       "      <td>22.150802</td>\n",
       "      <td>-100.98268</td>\n",
       "      <td>0101000020957F00009F823DA6094858C18A2D4D37F9A4...</td>\n",
       "      <td>Tortas Locas Hipocampo</td>\n",
       "      <td>Venustiano Carranza 719 Centro</td>\n",
       "      <td>...</td>\n",
       "      <td>?</td>\n",
       "      <td>familiar</td>\n",
       "      <td>f</td>\n",
       "      <td>closed</td>\n",
       "      <td>none</td>\n",
       "      <td>cash</td>\n",
       "      <td>Fast_Food</td>\n",
       "      <td>00:00-00:00;</td>\n",
       "      <td>Mon;Tue;Wed;Thu;Fri;</td>\n",
       "      <td>public</td>\n",
       "    </tr>\n",
       "    <tr>\n",
       "      <th>730</th>\n",
       "      <td>U1092</td>\n",
       "      <td>135085</td>\n",
       "      <td>0</td>\n",
       "      <td>0</td>\n",
       "      <td>0</td>\n",
       "      <td>22.150802</td>\n",
       "      <td>-100.98268</td>\n",
       "      <td>0101000020957F00009F823DA6094858C18A2D4D37F9A4...</td>\n",
       "      <td>Tortas Locas Hipocampo</td>\n",
       "      <td>Venustiano Carranza 719 Centro</td>\n",
       "      <td>...</td>\n",
       "      <td>?</td>\n",
       "      <td>familiar</td>\n",
       "      <td>f</td>\n",
       "      <td>closed</td>\n",
       "      <td>none</td>\n",
       "      <td>cash</td>\n",
       "      <td>Fast_Food</td>\n",
       "      <td>00:00-00:00;</td>\n",
       "      <td>Mon;Tue;Wed;Thu;Fri;</td>\n",
       "      <td>public</td>\n",
       "    </tr>\n",
       "    <tr>\n",
       "      <th>759</th>\n",
       "      <td>U1109</td>\n",
       "      <td>135085</td>\n",
       "      <td>2</td>\n",
       "      <td>2</td>\n",
       "      <td>2</td>\n",
       "      <td>22.150802</td>\n",
       "      <td>-100.98268</td>\n",
       "      <td>0101000020957F00009F823DA6094858C18A2D4D37F9A4...</td>\n",
       "      <td>Tortas Locas Hipocampo</td>\n",
       "      <td>Venustiano Carranza 719 Centro</td>\n",
       "      <td>...</td>\n",
       "      <td>?</td>\n",
       "      <td>familiar</td>\n",
       "      <td>f</td>\n",
       "      <td>closed</td>\n",
       "      <td>none</td>\n",
       "      <td>cash</td>\n",
       "      <td>Fast_Food</td>\n",
       "      <td>00:00-00:00;</td>\n",
       "      <td>Mon;Tue;Wed;Thu;Fri;</td>\n",
       "      <td>public</td>\n",
       "    </tr>\n",
       "    <tr>\n",
       "      <th>782</th>\n",
       "      <td>U1122</td>\n",
       "      <td>135085</td>\n",
       "      <td>2</td>\n",
       "      <td>2</td>\n",
       "      <td>1</td>\n",
       "      <td>22.150802</td>\n",
       "      <td>-100.98268</td>\n",
       "      <td>0101000020957F00009F823DA6094858C18A2D4D37F9A4...</td>\n",
       "      <td>Tortas Locas Hipocampo</td>\n",
       "      <td>Venustiano Carranza 719 Centro</td>\n",
       "      <td>...</td>\n",
       "      <td>?</td>\n",
       "      <td>familiar</td>\n",
       "      <td>f</td>\n",
       "      <td>closed</td>\n",
       "      <td>none</td>\n",
       "      <td>cash</td>\n",
       "      <td>Fast_Food</td>\n",
       "      <td>00:00-00:00;</td>\n",
       "      <td>Mon;Tue;Wed;Thu;Fri;</td>\n",
       "      <td>public</td>\n",
       "    </tr>\n",
       "    <tr>\n",
       "      <th>790</th>\n",
       "      <td>U1098</td>\n",
       "      <td>135085</td>\n",
       "      <td>1</td>\n",
       "      <td>2</td>\n",
       "      <td>1</td>\n",
       "      <td>22.150802</td>\n",
       "      <td>-100.98268</td>\n",
       "      <td>0101000020957F00009F823DA6094858C18A2D4D37F9A4...</td>\n",
       "      <td>Tortas Locas Hipocampo</td>\n",
       "      <td>Venustiano Carranza 719 Centro</td>\n",
       "      <td>...</td>\n",
       "      <td>?</td>\n",
       "      <td>familiar</td>\n",
       "      <td>f</td>\n",
       "      <td>closed</td>\n",
       "      <td>none</td>\n",
       "      <td>cash</td>\n",
       "      <td>Fast_Food</td>\n",
       "      <td>00:00-00:00;</td>\n",
       "      <td>Mon;Tue;Wed;Thu;Fri;</td>\n",
       "      <td>public</td>\n",
       "    </tr>\n",
       "    <tr>\n",
       "      <th>804</th>\n",
       "      <td>U1033</td>\n",
       "      <td>135085</td>\n",
       "      <td>2</td>\n",
       "      <td>2</td>\n",
       "      <td>2</td>\n",
       "      <td>22.150802</td>\n",
       "      <td>-100.98268</td>\n",
       "      <td>0101000020957F00009F823DA6094858C18A2D4D37F9A4...</td>\n",
       "      <td>Tortas Locas Hipocampo</td>\n",
       "      <td>Venustiano Carranza 719 Centro</td>\n",
       "      <td>...</td>\n",
       "      <td>?</td>\n",
       "      <td>familiar</td>\n",
       "      <td>f</td>\n",
       "      <td>closed</td>\n",
       "      <td>none</td>\n",
       "      <td>cash</td>\n",
       "      <td>Fast_Food</td>\n",
       "      <td>00:00-00:00;</td>\n",
       "      <td>Mon;Tue;Wed;Thu;Fri;</td>\n",
       "      <td>public</td>\n",
       "    </tr>\n",
       "    <tr>\n",
       "      <th>825</th>\n",
       "      <td>U1089</td>\n",
       "      <td>135085</td>\n",
       "      <td>1</td>\n",
       "      <td>1</td>\n",
       "      <td>1</td>\n",
       "      <td>22.150802</td>\n",
       "      <td>-100.98268</td>\n",
       "      <td>0101000020957F00009F823DA6094858C18A2D4D37F9A4...</td>\n",
       "      <td>Tortas Locas Hipocampo</td>\n",
       "      <td>Venustiano Carranza 719 Centro</td>\n",
       "      <td>...</td>\n",
       "      <td>?</td>\n",
       "      <td>familiar</td>\n",
       "      <td>f</td>\n",
       "      <td>closed</td>\n",
       "      <td>none</td>\n",
       "      <td>cash</td>\n",
       "      <td>Fast_Food</td>\n",
       "      <td>00:00-00:00;</td>\n",
       "      <td>Mon;Tue;Wed;Thu;Fri;</td>\n",
       "      <td>public</td>\n",
       "    </tr>\n",
       "    <tr>\n",
       "      <th>855</th>\n",
       "      <td>U1027</td>\n",
       "      <td>135085</td>\n",
       "      <td>1</td>\n",
       "      <td>1</td>\n",
       "      <td>1</td>\n",
       "      <td>22.150802</td>\n",
       "      <td>-100.98268</td>\n",
       "      <td>0101000020957F00009F823DA6094858C18A2D4D37F9A4...</td>\n",
       "      <td>Tortas Locas Hipocampo</td>\n",
       "      <td>Venustiano Carranza 719 Centro</td>\n",
       "      <td>...</td>\n",
       "      <td>?</td>\n",
       "      <td>familiar</td>\n",
       "      <td>f</td>\n",
       "      <td>closed</td>\n",
       "      <td>none</td>\n",
       "      <td>cash</td>\n",
       "      <td>Fast_Food</td>\n",
       "      <td>00:00-00:00;</td>\n",
       "      <td>Mon;Tue;Wed;Thu;Fri;</td>\n",
       "      <td>public</td>\n",
       "    </tr>\n",
       "    <tr>\n",
       "      <th>861</th>\n",
       "      <td>U1029</td>\n",
       "      <td>135085</td>\n",
       "      <td>1</td>\n",
       "      <td>1</td>\n",
       "      <td>1</td>\n",
       "      <td>22.150802</td>\n",
       "      <td>-100.98268</td>\n",
       "      <td>0101000020957F00009F823DA6094858C18A2D4D37F9A4...</td>\n",
       "      <td>Tortas Locas Hipocampo</td>\n",
       "      <td>Venustiano Carranza 719 Centro</td>\n",
       "      <td>...</td>\n",
       "      <td>?</td>\n",
       "      <td>familiar</td>\n",
       "      <td>f</td>\n",
       "      <td>closed</td>\n",
       "      <td>none</td>\n",
       "      <td>cash</td>\n",
       "      <td>Fast_Food</td>\n",
       "      <td>00:00-00:00;</td>\n",
       "      <td>Mon;Tue;Wed;Thu;Fri;</td>\n",
       "      <td>public</td>\n",
       "    </tr>\n",
       "    <tr>\n",
       "      <th>870</th>\n",
       "      <td>U1086</td>\n",
       "      <td>135085</td>\n",
       "      <td>2</td>\n",
       "      <td>1</td>\n",
       "      <td>1</td>\n",
       "      <td>22.150802</td>\n",
       "      <td>-100.98268</td>\n",
       "      <td>0101000020957F00009F823DA6094858C18A2D4D37F9A4...</td>\n",
       "      <td>Tortas Locas Hipocampo</td>\n",
       "      <td>Venustiano Carranza 719 Centro</td>\n",
       "      <td>...</td>\n",
       "      <td>?</td>\n",
       "      <td>familiar</td>\n",
       "      <td>f</td>\n",
       "      <td>closed</td>\n",
       "      <td>none</td>\n",
       "      <td>cash</td>\n",
       "      <td>Fast_Food</td>\n",
       "      <td>00:00-00:00;</td>\n",
       "      <td>Mon;Tue;Wed;Thu;Fri;</td>\n",
       "      <td>public</td>\n",
       "    </tr>\n",
       "    <tr>\n",
       "      <th>882</th>\n",
       "      <td>U1137</td>\n",
       "      <td>135085</td>\n",
       "      <td>2</td>\n",
       "      <td>1</td>\n",
       "      <td>2</td>\n",
       "      <td>22.150802</td>\n",
       "      <td>-100.98268</td>\n",
       "      <td>0101000020957F00009F823DA6094858C18A2D4D37F9A4...</td>\n",
       "      <td>Tortas Locas Hipocampo</td>\n",
       "      <td>Venustiano Carranza 719 Centro</td>\n",
       "      <td>...</td>\n",
       "      <td>?</td>\n",
       "      <td>familiar</td>\n",
       "      <td>f</td>\n",
       "      <td>closed</td>\n",
       "      <td>none</td>\n",
       "      <td>cash</td>\n",
       "      <td>Fast_Food</td>\n",
       "      <td>00:00-00:00;</td>\n",
       "      <td>Mon;Tue;Wed;Thu;Fri;</td>\n",
       "      <td>public</td>\n",
       "    </tr>\n",
       "    <tr>\n",
       "      <th>922</th>\n",
       "      <td>U1046</td>\n",
       "      <td>135085</td>\n",
       "      <td>1</td>\n",
       "      <td>2</td>\n",
       "      <td>1</td>\n",
       "      <td>22.150802</td>\n",
       "      <td>-100.98268</td>\n",
       "      <td>0101000020957F00009F823DA6094858C18A2D4D37F9A4...</td>\n",
       "      <td>Tortas Locas Hipocampo</td>\n",
       "      <td>Venustiano Carranza 719 Centro</td>\n",
       "      <td>...</td>\n",
       "      <td>?</td>\n",
       "      <td>familiar</td>\n",
       "      <td>f</td>\n",
       "      <td>closed</td>\n",
       "      <td>none</td>\n",
       "      <td>cash</td>\n",
       "      <td>Fast_Food</td>\n",
       "      <td>00:00-00:00;</td>\n",
       "      <td>Mon;Tue;Wed;Thu;Fri;</td>\n",
       "      <td>public</td>\n",
       "    </tr>\n",
       "    <tr>\n",
       "      <th>964</th>\n",
       "      <td>U1090</td>\n",
       "      <td>135085</td>\n",
       "      <td>2</td>\n",
       "      <td>2</td>\n",
       "      <td>2</td>\n",
       "      <td>22.150802</td>\n",
       "      <td>-100.98268</td>\n",
       "      <td>0101000020957F00009F823DA6094858C18A2D4D37F9A4...</td>\n",
       "      <td>Tortas Locas Hipocampo</td>\n",
       "      <td>Venustiano Carranza 719 Centro</td>\n",
       "      <td>...</td>\n",
       "      <td>?</td>\n",
       "      <td>familiar</td>\n",
       "      <td>f</td>\n",
       "      <td>closed</td>\n",
       "      <td>none</td>\n",
       "      <td>cash</td>\n",
       "      <td>Fast_Food</td>\n",
       "      <td>00:00-00:00;</td>\n",
       "      <td>Mon;Tue;Wed;Thu;Fri;</td>\n",
       "      <td>public</td>\n",
       "    </tr>\n",
       "    <tr>\n",
       "      <th>999</th>\n",
       "      <td>U1059</td>\n",
       "      <td>135085</td>\n",
       "      <td>2</td>\n",
       "      <td>2</td>\n",
       "      <td>2</td>\n",
       "      <td>22.150802</td>\n",
       "      <td>-100.98268</td>\n",
       "      <td>0101000020957F00009F823DA6094858C18A2D4D37F9A4...</td>\n",
       "      <td>Tortas Locas Hipocampo</td>\n",
       "      <td>Venustiano Carranza 719 Centro</td>\n",
       "      <td>...</td>\n",
       "      <td>?</td>\n",
       "      <td>familiar</td>\n",
       "      <td>f</td>\n",
       "      <td>closed</td>\n",
       "      <td>none</td>\n",
       "      <td>cash</td>\n",
       "      <td>Fast_Food</td>\n",
       "      <td>00:00-00:00;</td>\n",
       "      <td>Mon;Tue;Wed;Thu;Fri;</td>\n",
       "      <td>public</td>\n",
       "    </tr>\n",
       "    <tr>\n",
       "      <th>1050</th>\n",
       "      <td>U1049</td>\n",
       "      <td>135085</td>\n",
       "      <td>0</td>\n",
       "      <td>0</td>\n",
       "      <td>0</td>\n",
       "      <td>22.150802</td>\n",
       "      <td>-100.98268</td>\n",
       "      <td>0101000020957F00009F823DA6094858C18A2D4D37F9A4...</td>\n",
       "      <td>Tortas Locas Hipocampo</td>\n",
       "      <td>Venustiano Carranza 719 Centro</td>\n",
       "      <td>...</td>\n",
       "      <td>?</td>\n",
       "      <td>familiar</td>\n",
       "      <td>f</td>\n",
       "      <td>closed</td>\n",
       "      <td>none</td>\n",
       "      <td>cash</td>\n",
       "      <td>Fast_Food</td>\n",
       "      <td>00:00-00:00;</td>\n",
       "      <td>Mon;Tue;Wed;Thu;Fri;</td>\n",
       "      <td>public</td>\n",
       "    </tr>\n",
       "    <tr>\n",
       "      <th>1071</th>\n",
       "      <td>U1002</td>\n",
       "      <td>135085</td>\n",
       "      <td>1</td>\n",
       "      <td>1</td>\n",
       "      <td>1</td>\n",
       "      <td>22.150802</td>\n",
       "      <td>-100.98268</td>\n",
       "      <td>0101000020957F00009F823DA6094858C18A2D4D37F9A4...</td>\n",
       "      <td>Tortas Locas Hipocampo</td>\n",
       "      <td>Venustiano Carranza 719 Centro</td>\n",
       "      <td>...</td>\n",
       "      <td>?</td>\n",
       "      <td>familiar</td>\n",
       "      <td>f</td>\n",
       "      <td>closed</td>\n",
       "      <td>none</td>\n",
       "      <td>cash</td>\n",
       "      <td>Fast_Food</td>\n",
       "      <td>00:00-00:00;</td>\n",
       "      <td>Mon;Tue;Wed;Thu;Fri;</td>\n",
       "      <td>public</td>\n",
       "    </tr>\n",
       "  </tbody>\n",
       "</table>\n",
       "<p>36 rows × 30 columns</p>\n",
       "</div>"
      ],
      "text/plain": [
       "     userID  placeID  rating  food_rating  service_rating   latitude  \\\n",
       "0     U1077   135085       2            2               2  22.150802   \n",
       "68    U1108   135085       1            2               1  22.150802   \n",
       "211   U1081   135085       1            2               1  22.150802   \n",
       "246   U1056   135085       2            2               2  22.150802   \n",
       "257   U1134   135085       2            1               2  22.150802   \n",
       "347   U1116   135085       2            2               2  22.150802   \n",
       "403   U1132   135085       2            2               2  22.150802   \n",
       "420   U1120   135085       0            0               0  22.150802   \n",
       "450   U1036   135085       2            2               2  22.150802   \n",
       "485   U1084   135085       2            2               2  22.150802   \n",
       "504   U1113   135085       1            2               1  22.150802   \n",
       "512   U1104   135085       2            2               1  22.150802   \n",
       "530   U1106   135085       2            2               2  22.150802   \n",
       "547   U1045   135085       2            2               2  22.150802   \n",
       "573   U1016   135085       2            2               0  22.150802   \n",
       "592   U1007   135085       1            2               0  22.150802   \n",
       "639   U1013   135085       1            2               0  22.150802   \n",
       "688   U1001   135085       0            1               1  22.150802   \n",
       "695   U1135   135085       0            0               0  22.150802   \n",
       "702   U1032   135085       1            1               1  22.150802   \n",
       "726   U1062   135085       0            0               0  22.150802   \n",
       "730   U1092   135085       0            0               0  22.150802   \n",
       "759   U1109   135085       2            2               2  22.150802   \n",
       "782   U1122   135085       2            2               1  22.150802   \n",
       "790   U1098   135085       1            2               1  22.150802   \n",
       "804   U1033   135085       2            2               2  22.150802   \n",
       "825   U1089   135085       1            1               1  22.150802   \n",
       "855   U1027   135085       1            1               1  22.150802   \n",
       "861   U1029   135085       1            1               1  22.150802   \n",
       "870   U1086   135085       2            1               1  22.150802   \n",
       "882   U1137   135085       2            1               2  22.150802   \n",
       "922   U1046   135085       1            2               1  22.150802   \n",
       "964   U1090   135085       2            2               2  22.150802   \n",
       "999   U1059   135085       2            2               2  22.150802   \n",
       "1050  U1049   135085       0            0               0  22.150802   \n",
       "1071  U1002   135085       1            1               1  22.150802   \n",
       "\n",
       "      longitude                                     the_geom_meter  \\\n",
       "0    -100.98268  0101000020957F00009F823DA6094858C18A2D4D37F9A4...   \n",
       "68   -100.98268  0101000020957F00009F823DA6094858C18A2D4D37F9A4...   \n",
       "211  -100.98268  0101000020957F00009F823DA6094858C18A2D4D37F9A4...   \n",
       "246  -100.98268  0101000020957F00009F823DA6094858C18A2D4D37F9A4...   \n",
       "257  -100.98268  0101000020957F00009F823DA6094858C18A2D4D37F9A4...   \n",
       "347  -100.98268  0101000020957F00009F823DA6094858C18A2D4D37F9A4...   \n",
       "403  -100.98268  0101000020957F00009F823DA6094858C18A2D4D37F9A4...   \n",
       "420  -100.98268  0101000020957F00009F823DA6094858C18A2D4D37F9A4...   \n",
       "450  -100.98268  0101000020957F00009F823DA6094858C18A2D4D37F9A4...   \n",
       "485  -100.98268  0101000020957F00009F823DA6094858C18A2D4D37F9A4...   \n",
       "504  -100.98268  0101000020957F00009F823DA6094858C18A2D4D37F9A4...   \n",
       "512  -100.98268  0101000020957F00009F823DA6094858C18A2D4D37F9A4...   \n",
       "530  -100.98268  0101000020957F00009F823DA6094858C18A2D4D37F9A4...   \n",
       "547  -100.98268  0101000020957F00009F823DA6094858C18A2D4D37F9A4...   \n",
       "573  -100.98268  0101000020957F00009F823DA6094858C18A2D4D37F9A4...   \n",
       "592  -100.98268  0101000020957F00009F823DA6094858C18A2D4D37F9A4...   \n",
       "639  -100.98268  0101000020957F00009F823DA6094858C18A2D4D37F9A4...   \n",
       "688  -100.98268  0101000020957F00009F823DA6094858C18A2D4D37F9A4...   \n",
       "695  -100.98268  0101000020957F00009F823DA6094858C18A2D4D37F9A4...   \n",
       "702  -100.98268  0101000020957F00009F823DA6094858C18A2D4D37F9A4...   \n",
       "726  -100.98268  0101000020957F00009F823DA6094858C18A2D4D37F9A4...   \n",
       "730  -100.98268  0101000020957F00009F823DA6094858C18A2D4D37F9A4...   \n",
       "759  -100.98268  0101000020957F00009F823DA6094858C18A2D4D37F9A4...   \n",
       "782  -100.98268  0101000020957F00009F823DA6094858C18A2D4D37F9A4...   \n",
       "790  -100.98268  0101000020957F00009F823DA6094858C18A2D4D37F9A4...   \n",
       "804  -100.98268  0101000020957F00009F823DA6094858C18A2D4D37F9A4...   \n",
       "825  -100.98268  0101000020957F00009F823DA6094858C18A2D4D37F9A4...   \n",
       "855  -100.98268  0101000020957F00009F823DA6094858C18A2D4D37F9A4...   \n",
       "861  -100.98268  0101000020957F00009F823DA6094858C18A2D4D37F9A4...   \n",
       "870  -100.98268  0101000020957F00009F823DA6094858C18A2D4D37F9A4...   \n",
       "882  -100.98268  0101000020957F00009F823DA6094858C18A2D4D37F9A4...   \n",
       "922  -100.98268  0101000020957F00009F823DA6094858C18A2D4D37F9A4...   \n",
       "964  -100.98268  0101000020957F00009F823DA6094858C18A2D4D37F9A4...   \n",
       "999  -100.98268  0101000020957F00009F823DA6094858C18A2D4D37F9A4...   \n",
       "1050 -100.98268  0101000020957F00009F823DA6094858C18A2D4D37F9A4...   \n",
       "1071 -100.98268  0101000020957F00009F823DA6094858C18A2D4D37F9A4...   \n",
       "\n",
       "                        name                         address  ... url  \\\n",
       "0     Tortas Locas Hipocampo  Venustiano Carranza 719 Centro  ...   ?   \n",
       "68    Tortas Locas Hipocampo  Venustiano Carranza 719 Centro  ...   ?   \n",
       "211   Tortas Locas Hipocampo  Venustiano Carranza 719 Centro  ...   ?   \n",
       "246   Tortas Locas Hipocampo  Venustiano Carranza 719 Centro  ...   ?   \n",
       "257   Tortas Locas Hipocampo  Venustiano Carranza 719 Centro  ...   ?   \n",
       "347   Tortas Locas Hipocampo  Venustiano Carranza 719 Centro  ...   ?   \n",
       "403   Tortas Locas Hipocampo  Venustiano Carranza 719 Centro  ...   ?   \n",
       "420   Tortas Locas Hipocampo  Venustiano Carranza 719 Centro  ...   ?   \n",
       "450   Tortas Locas Hipocampo  Venustiano Carranza 719 Centro  ...   ?   \n",
       "485   Tortas Locas Hipocampo  Venustiano Carranza 719 Centro  ...   ?   \n",
       "504   Tortas Locas Hipocampo  Venustiano Carranza 719 Centro  ...   ?   \n",
       "512   Tortas Locas Hipocampo  Venustiano Carranza 719 Centro  ...   ?   \n",
       "530   Tortas Locas Hipocampo  Venustiano Carranza 719 Centro  ...   ?   \n",
       "547   Tortas Locas Hipocampo  Venustiano Carranza 719 Centro  ...   ?   \n",
       "573   Tortas Locas Hipocampo  Venustiano Carranza 719 Centro  ...   ?   \n",
       "592   Tortas Locas Hipocampo  Venustiano Carranza 719 Centro  ...   ?   \n",
       "639   Tortas Locas Hipocampo  Venustiano Carranza 719 Centro  ...   ?   \n",
       "688   Tortas Locas Hipocampo  Venustiano Carranza 719 Centro  ...   ?   \n",
       "695   Tortas Locas Hipocampo  Venustiano Carranza 719 Centro  ...   ?   \n",
       "702   Tortas Locas Hipocampo  Venustiano Carranza 719 Centro  ...   ?   \n",
       "726   Tortas Locas Hipocampo  Venustiano Carranza 719 Centro  ...   ?   \n",
       "730   Tortas Locas Hipocampo  Venustiano Carranza 719 Centro  ...   ?   \n",
       "759   Tortas Locas Hipocampo  Venustiano Carranza 719 Centro  ...   ?   \n",
       "782   Tortas Locas Hipocampo  Venustiano Carranza 719 Centro  ...   ?   \n",
       "790   Tortas Locas Hipocampo  Venustiano Carranza 719 Centro  ...   ?   \n",
       "804   Tortas Locas Hipocampo  Venustiano Carranza 719 Centro  ...   ?   \n",
       "825   Tortas Locas Hipocampo  Venustiano Carranza 719 Centro  ...   ?   \n",
       "855   Tortas Locas Hipocampo  Venustiano Carranza 719 Centro  ...   ?   \n",
       "861   Tortas Locas Hipocampo  Venustiano Carranza 719 Centro  ...   ?   \n",
       "870   Tortas Locas Hipocampo  Venustiano Carranza 719 Centro  ...   ?   \n",
       "882   Tortas Locas Hipocampo  Venustiano Carranza 719 Centro  ...   ?   \n",
       "922   Tortas Locas Hipocampo  Venustiano Carranza 719 Centro  ...   ?   \n",
       "964   Tortas Locas Hipocampo  Venustiano Carranza 719 Centro  ...   ?   \n",
       "999   Tortas Locas Hipocampo  Venustiano Carranza 719 Centro  ...   ?   \n",
       "1050  Tortas Locas Hipocampo  Venustiano Carranza 719 Centro  ...   ?   \n",
       "1071  Tortas Locas Hipocampo  Venustiano Carranza 719 Centro  ...   ?   \n",
       "\n",
       "     Rambience franchise    area other_services Rpayment   Rcuisine  \\\n",
       "0     familiar         f  closed           none     cash  Fast_Food   \n",
       "68    familiar         f  closed           none     cash  Fast_Food   \n",
       "211   familiar         f  closed           none     cash  Fast_Food   \n",
       "246   familiar         f  closed           none     cash  Fast_Food   \n",
       "257   familiar         f  closed           none     cash  Fast_Food   \n",
       "347   familiar         f  closed           none     cash  Fast_Food   \n",
       "403   familiar         f  closed           none     cash  Fast_Food   \n",
       "420   familiar         f  closed           none     cash  Fast_Food   \n",
       "450   familiar         f  closed           none     cash  Fast_Food   \n",
       "485   familiar         f  closed           none     cash  Fast_Food   \n",
       "504   familiar         f  closed           none     cash  Fast_Food   \n",
       "512   familiar         f  closed           none     cash  Fast_Food   \n",
       "530   familiar         f  closed           none     cash  Fast_Food   \n",
       "547   familiar         f  closed           none     cash  Fast_Food   \n",
       "573   familiar         f  closed           none     cash  Fast_Food   \n",
       "592   familiar         f  closed           none     cash  Fast_Food   \n",
       "639   familiar         f  closed           none     cash  Fast_Food   \n",
       "688   familiar         f  closed           none     cash  Fast_Food   \n",
       "695   familiar         f  closed           none     cash  Fast_Food   \n",
       "702   familiar         f  closed           none     cash  Fast_Food   \n",
       "726   familiar         f  closed           none     cash  Fast_Food   \n",
       "730   familiar         f  closed           none     cash  Fast_Food   \n",
       "759   familiar         f  closed           none     cash  Fast_Food   \n",
       "782   familiar         f  closed           none     cash  Fast_Food   \n",
       "790   familiar         f  closed           none     cash  Fast_Food   \n",
       "804   familiar         f  closed           none     cash  Fast_Food   \n",
       "825   familiar         f  closed           none     cash  Fast_Food   \n",
       "855   familiar         f  closed           none     cash  Fast_Food   \n",
       "861   familiar         f  closed           none     cash  Fast_Food   \n",
       "870   familiar         f  closed           none     cash  Fast_Food   \n",
       "882   familiar         f  closed           none     cash  Fast_Food   \n",
       "922   familiar         f  closed           none     cash  Fast_Food   \n",
       "964   familiar         f  closed           none     cash  Fast_Food   \n",
       "999   familiar         f  closed           none     cash  Fast_Food   \n",
       "1050  familiar         f  closed           none     cash  Fast_Food   \n",
       "1071  familiar         f  closed           none     cash  Fast_Food   \n",
       "\n",
       "             hours                  days parking_lot  \n",
       "0     00:00-00:00;  Mon;Tue;Wed;Thu;Fri;      public  \n",
       "68    00:00-00:00;  Mon;Tue;Wed;Thu;Fri;      public  \n",
       "211   00:00-00:00;  Mon;Tue;Wed;Thu;Fri;      public  \n",
       "246   00:00-00:00;  Mon;Tue;Wed;Thu;Fri;      public  \n",
       "257   00:00-00:00;  Mon;Tue;Wed;Thu;Fri;      public  \n",
       "347   00:00-00:00;  Mon;Tue;Wed;Thu;Fri;      public  \n",
       "403   00:00-00:00;  Mon;Tue;Wed;Thu;Fri;      public  \n",
       "420   00:00-00:00;  Mon;Tue;Wed;Thu;Fri;      public  \n",
       "450   00:00-00:00;  Mon;Tue;Wed;Thu;Fri;      public  \n",
       "485   00:00-00:00;  Mon;Tue;Wed;Thu;Fri;      public  \n",
       "504   00:00-00:00;  Mon;Tue;Wed;Thu;Fri;      public  \n",
       "512   00:00-00:00;  Mon;Tue;Wed;Thu;Fri;      public  \n",
       "530   00:00-00:00;  Mon;Tue;Wed;Thu;Fri;      public  \n",
       "547   00:00-00:00;  Mon;Tue;Wed;Thu;Fri;      public  \n",
       "573   00:00-00:00;  Mon;Tue;Wed;Thu;Fri;      public  \n",
       "592   00:00-00:00;  Mon;Tue;Wed;Thu;Fri;      public  \n",
       "639   00:00-00:00;  Mon;Tue;Wed;Thu;Fri;      public  \n",
       "688   00:00-00:00;  Mon;Tue;Wed;Thu;Fri;      public  \n",
       "695   00:00-00:00;  Mon;Tue;Wed;Thu;Fri;      public  \n",
       "702   00:00-00:00;  Mon;Tue;Wed;Thu;Fri;      public  \n",
       "726   00:00-00:00;  Mon;Tue;Wed;Thu;Fri;      public  \n",
       "730   00:00-00:00;  Mon;Tue;Wed;Thu;Fri;      public  \n",
       "759   00:00-00:00;  Mon;Tue;Wed;Thu;Fri;      public  \n",
       "782   00:00-00:00;  Mon;Tue;Wed;Thu;Fri;      public  \n",
       "790   00:00-00:00;  Mon;Tue;Wed;Thu;Fri;      public  \n",
       "804   00:00-00:00;  Mon;Tue;Wed;Thu;Fri;      public  \n",
       "825   00:00-00:00;  Mon;Tue;Wed;Thu;Fri;      public  \n",
       "855   00:00-00:00;  Mon;Tue;Wed;Thu;Fri;      public  \n",
       "861   00:00-00:00;  Mon;Tue;Wed;Thu;Fri;      public  \n",
       "870   00:00-00:00;  Mon;Tue;Wed;Thu;Fri;      public  \n",
       "882   00:00-00:00;  Mon;Tue;Wed;Thu;Fri;      public  \n",
       "922   00:00-00:00;  Mon;Tue;Wed;Thu;Fri;      public  \n",
       "964   00:00-00:00;  Mon;Tue;Wed;Thu;Fri;      public  \n",
       "999   00:00-00:00;  Mon;Tue;Wed;Thu;Fri;      public  \n",
       "1050  00:00-00:00;  Mon;Tue;Wed;Thu;Fri;      public  \n",
       "1071  00:00-00:00;  Mon;Tue;Wed;Thu;Fri;      public  \n",
       "\n",
       "[36 rows x 30 columns]"
      ]
     },
     "execution_count": 16,
     "metadata": {},
     "output_type": "execute_result"
    }
   ],
   "source": [
    "df_ratings.loc[df_ratings.name.str.contains('Tortas Locas Hipocampo'), :]"
   ]
  },
  {
   "cell_type": "markdown",
   "metadata": {},
   "source": [
    "# Generando recomendaciones"
   ]
  },
  {
   "cell_type": "code",
   "execution_count": 17,
   "metadata": {},
   "outputs": [],
   "source": [
    "import difflib\n",
    "import random\n",
    "\n",
    "def get_local_id(nombre_local, metadata):\n",
    "    existing_names = list(metadata['name'].values)\n",
    "    closest_names = difflib.get_close_matches(nombre_local, existing_names)\n",
    "    place_id = metadata[metadata['name'] == closest_names[0]]['placeID'].values[0]\n",
    "    return place_id\n",
    "\n",
    "def get_local_info(local_id, metadata):\n",
    "    local_info = metadata[metadata['placeID'] == local_id][['placeID', 'latitude', 'longitude', 'address']]\n",
    "    return local_info.to_dict(orient='records')\n",
    "\n",
    "def predict_review(userID, local_name, model, metadata):\n",
    "    placeID = get_local_id(local_name, metadata)\n",
    "    review_prediction = model.predict(uid=userID, iid=placeID)\n",
    "    return review_prediction.est\n",
    "\n",
    "def generate_recommendation(user_id, model, data, num_recommendations):\n",
    "    if 'userId' not in data.columns or 'placeID' not in data.columns:\n",
    "        print(\"El DataFrame no contiene las columnas 'userId' o 'placeID'.\")\n",
    "        return None\n",
    "\n",
    "    try:\n",
    "        user_idx = data.index[data['userId'] == user_id].tolist()[0]\n",
    "        print(f\"User index: {user_idx}\")\n",
    "    except IndexError:\n",
    "        print(f\"User {user_id} not found.\")\n",
    "        return None\n",
    "\n",
    "    user_ratings = data[data['userId'] == user_id]\n",
    "    all_locales = data['placeID'].unique()\n",
    "    rated_locales = user_ratings['placeID'].values\n",
    "    unrated_locales = [locale for locale in all_locales if locale not in rated_locales]\n",
    "    print(f\"Unrated locales: {unrated_locales}\")\n",
    "\n",
    "    predictions = []\n",
    "    for locale in unrated_locales:\n",
    "        prediction = model.predict(user_idx, locale)\n",
    "        print(f\"Prediction for locale {locale}: {prediction.est}\")\n",
    "        predictions.append((locale, prediction.est))\n",
    "\n",
    "    predictions.sort(key=lambda x: x[1], reverse=True)\n",
    "    top_recommendations = predictions[:num_recommendations]\n",
    "\n",
    "    recommended_locales = [place for place, rating in top_recommendations]\n",
    "    return recommended_locales\n",
    "\n",
    "\n"
   ]
  },
  {
   "cell_type": "markdown",
   "metadata": {},
   "source": [
    "# TSNE"
   ]
  },
  {
   "cell_type": "code",
   "execution_count": 18,
   "metadata": {},
   "outputs": [
    {
     "name": "stdout",
     "output_type": "stream",
     "text": [
      "[t-SNE] Computing 91 nearest neighbors...\n",
      "[t-SNE] Indexed 130 samples in 0.000s...\n",
      "[t-SNE] Computed neighbors for 130 samples in 0.484s...\n",
      "[t-SNE] Computed conditional probabilities for sample 130 / 130\n",
      "[t-SNE] Mean sigma: 0.332756\n",
      "[t-SNE] Computed conditional probabilities in 0.008s\n",
      "[t-SNE] Iteration 50: error = 61.9534111, gradient norm = 0.5679761 (50 iterations in 0.032s)\n",
      "[t-SNE] Iteration 100: error = 61.3031044, gradient norm = 0.7477433 (50 iterations in 0.031s)\n",
      "[t-SNE] Iteration 150: error = 72.5574112, gradient norm = 0.3381661 (50 iterations in 0.029s)\n",
      "[t-SNE] Iteration 200: error = 65.6973190, gradient norm = 0.6834382 (50 iterations in 0.030s)\n",
      "[t-SNE] Iteration 250: error = 68.6984100, gradient norm = 0.4008325 (50 iterations in 0.040s)\n",
      "[t-SNE] KL divergence after 250 iterations with early exaggeration: 68.698410\n",
      "[t-SNE] Iteration 300: error = 1.2796247, gradient norm = 0.0120367 (50 iterations in 0.028s)\n",
      "[t-SNE] Iteration 350: error = 1.0648321, gradient norm = 0.0137937 (50 iterations in 0.032s)\n",
      "[t-SNE] Iteration 400: error = 1.0088638, gradient norm = 0.0009173 (50 iterations in 0.017s)\n",
      "[t-SNE] Iteration 450: error = 1.0087508, gradient norm = 0.0006003 (50 iterations in 0.027s)\n",
      "[t-SNE] Iteration 500: error = 1.0086958, gradient norm = 0.0003336 (50 iterations in 0.022s)\n",
      "[t-SNE] KL divergence after 500 iterations: 1.008696\n"
     ]
    }
   ],
   "source": [
    "from sklearn.manifold import TSNE\n",
    "\n",
    "tsne = TSNE(n_components=2, n_iter=500, verbose=3, random_state=1)\n",
    "locales_embedding = tsne.fit_transform(svd.qi)\n",
    "projection = pd.DataFrame(columns=['x', 'y'], data=locales_embedding)\n",
    "projection['nombreGenerado'] = locales['name']"
   ]
  },
  {
   "cell_type": "code",
   "execution_count": 19,
   "metadata": {},
   "outputs": [
    {
     "data": {
      "application/vnd.plotly.v1+json": {
       "config": {
        "plotlyServerURL": "https://plot.ly"
       },
       "data": [
        {
         "hovertemplate": "x=%{x}<br>y=%{y}<extra></extra>",
         "legendgroup": "",
         "marker": {
          "color": "#636efa",
          "symbol": "circle"
         },
         "mode": "markers",
         "name": "",
         "orientation": "v",
         "showlegend": false,
         "type": "scatter",
         "x": [
          0.9353229999542236,
          0.29160845279693604,
          1.959371566772461,
          -1.2514021396636963,
          -2.5194408893585205,
          0.27176111936569214,
          -1.3668155670166016,
          0.14685499668121338,
          -0.987755298614502,
          -2.052121162414551,
          0.931122899055481,
          0.05146317556500435,
          0.4998660683631897,
          -1.2777916193008423,
          0.009322312660515308,
          -2.1714999675750732,
          1.0049320459365845,
          1.6419471502304077,
          1.0096772909164429,
          1.5147837400436401,
          -2.9643666744232178,
          0.3643643856048584,
          -0.5694359540939331,
          0.5396381616592407,
          -2.2206976413726807,
          -0.8300169110298157,
          -2.0946507453918457,
          1.32644784450531,
          0.5568807125091553,
          -0.5342486500740051,
          0.39272376894950867,
          -1.6840276718139648,
          1.2542922496795654,
          -0.1748029738664627,
          2.4003257751464844,
          0.38077661395072937,
          0.6359801292419434,
          0.1633521318435669,
          -0.8390970230102539,
          -0.3120498061180115,
          -0.3753989338874817,
          -0.8746005296707153,
          -1.868589162826538,
          0.25030073523521423,
          1.3360811471939087,
          0.4850165843963623,
          -0.5941734313964844,
          1.9035102128982544,
          0.15199066698551178,
          0.4973638653755188,
          -1.1901051998138428,
          2.39153790473938,
          1.706229567527771,
          2.7695810794830322,
          2.3712620735168457,
          3.2656989097595215,
          -2.283216953277588,
          0.3148655891418457,
          0.3892015218734741,
          -1.6165374517440796,
          1.6552824974060059,
          0.6226892471313477,
          3.11212420463562,
          -1.5013401508331299,
          -2.1356074810028076,
          1.2009005546569824,
          -0.2983759343624115,
          2.0851149559020996,
          1.837800145149231,
          -3.443758249282837,
          -0.17591851949691772,
          -0.5100464224815369,
          -3.2017083168029785,
          -2.1685140132904053,
          2.0746357440948486,
          -0.3315728008747101,
          -0.37803515791893005,
          -0.4377196729183197,
          1.3184195756912231,
          0.20458947122097015,
          -2.289680242538452,
          0.9628252983093262,
          0.6616811156272888,
          0.30444440245628357,
          -0.6217591762542725,
          -1.6159870624542236,
          -0.21487420797348022,
          -1.1927379369735718,
          -0.7608367800712585,
          -1.8979425430297852,
          1.4678864479064941,
          0.6232492327690125,
          -0.2111869901418686,
          -3.6208882331848145,
          -1.0699750185012817,
          3.410515546798706,
          2.481614589691162,
          2.848020076751709,
          -2.291217565536499,
          -0.6038281321525574,
          1.3067587614059448,
          -1.2419425249099731,
          -0.5676475167274475,
          -1.6379812955856323,
          2.8040037155151367,
          -0.4846058189868927,
          -2.5428996086120605,
          1.4834914207458496,
          0.9011020064353943,
          2.487668037414551,
          1.2673864364624023,
          -3.069279670715332,
          0.07762230187654495,
          0.7587793469429016,
          2.3890881538391113,
          -1.4516030550003052,
          -0.7349990010261536,
          -0.47950664162635803,
          -2.0506842136383057,
          1.9248844385147095,
          -1.1262876987457275,
          -0.6302555203437805,
          0.4913778007030487,
          -1.5442146062850952,
          2.8063390254974365,
          -0.9431252479553223,
          0.947353720664978,
          -0.9093865156173706,
          0.8661730289459229,
          0.1193050742149353
         ],
         "xaxis": "x",
         "y": [
          -0.04211733117699623,
          -0.8484200835227966,
          -2.402989625930786,
          1.55320143699646,
          -0.9952892065048218,
          0.9798081517219543,
          0.6594261527061462,
          0.2838636636734009,
          -2.5400044918060303,
          -1.53963303565979,
          1.314084768295288,
          -0.5338501930236816,
          2.593993663787842,
          0.11056019365787506,
          -1.7564109563827515,
          0.7964969873428345,
          1.0443570613861084,
          -2.308490753173828,
          1.0709424018859863,
          0.15040560066699982,
          1.3987557888031006,
          -2.4752449989318848,
          -1.6319941282272339,
          0.7102493643760681,
          0.3829660713672638,
          2.553682327270508,
          -3.155715227127075,
          0.12201172113418579,
          0.8775907158851624,
          -1.241547703742981,
          1.3803726434707642,
          -0.9327900409698486,
          -1.4756654500961304,
          1.427275538444519,
          0.2785969078540802,
          0.23233811557292938,
          0.40326547622680664,
          -1.5037988424301147,
          -0.7374556064605713,
          2.2832963466644287,
          1.3810582160949707,
          -1.3610577583312988,
          -2.904865264892578,
          -2.4406871795654297,
          -1.938854455947876,
          -1.0741299390792847,
          0.8699966669082642,
          0.3030160069465637,
          -0.15608608722686768,
          -1.9949748516082764,
          -2.223391532897949,
          -2.5719871520996094,
          -0.9065077900886536,
          -0.2652535140514374,
          0.6952914595603943,
          0.005651202984154224,
          1.9776500463485718,
          1.828176736831665,
          -1.1027579307556152,
          -0.5295885801315308,
          -0.4308733642101288,
          1.936707615852356,
          1.9030678272247314,
          -0.09741533547639847,
          -0.5416348576545715,
          -2.8601858615875244,
          -0.3445536494255066,
          1.112929105758667,
          2.069655656814575,
          0.947612464427948,
          -3.6270220279693604,
          -2.3739922046661377,
          1.3231219053268433,
          0.4944388270378113,
          -1.2121050357818604,
          1.3165358304977417,
          -0.34498313069343567,
          0.4291374981403351,
          2.3710105419158936,
          -2.4229438304901123,
          0.08938707411289215,
          1.7945154905319214,
          3.3847920894622803,
          0.1801552176475525,
          1.4031282663345337,
          -1.4796459674835205,
          -3.5135152339935303,
          -0.9026391506195068,
          -2.2779886722564697,
          1.470138669013977,
          1.0053865909576416,
          -3.376291275024414,
          0.5046190619468689,
          -1.033530354499817,
          2.405302047729492,
          -0.1660786122083664,
          2.166249990463257,
          0.9173714518547058,
          -0.8391576409339905,
          -2.4874861240386963,
          1.0695819854736328,
          -0.3320431709289551,
          -0.09188831597566605,
          0.9893426895141602,
          -0.4840984046459198,
          0.9857383966445923,
          -2.2393505573272705,
          0.934765100479126,
          -0.7806515693664551,
          1.5147130489349365,
          -2.941389322280884,
          -0.10250629484653473,
          0.6361045837402344,
          -1.6821930408477783,
          -1.3564269542694092,
          1.4702811241149902,
          -1.1761058568954468,
          3.107053518295288,
          2.5599849224090576,
          -1.1354646682739258,
          -0.5332815051078796,
          2.9337751865386963,
          2.412271499633789,
          0.5840635895729065,
          -1.6764625310897827,
          -0.22142906486988068,
          -1.193656325340271,
          -2.466403007507324,
          -0.2506621181964874,
          -0.9163673520088196
         ],
         "yaxis": "y"
        }
       ],
       "layout": {
        "legend": {
         "tracegroupgap": 0
        },
        "margin": {
         "t": 60
        },
        "template": {
         "data": {
          "bar": [
           {
            "error_x": {
             "color": "#2a3f5f"
            },
            "error_y": {
             "color": "#2a3f5f"
            },
            "marker": {
             "line": {
              "color": "#E5ECF6",
              "width": 0.5
             },
             "pattern": {
              "fillmode": "overlay",
              "size": 10,
              "solidity": 0.2
             }
            },
            "type": "bar"
           }
          ],
          "barpolar": [
           {
            "marker": {
             "line": {
              "color": "#E5ECF6",
              "width": 0.5
             },
             "pattern": {
              "fillmode": "overlay",
              "size": 10,
              "solidity": 0.2
             }
            },
            "type": "barpolar"
           }
          ],
          "carpet": [
           {
            "aaxis": {
             "endlinecolor": "#2a3f5f",
             "gridcolor": "white",
             "linecolor": "white",
             "minorgridcolor": "white",
             "startlinecolor": "#2a3f5f"
            },
            "baxis": {
             "endlinecolor": "#2a3f5f",
             "gridcolor": "white",
             "linecolor": "white",
             "minorgridcolor": "white",
             "startlinecolor": "#2a3f5f"
            },
            "type": "carpet"
           }
          ],
          "choropleth": [
           {
            "colorbar": {
             "outlinewidth": 0,
             "ticks": ""
            },
            "type": "choropleth"
           }
          ],
          "contour": [
           {
            "colorbar": {
             "outlinewidth": 0,
             "ticks": ""
            },
            "colorscale": [
             [
              0,
              "#0d0887"
             ],
             [
              0.1111111111111111,
              "#46039f"
             ],
             [
              0.2222222222222222,
              "#7201a8"
             ],
             [
              0.3333333333333333,
              "#9c179e"
             ],
             [
              0.4444444444444444,
              "#bd3786"
             ],
             [
              0.5555555555555556,
              "#d8576b"
             ],
             [
              0.6666666666666666,
              "#ed7953"
             ],
             [
              0.7777777777777778,
              "#fb9f3a"
             ],
             [
              0.8888888888888888,
              "#fdca26"
             ],
             [
              1,
              "#f0f921"
             ]
            ],
            "type": "contour"
           }
          ],
          "contourcarpet": [
           {
            "colorbar": {
             "outlinewidth": 0,
             "ticks": ""
            },
            "type": "contourcarpet"
           }
          ],
          "heatmap": [
           {
            "colorbar": {
             "outlinewidth": 0,
             "ticks": ""
            },
            "colorscale": [
             [
              0,
              "#0d0887"
             ],
             [
              0.1111111111111111,
              "#46039f"
             ],
             [
              0.2222222222222222,
              "#7201a8"
             ],
             [
              0.3333333333333333,
              "#9c179e"
             ],
             [
              0.4444444444444444,
              "#bd3786"
             ],
             [
              0.5555555555555556,
              "#d8576b"
             ],
             [
              0.6666666666666666,
              "#ed7953"
             ],
             [
              0.7777777777777778,
              "#fb9f3a"
             ],
             [
              0.8888888888888888,
              "#fdca26"
             ],
             [
              1,
              "#f0f921"
             ]
            ],
            "type": "heatmap"
           }
          ],
          "heatmapgl": [
           {
            "colorbar": {
             "outlinewidth": 0,
             "ticks": ""
            },
            "colorscale": [
             [
              0,
              "#0d0887"
             ],
             [
              0.1111111111111111,
              "#46039f"
             ],
             [
              0.2222222222222222,
              "#7201a8"
             ],
             [
              0.3333333333333333,
              "#9c179e"
             ],
             [
              0.4444444444444444,
              "#bd3786"
             ],
             [
              0.5555555555555556,
              "#d8576b"
             ],
             [
              0.6666666666666666,
              "#ed7953"
             ],
             [
              0.7777777777777778,
              "#fb9f3a"
             ],
             [
              0.8888888888888888,
              "#fdca26"
             ],
             [
              1,
              "#f0f921"
             ]
            ],
            "type": "heatmapgl"
           }
          ],
          "histogram": [
           {
            "marker": {
             "pattern": {
              "fillmode": "overlay",
              "size": 10,
              "solidity": 0.2
             }
            },
            "type": "histogram"
           }
          ],
          "histogram2d": [
           {
            "colorbar": {
             "outlinewidth": 0,
             "ticks": ""
            },
            "colorscale": [
             [
              0,
              "#0d0887"
             ],
             [
              0.1111111111111111,
              "#46039f"
             ],
             [
              0.2222222222222222,
              "#7201a8"
             ],
             [
              0.3333333333333333,
              "#9c179e"
             ],
             [
              0.4444444444444444,
              "#bd3786"
             ],
             [
              0.5555555555555556,
              "#d8576b"
             ],
             [
              0.6666666666666666,
              "#ed7953"
             ],
             [
              0.7777777777777778,
              "#fb9f3a"
             ],
             [
              0.8888888888888888,
              "#fdca26"
             ],
             [
              1,
              "#f0f921"
             ]
            ],
            "type": "histogram2d"
           }
          ],
          "histogram2dcontour": [
           {
            "colorbar": {
             "outlinewidth": 0,
             "ticks": ""
            },
            "colorscale": [
             [
              0,
              "#0d0887"
             ],
             [
              0.1111111111111111,
              "#46039f"
             ],
             [
              0.2222222222222222,
              "#7201a8"
             ],
             [
              0.3333333333333333,
              "#9c179e"
             ],
             [
              0.4444444444444444,
              "#bd3786"
             ],
             [
              0.5555555555555556,
              "#d8576b"
             ],
             [
              0.6666666666666666,
              "#ed7953"
             ],
             [
              0.7777777777777778,
              "#fb9f3a"
             ],
             [
              0.8888888888888888,
              "#fdca26"
             ],
             [
              1,
              "#f0f921"
             ]
            ],
            "type": "histogram2dcontour"
           }
          ],
          "mesh3d": [
           {
            "colorbar": {
             "outlinewidth": 0,
             "ticks": ""
            },
            "type": "mesh3d"
           }
          ],
          "parcoords": [
           {
            "line": {
             "colorbar": {
              "outlinewidth": 0,
              "ticks": ""
             }
            },
            "type": "parcoords"
           }
          ],
          "pie": [
           {
            "automargin": true,
            "type": "pie"
           }
          ],
          "scatter": [
           {
            "fillpattern": {
             "fillmode": "overlay",
             "size": 10,
             "solidity": 0.2
            },
            "type": "scatter"
           }
          ],
          "scatter3d": [
           {
            "line": {
             "colorbar": {
              "outlinewidth": 0,
              "ticks": ""
             }
            },
            "marker": {
             "colorbar": {
              "outlinewidth": 0,
              "ticks": ""
             }
            },
            "type": "scatter3d"
           }
          ],
          "scattercarpet": [
           {
            "marker": {
             "colorbar": {
              "outlinewidth": 0,
              "ticks": ""
             }
            },
            "type": "scattercarpet"
           }
          ],
          "scattergeo": [
           {
            "marker": {
             "colorbar": {
              "outlinewidth": 0,
              "ticks": ""
             }
            },
            "type": "scattergeo"
           }
          ],
          "scattergl": [
           {
            "marker": {
             "colorbar": {
              "outlinewidth": 0,
              "ticks": ""
             }
            },
            "type": "scattergl"
           }
          ],
          "scattermapbox": [
           {
            "marker": {
             "colorbar": {
              "outlinewidth": 0,
              "ticks": ""
             }
            },
            "type": "scattermapbox"
           }
          ],
          "scatterpolar": [
           {
            "marker": {
             "colorbar": {
              "outlinewidth": 0,
              "ticks": ""
             }
            },
            "type": "scatterpolar"
           }
          ],
          "scatterpolargl": [
           {
            "marker": {
             "colorbar": {
              "outlinewidth": 0,
              "ticks": ""
             }
            },
            "type": "scatterpolargl"
           }
          ],
          "scatterternary": [
           {
            "marker": {
             "colorbar": {
              "outlinewidth": 0,
              "ticks": ""
             }
            },
            "type": "scatterternary"
           }
          ],
          "surface": [
           {
            "colorbar": {
             "outlinewidth": 0,
             "ticks": ""
            },
            "colorscale": [
             [
              0,
              "#0d0887"
             ],
             [
              0.1111111111111111,
              "#46039f"
             ],
             [
              0.2222222222222222,
              "#7201a8"
             ],
             [
              0.3333333333333333,
              "#9c179e"
             ],
             [
              0.4444444444444444,
              "#bd3786"
             ],
             [
              0.5555555555555556,
              "#d8576b"
             ],
             [
              0.6666666666666666,
              "#ed7953"
             ],
             [
              0.7777777777777778,
              "#fb9f3a"
             ],
             [
              0.8888888888888888,
              "#fdca26"
             ],
             [
              1,
              "#f0f921"
             ]
            ],
            "type": "surface"
           }
          ],
          "table": [
           {
            "cells": {
             "fill": {
              "color": "#EBF0F8"
             },
             "line": {
              "color": "white"
             }
            },
            "header": {
             "fill": {
              "color": "#C8D4E3"
             },
             "line": {
              "color": "white"
             }
            },
            "type": "table"
           }
          ]
         },
         "layout": {
          "annotationdefaults": {
           "arrowcolor": "#2a3f5f",
           "arrowhead": 0,
           "arrowwidth": 1
          },
          "autotypenumbers": "strict",
          "coloraxis": {
           "colorbar": {
            "outlinewidth": 0,
            "ticks": ""
           }
          },
          "colorscale": {
           "diverging": [
            [
             0,
             "#8e0152"
            ],
            [
             0.1,
             "#c51b7d"
            ],
            [
             0.2,
             "#de77ae"
            ],
            [
             0.3,
             "#f1b6da"
            ],
            [
             0.4,
             "#fde0ef"
            ],
            [
             0.5,
             "#f7f7f7"
            ],
            [
             0.6,
             "#e6f5d0"
            ],
            [
             0.7,
             "#b8e186"
            ],
            [
             0.8,
             "#7fbc41"
            ],
            [
             0.9,
             "#4d9221"
            ],
            [
             1,
             "#276419"
            ]
           ],
           "sequential": [
            [
             0,
             "#0d0887"
            ],
            [
             0.1111111111111111,
             "#46039f"
            ],
            [
             0.2222222222222222,
             "#7201a8"
            ],
            [
             0.3333333333333333,
             "#9c179e"
            ],
            [
             0.4444444444444444,
             "#bd3786"
            ],
            [
             0.5555555555555556,
             "#d8576b"
            ],
            [
             0.6666666666666666,
             "#ed7953"
            ],
            [
             0.7777777777777778,
             "#fb9f3a"
            ],
            [
             0.8888888888888888,
             "#fdca26"
            ],
            [
             1,
             "#f0f921"
            ]
           ],
           "sequentialminus": [
            [
             0,
             "#0d0887"
            ],
            [
             0.1111111111111111,
             "#46039f"
            ],
            [
             0.2222222222222222,
             "#7201a8"
            ],
            [
             0.3333333333333333,
             "#9c179e"
            ],
            [
             0.4444444444444444,
             "#bd3786"
            ],
            [
             0.5555555555555556,
             "#d8576b"
            ],
            [
             0.6666666666666666,
             "#ed7953"
            ],
            [
             0.7777777777777778,
             "#fb9f3a"
            ],
            [
             0.8888888888888888,
             "#fdca26"
            ],
            [
             1,
             "#f0f921"
            ]
           ]
          },
          "colorway": [
           "#636efa",
           "#EF553B",
           "#00cc96",
           "#ab63fa",
           "#FFA15A",
           "#19d3f3",
           "#FF6692",
           "#B6E880",
           "#FF97FF",
           "#FECB52"
          ],
          "font": {
           "color": "#2a3f5f"
          },
          "geo": {
           "bgcolor": "white",
           "lakecolor": "white",
           "landcolor": "#E5ECF6",
           "showlakes": true,
           "showland": true,
           "subunitcolor": "white"
          },
          "hoverlabel": {
           "align": "left"
          },
          "hovermode": "closest",
          "mapbox": {
           "style": "light"
          },
          "paper_bgcolor": "white",
          "plot_bgcolor": "#E5ECF6",
          "polar": {
           "angularaxis": {
            "gridcolor": "white",
            "linecolor": "white",
            "ticks": ""
           },
           "bgcolor": "#E5ECF6",
           "radialaxis": {
            "gridcolor": "white",
            "linecolor": "white",
            "ticks": ""
           }
          },
          "scene": {
           "xaxis": {
            "backgroundcolor": "#E5ECF6",
            "gridcolor": "white",
            "gridwidth": 2,
            "linecolor": "white",
            "showbackground": true,
            "ticks": "",
            "zerolinecolor": "white"
           },
           "yaxis": {
            "backgroundcolor": "#E5ECF6",
            "gridcolor": "white",
            "gridwidth": 2,
            "linecolor": "white",
            "showbackground": true,
            "ticks": "",
            "zerolinecolor": "white"
           },
           "zaxis": {
            "backgroundcolor": "#E5ECF6",
            "gridcolor": "white",
            "gridwidth": 2,
            "linecolor": "white",
            "showbackground": true,
            "ticks": "",
            "zerolinecolor": "white"
           }
          },
          "shapedefaults": {
           "line": {
            "color": "#2a3f5f"
           }
          },
          "ternary": {
           "aaxis": {
            "gridcolor": "white",
            "linecolor": "white",
            "ticks": ""
           },
           "baxis": {
            "gridcolor": "white",
            "linecolor": "white",
            "ticks": ""
           },
           "bgcolor": "#E5ECF6",
           "caxis": {
            "gridcolor": "white",
            "linecolor": "white",
            "ticks": ""
           }
          },
          "title": {
           "x": 0.05
          },
          "xaxis": {
           "automargin": true,
           "gridcolor": "white",
           "linecolor": "white",
           "ticks": "",
           "title": {
            "standoff": 15
           },
           "zerolinecolor": "white",
           "zerolinewidth": 2
          },
          "yaxis": {
           "automargin": true,
           "gridcolor": "white",
           "linecolor": "white",
           "ticks": "",
           "title": {
            "standoff": 15
           },
           "zerolinecolor": "white",
           "zerolinewidth": 2
          }
         }
        },
        "xaxis": {
         "anchor": "y",
         "domain": [
          0,
          1
         ],
         "title": {
          "text": "x"
         }
        },
        "yaxis": {
         "anchor": "x",
         "domain": [
          0,
          1
         ],
         "title": {
          "text": "y"
         }
        }
       }
      }
     },
     "metadata": {},
     "output_type": "display_data"
    }
   ],
   "source": [
    "import plotly.express as px\n",
    "import datapane as dp\n",
    "\n",
    "fig = px.scatter(\n",
    "    projection, x='x', y='y'\n",
    ")\n",
    "fig.show()\n",
    "\n",
    "report = dp.Report(dp.Plot(fig) )"
   ]
  },
  {
   "cell_type": "code",
   "execution_count": 20,
   "metadata": {},
   "outputs": [],
   "source": [
    "from collections import defaultdict\n",
    "from surprise import Dataset, SVD\n",
    "\n",
    "def get_top_n(predictions, n=10):\n",
    "    \"\"\"Return the top-N recommendation for each user from a set of predictions.\n",
    "\n",
    "    Args:\n",
    "        predictions(list of Prediction objects): The list of predictions, as\n",
    "            returned by the test method of an algorithm.\n",
    "        n(int): The number of recommendation to output for each user. Default\n",
    "            is 10.\n",
    "\n",
    "    Returns:\n",
    "    A dict where keys are user (raw) ids and values are lists of tuples:\n",
    "        [(raw item id, rating estimation), ...] of size n.\n",
    "    \"\"\"\n",
    "\n",
    "    # First map the predictions to each user.\n",
    "    top_n = defaultdict(list)\n",
    "    for uid, iid, true_r, est, _ in predictions:\n",
    "        top_n[uid].append((iid, est))\n",
    "\n",
    "    # Then sort the predictions for each user and retrieve the k highest ones.\n",
    "    for uid, user_ratings in top_n.items():\n",
    "        user_ratings.sort(key=lambda x: x[1], reverse=True)\n",
    "        top_n[uid] = user_ratings[:n]\n",
    "\n",
    "    return top_n"
   ]
  },
  {
   "cell_type": "code",
   "execution_count": 21,
   "metadata": {},
   "outputs": [
    {
     "data": {
      "text/plain": [
       "<surprise.prediction_algorithms.matrix_factorization.SVD at 0x29c8182c4f0>"
      ]
     },
     "execution_count": 21,
     "metadata": {},
     "output_type": "execute_result"
    }
   ],
   "source": [
    "algo = SVD()\n",
    "algo.fit(trainset)"
   ]
  },
  {
   "cell_type": "code",
   "execution_count": 22,
   "metadata": {},
   "outputs": [],
   "source": [
    "locales_visitados_usuario=df_ratings.loc[(df_ratings.userID=='U1077'),'placeID']\n",
    "locales_no_visitados_usuario=df_ratings.loc[~df_ratings.placeID.isin(locales_visitados_usuario),'placeID'].unique()\n",
    "\n",
    "pred=[]\n",
    "for local in locales_no_visitados_usuario:\n",
    "    pred.append(svd.predict(uid='U1077', iid=local))"
   ]
  },
  {
   "cell_type": "code",
   "execution_count": 23,
   "metadata": {},
   "outputs": [
    {
     "data": {
      "text/plain": [
       "[Prediction(uid='U1077', iid=135104, r_ui=None, est=1.2143072568008864, details={'was_impossible': False}),\n",
       " Prediction(uid='U1077', iid=132740, r_ui=None, est=1.0812679729270631, details={'was_impossible': False}),\n",
       " Prediction(uid='U1077', iid=132663, r_ui=None, est=1.1055093306308295, details={'was_impossible': False}),\n",
       " Prediction(uid='U1077', iid=132732, r_ui=None, est=1.0927208057374418, details={'was_impossible': False}),\n",
       " Prediction(uid='U1077', iid=132630, r_ui=None, est=1.3081038473554412, details={'was_impossible': False}),\n",
       " Prediction(uid='U1077', iid=132584, r_ui=None, est=1.2914671950409704, details={'was_impossible': False}),\n",
       " Prediction(uid='U1077', iid=132733, r_ui=None, est=1.3416418243120074, details={'was_impossible': False}),\n",
       " Prediction(uid='U1077', iid=132560, r_ui=None, est=1.1533381404013792, details={'was_impossible': False}),\n",
       " Prediction(uid='U1077', iid=132613, r_ui=None, est=1.2569714471847833, details={'was_impossible': False}),\n",
       " Prediction(uid='U1077', iid=132667, r_ui=None, est=1.3544276677964477, details={'was_impossible': False}),\n",
       " Prediction(uid='U1077', iid=132660, r_ui=None, est=1.2017906734431067, details={'was_impossible': False}),\n",
       " Prediction(uid='U1077', iid=135088, r_ui=None, est=1.292037420030115, details={'was_impossible': False}),\n",
       " Prediction(uid='U1077', iid=132583, r_ui=None, est=1.237761738679018, details={'was_impossible': False}),\n",
       " Prediction(uid='U1077', iid=132608, r_ui=None, est=1.2433754707207316, details={'was_impossible': False}),\n",
       " Prediction(uid='U1077', iid=132609, r_ui=None, est=1.1870581466462184, details={'was_impossible': False}),\n",
       " Prediction(uid='U1077', iid=132665, r_ui=None, est=1.1322450023664816, details={'was_impossible': False}),\n",
       " Prediction(uid='U1077', iid=132668, r_ui=None, est=1.2239616433960343, details={'was_impossible': False}),\n",
       " Prediction(uid='U1077', iid=132715, r_ui=None, est=1.2009009351794044, details={'was_impossible': False}),\n",
       " Prediction(uid='U1077', iid=132717, r_ui=None, est=1.299967870143393, details={'was_impossible': False}),\n",
       " Prediction(uid='U1077', iid=132594, r_ui=None, est=1.277478071274885, details={'was_impossible': False}),\n",
       " Prediction(uid='U1077', iid=132564, r_ui=None, est=1.3380679421810004, details={'was_impossible': False}),\n",
       " Prediction(uid='U1077', iid=135071, r_ui=None, est=1.1493788741874167, details={'was_impossible': False}),\n",
       " Prediction(uid='U1077', iid=132626, r_ui=None, est=0.984659014910521, details={'was_impossible': False}),\n",
       " Prediction(uid='U1077', iid=134987, r_ui=None, est=1.17670803106193, details={'was_impossible': False}),\n",
       " Prediction(uid='U1077', iid=135034, r_ui=None, est=1.375631257965965, details={'was_impossible': False}),\n",
       " Prediction(uid='U1077', iid=132723, r_ui=None, est=1.3009065726111462, details={'was_impossible': False}),\n",
       " Prediction(uid='U1077', iid=135046, r_ui=None, est=1.3454165294323919, details={'was_impossible': False}),\n",
       " Prediction(uid='U1077', iid=135075, r_ui=None, est=1.6141779702705705, details={'was_impossible': False}),\n",
       " Prediction(uid='U1077', iid=132572, r_ui=None, est=1.1170761864482837, details={'was_impossible': False}),\n",
       " Prediction(uid='U1077', iid=135074, r_ui=None, est=1.4037510693652941, details={'was_impossible': False}),\n",
       " Prediction(uid='U1077', iid=135028, r_ui=None, est=1.3936205505996113, details={'was_impossible': False}),\n",
       " Prediction(uid='U1077', iid=135032, r_ui=None, est=1.182161147919331, details={'was_impossible': False}),\n",
       " Prediction(uid='U1077', iid=135086, r_ui=None, est=1.1388012064718847, details={'was_impossible': False}),\n",
       " Prediction(uid='U1077', iid=135058, r_ui=None, est=1.107992736426912, details={'was_impossible': False}),\n",
       " Prediction(uid='U1077', iid=135001, r_ui=None, est=1.288897496224895, details={'was_impossible': False}),\n",
       " Prediction(uid='U1077', iid=134983, r_ui=None, est=1.169767577491112, details={'was_impossible': False}),\n",
       " Prediction(uid='U1077', iid=134996, r_ui=None, est=1.2385995064851667, details={'was_impossible': False}),\n",
       " Prediction(uid='U1077', iid=135019, r_ui=None, est=1.1584779248066603, details={'was_impossible': False}),\n",
       " Prediction(uid='U1077', iid=134976, r_ui=None, est=1.2659034875915391, details={'was_impossible': False}),\n",
       " Prediction(uid='U1077', iid=134999, r_ui=None, est=1.2830606262276607, details={'was_impossible': False}),\n",
       " Prediction(uid='U1077', iid=135018, r_ui=None, est=1.328360655875326, details={'was_impossible': False}),\n",
       " Prediction(uid='U1077', iid=135013, r_ui=None, est=1.2023635541316073, details={'was_impossible': False}),\n",
       " Prediction(uid='U1077', iid=134986, r_ui=None, est=1.4159102494019544, details={'was_impossible': False}),\n",
       " Prediction(uid='U1077', iid=132767, r_ui=None, est=1.3119341577175794, details={'was_impossible': False}),\n",
       " Prediction(uid='U1077', iid=135016, r_ui=None, est=1.215668673278361, details={'was_impossible': False}),\n",
       " Prediction(uid='U1077', iid=135011, r_ui=None, est=1.2054823169439355, details={'was_impossible': False}),\n",
       " Prediction(uid='U1077', iid=135109, r_ui=None, est=1.1549040376463733, details={'was_impossible': False}),\n",
       " Prediction(uid='U1077', iid=134975, r_ui=None, est=1.4022076587106571, details={'was_impossible': False}),\n",
       " Prediction(uid='U1077', iid=135021, r_ui=None, est=1.2362541708177952, details={'was_impossible': False}),\n",
       " Prediction(uid='U1077', iid=132768, r_ui=None, est=1.5376544453747105, details={'was_impossible': False}),\n",
       " Prediction(uid='U1077', iid=135000, r_ui=None, est=1.3865389792410556, details={'was_impossible': False}),\n",
       " Prediction(uid='U1077', iid=132766, r_ui=None, est=1.222178107048957, details={'was_impossible': False}),\n",
       " Prediction(uid='U1077', iid=134992, r_ui=None, est=1.0651810945298177, details={'was_impossible': False}),\n",
       " Prediction(uid='U1077', iid=132773, r_ui=None, est=1.217797510988015, details={'was_impossible': False}),\n",
       " Prediction(uid='U1077', iid=132561, r_ui=None, est=1.2694113203187645, details={'was_impossible': False}),\n",
       " Prediction(uid='U1077', iid=132706, r_ui=None, est=1.1829542740957044, details={'was_impossible': False}),\n",
       " Prediction(uid='U1077', iid=132654, r_ui=None, est=1.0171219374102995, details={'was_impossible': False}),\n",
       " Prediction(uid='U1077', iid=135051, r_ui=None, est=1.3857842840970678, details={'was_impossible': False}),\n",
       " Prediction(uid='U1077', iid=135025, r_ui=None, est=1.2516384790785904, details={'was_impossible': False}),\n",
       " Prediction(uid='U1077', iid=135049, r_ui=None, est=1.2112551998171288, details={'was_impossible': False}),\n",
       " Prediction(uid='U1077', iid=135106, r_ui=None, est=1.2627467409178945, details={'was_impossible': False}),\n",
       " Prediction(uid='U1077', iid=135072, r_ui=None, est=1.179982045942082, details={'was_impossible': False}),\n",
       " Prediction(uid='U1077', iid=132755, r_ui=None, est=1.3474665842385274, details={'was_impossible': False}),\n",
       " Prediction(uid='U1077', iid=135044, r_ui=None, est=1.2098224748430717, details={'was_impossible': False}),\n",
       " Prediction(uid='U1077', iid=135048, r_ui=None, est=1.063801549860644, details={'was_impossible': False}),\n",
       " Prediction(uid='U1077', iid=135047, r_ui=None, est=1.1574933235536775, details={'was_impossible': False}),\n",
       " Prediction(uid='U1077', iid=132754, r_ui=None, est=1.274020357351508, details={'was_impossible': False}),\n",
       " Prediction(uid='U1077', iid=135076, r_ui=None, est=1.120964438216837, details={'was_impossible': False}),\n",
       " Prediction(uid='U1077', iid=135063, r_ui=None, est=1.2747116825294205, details={'was_impossible': False}),\n",
       " Prediction(uid='U1077', iid=135042, r_ui=None, est=1.3053768607194591, details={'was_impossible': False}),\n",
       " Prediction(uid='U1077', iid=135053, r_ui=None, est=1.1167442232118425, details={'was_impossible': False}),\n",
       " Prediction(uid='U1077', iid=135081, r_ui=None, est=1.2150059402857558, details={'was_impossible': False}),\n",
       " Prediction(uid='U1077', iid=135062, r_ui=None, est=1.2277340900516132, details={'was_impossible': False}),\n",
       " Prediction(uid='U1077', iid=135069, r_ui=None, est=0.8526506955940655, details={'was_impossible': False}),\n",
       " Prediction(uid='U1077', iid=135057, r_ui=None, est=1.2664462865410406, details={'was_impossible': False}),\n",
       " Prediction(uid='U1077', iid=135043, r_ui=None, est=1.061926491209205, details={'was_impossible': False}),\n",
       " Prediction(uid='U1077', iid=135039, r_ui=None, est=1.2215667745540435, details={'was_impossible': False}),\n",
       " Prediction(uid='U1077', iid=135052, r_ui=None, est=1.3343727376285772, details={'was_impossible': False}),\n",
       " Prediction(uid='U1077', iid=135030, r_ui=None, est=1.420600064867265, details={'was_impossible': False}),\n",
       " Prediction(uid='U1077', iid=132830, r_ui=None, est=1.0500239167759573, details={'was_impossible': False}),\n",
       " Prediction(uid='U1077', iid=135108, r_ui=None, est=1.3258751859167328, details={'was_impossible': False}),\n",
       " Prediction(uid='U1077', iid=135050, r_ui=None, est=1.1049578189385982, details={'was_impossible': False}),\n",
       " Prediction(uid='U1077', iid=135070, r_ui=None, est=1.2405190333947937, details={'was_impossible': False}),\n",
       " Prediction(uid='U1077', iid=135041, r_ui=None, est=1.2243372008229887, details={'was_impossible': False}),\n",
       " Prediction(uid='U1077', iid=135082, r_ui=None, est=1.008345218128161, details={'was_impossible': False}),\n",
       " Prediction(uid='U1077', iid=135054, r_ui=None, est=1.1636158680280246, details={'was_impossible': False}),\n",
       " Prediction(uid='U1077', iid=135066, r_ui=None, est=1.3735247910500514, details={'was_impossible': False}),\n",
       " Prediction(uid='U1077', iid=135026, r_ui=None, est=1.2700687599990872, details={'was_impossible': False}),\n",
       " Prediction(uid='U1077', iid=135059, r_ui=None, est=1.2159985631916714, details={'was_impossible': False}),\n",
       " Prediction(uid='U1077', iid=135065, r_ui=None, est=1.3177518126765817, details={'was_impossible': False}),\n",
       " Prediction(uid='U1077', iid=135079, r_ui=None, est=1.1917560650138435, details={'was_impossible': False}),\n",
       " Prediction(uid='U1077', iid=135055, r_ui=None, est=1.257993006727926, details={'was_impossible': False}),\n",
       " Prediction(uid='U1077', iid=135080, r_ui=None, est=1.0473549301387948, details={'was_impossible': False}),\n",
       " Prediction(uid='U1077', iid=135064, r_ui=None, est=1.026495081142412, details={'was_impossible': False}),\n",
       " Prediction(uid='U1077', iid=135040, r_ui=None, est=1.1631188106102242, details={'was_impossible': False}),\n",
       " Prediction(uid='U1077', iid=135073, r_ui=None, est=1.3252949888447314, details={'was_impossible': False}),\n",
       " Prediction(uid='U1077', iid=135033, r_ui=None, est=1.181948994992139, details={'was_impossible': False}),\n",
       " Prediction(uid='U1077', iid=135045, r_ui=None, est=1.3182437849328859, details={'was_impossible': False}),\n",
       " Prediction(uid='U1077', iid=132834, r_ui=None, est=1.0913126443116976, details={'was_impossible': False}),\n",
       " Prediction(uid='U1077', iid=132845, r_ui=None, est=1.191331527006421, details={'was_impossible': False}),\n",
       " Prediction(uid='U1077', iid=132846, r_ui=None, est=1.2189193172567563, details={'was_impossible': False}),\n",
       " Prediction(uid='U1077', iid=132847, r_ui=None, est=1.3521600744677547, details={'was_impossible': False}),\n",
       " Prediction(uid='U1077', iid=132851, r_ui=None, est=1.2801027710039967, details={'was_impossible': False}),\n",
       " Prediction(uid='U1077', iid=132854, r_ui=None, est=1.156358681803801, details={'was_impossible': False}),\n",
       " Prediction(uid='U1077', iid=132856, r_ui=None, est=1.0560913947769848, details={'was_impossible': False}),\n",
       " Prediction(uid='U1077', iid=132858, r_ui=None, est=1.4456067060458866, details={'was_impossible': False}),\n",
       " Prediction(uid='U1077', iid=132861, r_ui=None, est=1.287637734858698, details={'was_impossible': False}),\n",
       " Prediction(uid='U1077', iid=132862, r_ui=None, est=1.2477232760225418, details={'was_impossible': False}),\n",
       " Prediction(uid='U1077', iid=135035, r_ui=None, est=1.3329839793877016, details={'was_impossible': False}),\n",
       " Prediction(uid='U1077', iid=132866, r_ui=None, est=1.40065945335016, details={'was_impossible': False}),\n",
       " Prediction(uid='U1077', iid=132869, r_ui=None, est=1.1403831527356378, details={'was_impossible': False}),\n",
       " Prediction(uid='U1077', iid=132870, r_ui=None, est=1.1442346246875041, details={'was_impossible': False}),\n",
       " Prediction(uid='U1077', iid=132875, r_ui=None, est=1.1561364574426536, details={'was_impossible': False}),\n",
       " Prediction(uid='U1077', iid=132877, r_ui=None, est=1.0946513522256403, details={'was_impossible': False}),\n",
       " Prediction(uid='U1077', iid=132884, r_ui=None, est=1.3287303619887132, details={'was_impossible': False}),\n",
       " Prediction(uid='U1077', iid=132872, r_ui=None, est=1.2581433745671555, details={'was_impossible': False}),\n",
       " Prediction(uid='U1077', iid=132885, r_ui=None, est=1.149263492345667, details={'was_impossible': False}),\n",
       " Prediction(uid='U1077', iid=132921, r_ui=None, est=1.1846291426714697, details={'was_impossible': False}),\n",
       " Prediction(uid='U1077', iid=132922, r_ui=None, est=1.5711398091622801, details={'was_impossible': False}),\n",
       " Prediction(uid='U1077', iid=132925, r_ui=None, est=1.2216364087600877, details={'was_impossible': False}),\n",
       " Prediction(uid='U1077', iid=132951, r_ui=None, est=1.1923955779525994, details={'was_impossible': False}),\n",
       " Prediction(uid='U1077', iid=132937, r_ui=None, est=1.2687951333204845, details={'was_impossible': False}),\n",
       " Prediction(uid='U1077', iid=132954, r_ui=None, est=1.0119762984859948, details={'was_impossible': False}),\n",
       " Prediction(uid='U1077', iid=132955, r_ui=None, est=1.3754919851543574, details={'was_impossible': False}),\n",
       " Prediction(uid='U1077', iid=132958, r_ui=None, est=1.2274526034670745, details={'was_impossible': False})]"
      ]
     },
     "execution_count": 23,
     "metadata": {},
     "output_type": "execute_result"
    }
   ],
   "source": [
    "pred"
   ]
  },
  {
   "cell_type": "code",
   "execution_count": 24,
   "metadata": {},
   "outputs": [
    {
     "data": {
      "text/plain": [
       "defaultdict(list,\n",
       "            {'U1077': [(135075, 1.6141779702705705),\n",
       "              (132922, 1.5711398091622801),\n",
       "              (132768, 1.5376544453747105),\n",
       "              (132858, 1.4456067060458866),\n",
       "              (135030, 1.420600064867265),\n",
       "              (134986, 1.4159102494019544),\n",
       "              (135074, 1.4037510693652941),\n",
       "              (134975, 1.4022076587106571),\n",
       "              (132866, 1.40065945335016),\n",
       "              (135028, 1.3936205505996113)]})"
      ]
     },
     "execution_count": 24,
     "metadata": {},
     "output_type": "execute_result"
    }
   ],
   "source": [
    "top_n = get_top_n(pred, n=10)\n",
    "top_n"
   ]
  },
  {
   "cell_type": "code",
   "execution_count": 25,
   "metadata": {},
   "outputs": [
    {
     "name": "stdout",
     "output_type": "stream",
     "text": [
      "['Mariscos El Pescador', 'cafe punta del cielo', 'Mariscos Tia Licha', 'Hamburguesas Valle Dorado', 'Preambulo Wifi Zone Cafe', 'Restaurant Las Mananitas', 'Restaurante la Parroquia Potosina', 'Rincon del Bife', 'Chaires', 'La Virreina']\n"
     ]
    }
   ],
   "source": [
    "for uid, user_ratings in top_n.items():\n",
    "    print([locales.loc[locales.placeID==iid,'name'].values[0] for (iid, _) in user_ratings])"
   ]
  },
  {
   "cell_type": "markdown",
   "metadata": {},
   "source": [
    "# Comparacion desempeño algoritmos"
   ]
  },
  {
   "cell_type": "code",
   "execution_count": 27,
   "metadata": {},
   "outputs": [
    {
     "name": "stdout",
     "output_type": "stream",
     "text": [
      "Evaluating rating...\n",
      "Tuning Random...\n",
      "Sample predictions for Random on rating:\n",
      "User: U1045, Item: 135052, True Rating: 1.0, Estimated Rating: 2\n",
      "User: U1045, Item: 132825, True Rating: 2.0, Estimated Rating: 1.9834116555962908\n",
      "User: U1045, Item: 135060, True Rating: 2.0, Estimated Rating: 1.78809527262852\n",
      "User: U1045, Item: 135060, True Rating: 2.0, Estimated Rating: 2\n",
      "User: U1045, Item: 132825, True Rating: 2.0, Estimated Rating: 0.2592583993890508\n",
      "User: U1045, Item: 135032, True Rating: 0.0, Estimated Rating: 1.3728407818927375\n",
      "Tuning Baseline...\n",
      "Estimating biases using als...\n",
      "Estimating biases using als...\n",
      "Estimating biases using als...\n",
      "Estimating biases using als...\n",
      "Estimating biases using als...\n",
      "Estimating biases using als...\n",
      "Estimating biases using als...\n",
      "Estimating biases using als...\n",
      "Sample predictions for Baseline on rating:\n",
      "User: U1045, Item: 135052, True Rating: 1.0, Estimated Rating: 1.4162043316845006\n",
      "User: U1045, Item: 132825, True Rating: 2.0, Estimated Rating: 1.3074366804774027\n",
      "User: U1045, Item: 135060, True Rating: 2.0, Estimated Rating: 1.1544288705649948\n",
      "User: U1045, Item: 135060, True Rating: 2.0, Estimated Rating: 1.1544288705649948\n",
      "User: U1045, Item: 132825, True Rating: 2.0, Estimated Rating: 1.3074366804774027\n",
      "User: U1045, Item: 135032, True Rating: 0.0, Estimated Rating: 1.2054606175624267\n",
      "Tuning SVD...\n",
      "Sample predictions for SVD on rating:\n",
      "User: U1045, Item: 135052, True Rating: 1.0, Estimated Rating: 1.0372626829987879\n",
      "User: U1045, Item: 132825, True Rating: 2.0, Estimated Rating: 1.9946894141238136\n",
      "User: U1045, Item: 135060, True Rating: 2.0, Estimated Rating: 1.9166379950599846\n",
      "User: U1045, Item: 135060, True Rating: 2.0, Estimated Rating: 1.9166379950599846\n",
      "User: U1045, Item: 132825, True Rating: 2.0, Estimated Rating: 1.9946894141238136\n",
      "User: U1045, Item: 135032, True Rating: 0.0, Estimated Rating: 0.14569702834880371\n",
      "Tuning KNN_cosine...\n",
      "Computing the cosine similarity matrix...\n",
      "Error tuning KNN_cosine: float division\n",
      "Tuning KNN_msd...\n",
      "Computing the msd similarity matrix...\n",
      "Done computing similarity matrix.\n",
      "Computing the msd similarity matrix...\n",
      "Done computing similarity matrix.\n",
      "Computing the msd similarity matrix...\n",
      "Done computing similarity matrix.\n",
      "Computing the msd similarity matrix...\n",
      "Done computing similarity matrix.\n",
      "Computing the msd similarity matrix...\n",
      "Done computing similarity matrix.\n",
      "Computing the msd similarity matrix...\n",
      "Done computing similarity matrix.\n",
      "Computing the msd similarity matrix...\n",
      "Done computing similarity matrix.\n",
      "Computing the msd similarity matrix...\n",
      "Done computing similarity matrix.\n",
      "Computing the msd similarity matrix...\n",
      "Done computing similarity matrix.\n",
      "Computing the msd similarity matrix...\n",
      "Done computing similarity matrix.\n",
      "Computing the msd similarity matrix...\n",
      "Done computing similarity matrix.\n",
      "Computing the msd similarity matrix...\n",
      "Done computing similarity matrix.\n",
      "Sample predictions for KNN_msd on rating:\n",
      "User: U1045, Item: 135052, True Rating: 1.0, Estimated Rating: 1.0\n",
      "User: U1045, Item: 132825, True Rating: 2.0, Estimated Rating: 2\n",
      "User: U1045, Item: 135060, True Rating: 2.0, Estimated Rating: 2\n",
      "User: U1045, Item: 135060, True Rating: 2.0, Estimated Rating: 2\n",
      "User: U1045, Item: 132825, True Rating: 2.0, Estimated Rating: 2\n",
      "User: U1045, Item: 135032, True Rating: 0.0, Estimated Rating: 0\n",
      "Evaluating food_rating...\n",
      "Tuning Random...\n",
      "Sample predictions for Random on food_rating:\n",
      "User: U1045, Item: 135052, True Rating: 2.0, Estimated Rating: 2\n",
      "User: U1045, Item: 132825, True Rating: 1.0, Estimated Rating: 1.6085680582705337\n",
      "User: U1045, Item: 135060, True Rating: 2.0, Estimated Rating: 0.8705192739011243\n",
      "User: U1045, Item: 135060, True Rating: 2.0, Estimated Rating: 0.9230704511329085\n",
      "User: U1045, Item: 132825, True Rating: 1.0, Estimated Rating: 1.3209639108488436\n",
      "User: U1045, Item: 135032, True Rating: 0.0, Estimated Rating: 1.769735365905746\n",
      "Tuning Baseline...\n",
      "Estimating biases using als...\n",
      "Estimating biases using als...\n",
      "Estimating biases using als...\n",
      "Estimating biases using als...\n",
      "Estimating biases using als...\n",
      "Estimating biases using als...\n",
      "Estimating biases using als...\n",
      "Estimating biases using als...\n",
      "Sample predictions for Baseline on food_rating:\n",
      "User: U1045, Item: 135052, True Rating: 2.0, Estimated Rating: 1.5040246014622478\n",
      "User: U1045, Item: 132825, True Rating: 1.0, Estimated Rating: 1.5771705756428225\n",
      "User: U1045, Item: 135060, True Rating: 2.0, Estimated Rating: 1.2777869405914424\n",
      "User: U1045, Item: 135060, True Rating: 2.0, Estimated Rating: 1.2777869405914424\n",
      "User: U1045, Item: 132825, True Rating: 1.0, Estimated Rating: 1.5771705756428225\n",
      "User: U1045, Item: 135032, True Rating: 0.0, Estimated Rating: 1.2940535633240677\n",
      "Tuning SVD...\n",
      "Sample predictions for SVD on food_rating:\n",
      "User: U1045, Item: 135052, True Rating: 2.0, Estimated Rating: 1.9463827828827722\n",
      "User: U1045, Item: 132825, True Rating: 1.0, Estimated Rating: 1.0358532003518377\n",
      "User: U1045, Item: 135060, True Rating: 2.0, Estimated Rating: 1.9405759991486173\n",
      "User: U1045, Item: 135060, True Rating: 2.0, Estimated Rating: 1.9405759991486173\n",
      "User: U1045, Item: 132825, True Rating: 1.0, Estimated Rating: 1.0358532003518377\n",
      "User: U1045, Item: 135032, True Rating: 0.0, Estimated Rating: 0.017369711245497577\n",
      "Tuning KNN_cosine...\n",
      "Computing the cosine similarity matrix...\n",
      "Error tuning KNN_cosine: float division\n",
      "Tuning KNN_msd...\n",
      "Computing the msd similarity matrix...\n",
      "Done computing similarity matrix.\n",
      "Computing the msd similarity matrix...\n",
      "Done computing similarity matrix.\n",
      "Computing the msd similarity matrix...\n",
      "Done computing similarity matrix.\n",
      "Computing the msd similarity matrix...\n",
      "Done computing similarity matrix.\n",
      "Computing the msd similarity matrix...\n",
      "Done computing similarity matrix.\n",
      "Computing the msd similarity matrix...\n",
      "Done computing similarity matrix.\n",
      "Computing the msd similarity matrix...\n",
      "Done computing similarity matrix.\n",
      "Computing the msd similarity matrix...\n",
      "Done computing similarity matrix.\n",
      "Computing the msd similarity matrix...\n",
      "Done computing similarity matrix.\n",
      "Computing the msd similarity matrix...\n",
      "Done computing similarity matrix.\n",
      "Computing the msd similarity matrix...\n",
      "Done computing similarity matrix.\n",
      "Computing the msd similarity matrix...\n",
      "Done computing similarity matrix.\n",
      "Sample predictions for KNN_msd on food_rating:\n",
      "User: U1045, Item: 135052, True Rating: 2.0, Estimated Rating: 2\n",
      "User: U1045, Item: 132825, True Rating: 1.0, Estimated Rating: 1.0\n",
      "User: U1045, Item: 135060, True Rating: 2.0, Estimated Rating: 2\n",
      "User: U1045, Item: 135060, True Rating: 2.0, Estimated Rating: 2\n",
      "User: U1045, Item: 132825, True Rating: 1.0, Estimated Rating: 1.0\n",
      "User: U1045, Item: 135032, True Rating: 0.0, Estimated Rating: 0\n",
      "Evaluating service_rating...\n",
      "Tuning Random...\n",
      "Sample predictions for Random on service_rating:\n",
      "User: U1045, Item: 135052, True Rating: 2.0, Estimated Rating: 0.8957640212731333\n",
      "User: U1045, Item: 132825, True Rating: 1.0, Estimated Rating: 1.3563410558660691\n",
      "User: U1045, Item: 135060, True Rating: 2.0, Estimated Rating: 2\n",
      "User: U1045, Item: 135060, True Rating: 2.0, Estimated Rating: 0.9700394857438682\n",
      "User: U1045, Item: 132825, True Rating: 1.0, Estimated Rating: 1.48467717388748\n",
      "User: U1045, Item: 135032, True Rating: 0.0, Estimated Rating: 0.645866451329896\n",
      "Tuning Baseline...\n",
      "Estimating biases using als...\n",
      "Estimating biases using als...\n",
      "Estimating biases using als...\n",
      "Estimating biases using als...\n",
      "Estimating biases using als...\n",
      "Estimating biases using als...\n",
      "Estimating biases using als...\n",
      "Estimating biases using als...\n",
      "Sample predictions for Baseline on service_rating:\n",
      "User: U1045, Item: 135052, True Rating: 2.0, Estimated Rating: 1.5153307258957631\n",
      "User: U1045, Item: 132825, True Rating: 1.0, Estimated Rating: 1.1446289633159534\n",
      "User: U1045, Item: 135060, True Rating: 2.0, Estimated Rating: 1.552746167320891\n",
      "User: U1045, Item: 135060, True Rating: 2.0, Estimated Rating: 1.552746167320891\n",
      "User: U1045, Item: 132825, True Rating: 1.0, Estimated Rating: 1.1446289633159534\n",
      "User: U1045, Item: 135032, True Rating: 0.0, Estimated Rating: 1.4318812579578652\n",
      "Tuning SVD...\n",
      "Sample predictions for SVD on service_rating:\n",
      "User: U1045, Item: 135052, True Rating: 2.0, Estimated Rating: 1.9159442447206656\n",
      "User: U1045, Item: 132825, True Rating: 1.0, Estimated Rating: 1.052577004043169\n",
      "User: U1045, Item: 135060, True Rating: 2.0, Estimated Rating: 1.9397965458710091\n",
      "User: U1045, Item: 135060, True Rating: 2.0, Estimated Rating: 1.9397965458710091\n",
      "User: U1045, Item: 132825, True Rating: 1.0, Estimated Rating: 1.052577004043169\n",
      "User: U1045, Item: 135032, True Rating: 0.0, Estimated Rating: 0.16752861621430304\n",
      "Tuning KNN_cosine...\n",
      "Computing the cosine similarity matrix...\n",
      "Error tuning KNN_cosine: float division\n",
      "Tuning KNN_msd...\n",
      "Computing the msd similarity matrix...\n",
      "Done computing similarity matrix.\n",
      "Computing the msd similarity matrix...\n",
      "Done computing similarity matrix.\n",
      "Computing the msd similarity matrix...\n",
      "Done computing similarity matrix.\n",
      "Computing the msd similarity matrix...\n",
      "Done computing similarity matrix.\n",
      "Computing the msd similarity matrix...\n",
      "Done computing similarity matrix.\n",
      "Computing the msd similarity matrix...\n",
      "Done computing similarity matrix.\n",
      "Computing the msd similarity matrix...\n",
      "Done computing similarity matrix.\n",
      "Computing the msd similarity matrix...\n",
      "Done computing similarity matrix.\n",
      "Computing the msd similarity matrix...\n",
      "Done computing similarity matrix.\n",
      "Computing the msd similarity matrix...\n",
      "Done computing similarity matrix.\n",
      "Computing the msd similarity matrix...\n",
      "Done computing similarity matrix.\n",
      "Computing the msd similarity matrix...\n",
      "Done computing similarity matrix.\n",
      "Sample predictions for KNN_msd on service_rating:\n",
      "User: U1045, Item: 135052, True Rating: 2.0, Estimated Rating: 2\n",
      "User: U1045, Item: 132825, True Rating: 1.0, Estimated Rating: 1.0\n",
      "User: U1045, Item: 135060, True Rating: 2.0, Estimated Rating: 2\n",
      "User: U1045, Item: 135060, True Rating: 2.0, Estimated Rating: 2\n",
      "User: U1045, Item: 132825, True Rating: 1.0, Estimated Rating: 1.0\n",
      "User: U1045, Item: 135032, True Rating: 0.0, Estimated Rating: 0\n",
      "   Algoritmo  RMSE CV  Precision    Recall     Rating Type\n",
      "0     Random    0.998   0.422395  0.066984          rating\n",
      "1   Baseline    0.505   0.197464  0.022772          rating\n",
      "2        SVD    0.057   0.173913  0.016292          rating\n",
      "3    KNN_msd    0.000   0.804348  0.193598          rating\n",
      "4     Random    1.017   0.456911  0.068210     food_rating\n",
      "5   Baseline    0.527   0.224638  0.023087     food_rating\n",
      "6        SVD    0.054   0.184783  0.017492     food_rating\n",
      "7    KNN_msd    0.000   0.833333  0.177485     food_rating\n",
      "8     Random    1.021   0.359178  0.057660  service_rating\n",
      "9   Baseline    0.534   0.141304  0.015224  service_rating\n",
      "10       SVD    0.055   0.148551  0.014055  service_rating\n",
      "11   KNN_msd    0.000   0.768116  0.193512  service_rating\n"
     ]
    }
   ],
   "source": [
    "import pandas as pd\n",
    "from surprise import Dataset, Reader\n",
    "from surprise.model_selection import GridSearchCV, cross_validate, KFold\n",
    "from surprise.prediction_algorithms import NormalPredictor, BaselineOnly, SVD, KNNBasic\n",
    "from collections import defaultdict\n",
    "from sklearn.model_selection import train_test_split as sklearn_train_test_split\n",
    "\n",
    "ratings_data_f = df_ratings.sample(n=100000, replace=True)\n",
    "ratings_data_f = ratings_data_f[['userID', 'placeID', 'rating', 'food_rating', 'service_rating']]\n",
    "reader = Reader(rating_scale=(0, 2))\n",
    "\n",
    "def evaluate(data_train, algo):\n",
    "    cv_results = cross_validate(algo, data_train, measures=['RMSE'], cv=4, verbose=False, n_jobs=-1)\n",
    "    return round(cv_results['test_rmse'].mean(), 3)\n",
    "\n",
    "\n",
    "def precision_recall_at_k(predictions, k=10, threshold=2.0):\n",
    "    user_est_true = defaultdict(list)\n",
    "    for uid, _, true_r, est, _ in predictions:\n",
    "        user_est_true[uid].append((est, true_r))\n",
    "\n",
    "    precisions = dict()\n",
    "    recalls = dict()\n",
    "    for uid, user_ratings in user_est_true.items():\n",
    "        user_ratings.sort(key=lambda x: x[0], reverse=True)\n",
    "        n_rel = sum((true_r >= threshold) for (_, true_r) in user_ratings)\n",
    "        n_rec_k = sum((est >= threshold) for (est, _) in user_ratings[:k])\n",
    "        n_rel_and_rec_k = sum(((true_r >= threshold) and (est >= threshold)) for (est, true_r) in user_ratings[:k])\n",
    "        precisions[uid] = n_rel_and_rec_k / n_rec_k if n_rec_k != 0 else 0\n",
    "        recalls[uid] = n_rel_and_rec_k / n_rel if n_rel != 0 else 0\n",
    "    return precisions, recalls\n",
    "\n",
    "# Evaluate precision and recall\n",
    "def evaluate_precision_recall(data_train, algo):\n",
    "    kf = KFold(n_splits=4)\n",
    "    precision = []\n",
    "    recall = []\n",
    "    for trainset, testset in kf.split(data_train):\n",
    "        algo.fit(trainset)\n",
    "        predictions = algo.test(testset)\n",
    "        precisions, recalls = precision_recall_at_k(predictions, k=10, threshold=2.0)\n",
    "        precision.append(sum(prec for prec in precisions.values()) / len(precisions))\n",
    "        recall.append(sum(rec for rec in recalls.values()) / len(recalls))\n",
    "    return sum(precision) / len(precision), sum(recall) / len(recall)\n",
    "\n",
    "\n",
    "algorithms = {\n",
    "    'Random': (NormalPredictor, {}),\n",
    "    'Baseline': (BaselineOnly, {}),\n",
    "    'SVD': (SVD, {'n_factors': [50, 100], 'reg_all': [0.02, 0.05]}),\n",
    "    'KNN_cosine': (KNNBasic, {'k': [20, 30], 'sim_options': {'name': ['cosine'], 'user_based': [False]}}),\n",
    "    'KNN_msd': (KNNBasic, {'k': [20, 30], 'sim_options': {'name': ['msd'], 'user_based': [False]}})\n",
    "}\n",
    "\n",
    "results_list = []\n",
    "\n",
    "# Custom train-test split function\n",
    "def train_test_split_custom(df, column, reader):\n",
    "    train, test = sklearn_train_test_split(df[['userID', 'placeID', column]], test_size=0.20, random_state=100)\n",
    "    data_train = Dataset.load_from_df(train, reader)\n",
    "    return data_train, test\n",
    "\n",
    "for column in ['rating', 'food_rating', 'service_rating']:\n",
    "    print(f'Evaluating {column}...')\n",
    "    data_train, test = train_test_split_custom(ratings_data_f, column, reader)\n",
    "\n",
    "    for algo_name, (algo_class, param_grid) in algorithms.items():\n",
    "        print(f'Tuning {algo_name}...')\n",
    "        try:\n",
    "            gs = GridSearchCV(algo_class, param_grid, measures=['rmse'], cv=4)\n",
    "            gs.fit(data_train)\n",
    "\n",
    "            best_algo = gs.best_estimator['rmse']\n",
    "\n",
    "            rmse = evaluate(data_train, best_algo)\n",
    "\n",
    "            precision, recall = evaluate_precision_recall(data_train, best_algo)\n",
    "            \n",
    "            # Debug\n",
    "            print(f\"Sample predictions for {algo_name} on {column}:\")\n",
    "            for i, (uid, iid, true_r, est, _) in enumerate(best_algo.test(data_train.build_full_trainset().build_testset())):\n",
    "                print(f\"User: {uid}, Item: {iid}, True Rating: {true_r}, Estimated Rating: {est}\")\n",
    "                if i >= 5:  #Imprimir los primeros 5\n",
    "                    break\n",
    "\n",
    "            results_list.append({\n",
    "                'Algoritmo': algo_name,\n",
    "                'RMSE CV': rmse,\n",
    "                'Precision': precision,\n",
    "                'Recall': recall,\n",
    "                'Rating Type': column\n",
    "            })\n",
    "        except ZeroDivisionError as e:\n",
    "            print(f'Error tuning {algo_name}: {e}')\n",
    "\n",
    "# Results dataframe\n",
    "results_df = pd.DataFrame(results_list)\n",
    "print(results_df)\n"
   ]
  }
 ],
 "metadata": {
  "kernelspec": {
   "display_name": "Python 3",
   "language": "python",
   "name": "python3"
  },
  "language_info": {
   "codemirror_mode": {
    "name": "ipython",
    "version": 3
   },
   "file_extension": ".py",
   "mimetype": "text/x-python",
   "name": "python",
   "nbconvert_exporter": "python",
   "pygments_lexer": "ipython3",
   "version": "3.8.19"
  }
 },
 "nbformat": 4,
 "nbformat_minor": 2
}
