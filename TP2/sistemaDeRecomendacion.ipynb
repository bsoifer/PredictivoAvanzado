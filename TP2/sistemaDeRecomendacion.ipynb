{
 "cells": [
  {
   "cell_type": "code",
   "execution_count": 1,
   "metadata": {},
   "outputs": [],
   "source": [
    "import pandas as pd\n",
    "import numpy as np\n",
    "import matplotlib.pyplot as plt\n",
    "from sklearn.model_selection import train_test_split as skl_train_test_split\n",
    "from surprise import Reader, Dataset, SVD, KNNBasic, NormalPredictor, BaselineOnly, NMF\n",
    "from surprise.model_selection import cross_validate, KFold\n",
    "from collections import defaultdict\n",
    "\n",
    "plt.rcParams['font.family'] = 'Times New Roman'"
   ]
  },
  {
   "cell_type": "markdown",
   "metadata": {},
   "source": [
    "# Preparacion de datos"
   ]
  },
  {
   "cell_type": "code",
   "execution_count": 3,
   "metadata": {},
   "outputs": [
    {
     "name": "stdout",
     "output_type": "stream",
     "text": [
      "Shape del DataFrame original de locales: (130, 22)\n",
      "Shape del DataFrame final de locales con promedios: (130, 29)\n"
     ]
    }
   ],
   "source": [
    "df_ratings = pd.read_csv('TP2/datos/rating_final.csv')\n",
    "df_places = pd.read_csv('TP2/datos/geoplaces2.csv')\n",
    "\n",
    "datasets_locales = ['TP2/datos/chefmozaccepts.csv', 'TP2/datos/chefmozcuisine.csv', 'TP2/datos/chefmozhours4.csv', 'TP2/datos/chefmozparking.csv']\n",
    "\n",
    "for dataset in datasets_locales:\n",
    "    df_temp = pd.read_csv(dataset)\n",
    "    merged_places = pd.merge(df_places, df_temp, on='placeID', how='left')\n",
    "\n",
    "print(f\"Shape del DataFrame original de locales: {merged_places.shape}\")\n",
    "\n",
    "merged_places = df_places.drop_duplicates(subset=['placeID'])\n",
    "\n",
    "merged_places.to_csv('TP2/datos/dataLocal.csv', sep=';', index=False)\n",
    "\n",
    "for dataset in datasets_locales:\n",
    "    df_temp = pd.read_csv(dataset)\n",
    "    df_places = pd.merge(df_places, df_temp, on='placeID', how='left')\n",
    "\n",
    "avg_ratings = df_ratings.groupby('placeID')[['rating', 'food_rating', 'service_rating']].mean().reset_index()\n",
    "\n",
    "df_places = pd.merge(df_places, avg_ratings, on='placeID', how='left')\n",
    "df_places = df_places.drop_duplicates(subset=['placeID'])\n",
    "df_places.to_csv('TP2/datos/dataLocal_with_averages.csv', sep=';', index=False)\n",
    "\n",
    "print(f\"Shape del DataFrame final de locales con promedios: {df_places.shape}\")"
   ]
  },
  {
   "cell_type": "code",
   "execution_count": 3,
   "metadata": {},
   "outputs": [
    {
     "name": "stdout",
     "output_type": "stream",
     "text": [
      "Shape del DataFrame original de usuarios: (138, 24)\n"
     ]
    }
   ],
   "source": [
    "userprofile_file = 'TP2/datos/userprofile.csv'\n",
    "usercuisine_file = 'TP2/datos/usercuisine.csv'\n",
    "userpayment_file = 'TP2/datos/userpayment.csv'\n",
    "\n",
    "df_userprofile = pd.read_csv(userprofile_file, sep=',')\n",
    "df_usercuisine = pd.read_csv(usercuisine_file, sep=',')\n",
    "df_userpayment = pd.read_csv(userpayment_file, sep=',')\n",
    "\n",
    "df_users = pd.merge(df_userprofile, df_usercuisine, on='userID', how='left')\n",
    "df_users = pd.merge(df_users, df_userpayment, on='userID', how='left')\n",
    "\n",
    "df_users = df_users.drop_duplicates(subset=['userID'])\n",
    "\n",
    "avg_user_ratings = df_ratings.groupby('userID')[['rating', 'food_rating', 'service_rating']].mean().reset_index()\n",
    "\n",
    "df_users = pd.merge(df_users, avg_user_ratings, on='userID', how='left')\n",
    "\n",
    "df_users.to_csv('TP2/datos/dataUser.csv', sep=';', index=False)\n",
    "\n",
    "print(f\"Shape del DataFrame original de usuarios: {df_users.shape}\")"
   ]
  },
  {
   "cell_type": "code",
   "execution_count": 87,
   "metadata": {},
   "outputs": [],
   "source": [
    "ratings = df_users\n",
    "locales = df_places"
   ]
  },
  {
   "cell_type": "code",
   "execution_count": 88,
   "metadata": {},
   "outputs": [
    {
     "name": "stdout",
     "output_type": "stream",
     "text": [
      "Index(['userID', 'latitude', 'longitude', 'smoker', 'drink_level',\n",
      "       'dress_preference', 'ambience', 'transport', 'marital_status', 'hijos',\n",
      "       'birth_year', 'interest', 'personality', 'religion', 'activity',\n",
      "       'color', 'weight', 'budget', 'height', 'Rcuisine', 'Upayment', 'rating',\n",
      "       'food_rating', 'service_rating'],\n",
      "      dtype='object')\n",
      "Index(['placeID', 'latitude', 'longitude', 'the_geom_meter', 'name', 'address',\n",
      "       'city', 'state', 'country', 'fax', 'zip', 'alcohol', 'smoking_area',\n",
      "       'dress_code', 'accessibility', 'price', 'url', 'Rambience', 'franchise',\n",
      "       'area', 'other_services', 'Rpayment', 'Rcuisine', 'hours', 'days',\n",
      "       'parking_lot', 'rating', 'food_rating', 'service_rating'],\n",
      "      dtype='object')\n"
     ]
    }
   ],
   "source": [
    "print(ratings.columns)\n",
    "print(locales.columns)"
   ]
  },
  {
   "cell_type": "markdown",
   "metadata": {},
   "source": [
    "# Similitud del coseno"
   ]
  },
  {
   "cell_type": "code",
   "execution_count": 4,
   "metadata": {},
   "outputs": [],
   "source": [
    "df_ratings = pd.read_csv('TP2/datos/dataRatings.csv', delimiter=';')\n",
    "\n",
    "df_ratings = df_ratings.drop_duplicates(subset=['userID', 'placeID'])\n",
    "\n",
    "df_ratings.to_csv('TP2/datos/dataRatings.csv', index=False, sep=';')"
   ]
  },
  {
   "cell_type": "code",
   "execution_count": 90,
   "metadata": {},
   "outputs": [
    {
     "name": "stdout",
     "output_type": "stream",
     "text": [
      "[[1.         0.29052311 0.26067155 ... 0.43389833 0.7050241  0.17912732]\n",
      " [0.29052311 1.         0.62682767 ... 0.13611863 0.49574583 0.57941364]\n",
      " [0.26067155 0.62682767 1.         ... 0.22696956 0.15812585 0.33536408]\n",
      " ...\n",
      " [0.43389833 0.13611863 0.22696956 ... 1.         0.51621685 0.15246621]\n",
      " [0.7050241  0.49574583 0.15812585 ... 0.51621685 1.         0.43144178]\n",
      " [0.17912732 0.57941364 0.33536408 ... 0.15246621 0.43144178 1.        ]]\n"
     ]
    }
   ],
   "source": [
    "from sklearn.preprocessing import StandardScaler, OneHotEncoder\n",
    "from sklearn.compose import ColumnTransformer\n",
    "from sklearn.pipeline import Pipeline\n",
    "from sklearn.metrics.pairwise import cosine_similarity\n",
    "\n",
    "categorical_features = ['alcohol', 'smoking_area', 'dress_code', 'accessibility', 'price', 'Rambience', 'franchise', 'area', 'other_services', 'Rpayment', 'Rcuisine']\n",
    "numerical_features = ['latitude', 'longitude', 'rating', 'food_rating', 'service_rating']\n",
    "\n",
    "preprocessor = ColumnTransformer(\n",
    "    transformers=[\n",
    "        ('num', StandardScaler(), numerical_features),\n",
    "        ('cat', OneHotEncoder(), categorical_features)])\n",
    "\n",
    "pipeline = Pipeline(steps=[('preprocessor', preprocessor)])\n",
    "locales_preprocessed = pipeline.fit_transform(locales)\n",
    "\n",
    "similarity_matrix = cosine_similarity(locales_preprocessed, locales_preprocessed)\n",
    "\n",
    "print(similarity_matrix)"
   ]
  },
  {
   "cell_type": "code",
   "execution_count": 91,
   "metadata": {},
   "outputs": [
    {
     "name": "stdout",
     "output_type": "stream",
     "text": [
      "                                    name  \\\n",
      "522            Hamburguesas Valle Dorado   \n",
      "639                    Hamburguesas saul   \n",
      "57             Abondance Restaurante Bar   \n",
      "645                      Rincon Huasteco   \n",
      "669                         Cafe Chaires   \n",
      "705                 Restaurant Orizatlan   \n",
      "898                     sirloin stockade   \n",
      "330                            Luna Cafe   \n",
      "441                           Potzocalli   \n",
      "354                          el pueblito   \n",
      "261      Restaurante la Estrella de Dima   \n",
      "465  Restaurante El Chivero S.A. de C.V.   \n",
      "531                          dairy queen   \n",
      "54                        Restaurante 75   \n",
      "3                        puesto de tacos   \n",
      "\n",
      "                                      address             city    rating  \\\n",
      "522                                 Av. Coral  San Luis Potosi  0.800000   \n",
      "639  Av. Saan Luis enttre moctezuma y salinas  San Luis Potosi  0.600000   \n",
      "57                Industrias 908 Valle Dorado  San Luis Potosi  0.500000   \n",
      "645                                         ?                ?  0.916667   \n",
      "669                                         ?  San Luis Potosi  1.000000   \n",
      "705                  Pascual M. Hernandez 240  San Luis Potosi  0.875000   \n",
      "898                                         ?                ?  0.750000   \n",
      "330                   Francisco I. Madero 215  San Luis Potosi  1.176471   \n",
      "441                      Carretera Central Sn  San Luis Potosi  1.181818   \n",
      "354                                         ?                ?  1.000000   \n",
      "261           Soledad Sn Arboledas de Soledad          Soledad  1.250000   \n",
      "465                  Angel Veral 328 Altamira  San Luis Potosi  0.882353   \n",
      "531                                         ?                ?  1.166667   \n",
      "54         Villa de Pozos 4497 Villa de Pozos  San Luis Potosi  0.875000   \n",
      "3      esquina santos degollado y leon guzman           s.l.p.  1.281250   \n",
      "\n",
      "     food_rating  service_rating  \n",
      "522     1.400000        0.600000  \n",
      "639     0.600000        0.400000  \n",
      "57      0.500000        0.750000  \n",
      "645     1.166667        0.916667  \n",
      "669     1.000000        0.933333  \n",
      "705     1.375000        1.000000  \n",
      "898     0.750000        1.000000  \n",
      "330     1.176471        1.000000  \n",
      "441     1.181818        1.000000  \n",
      "354     1.200000        1.200000  \n",
      "261     1.250000        1.000000  \n",
      "465     1.058824        0.705882  \n",
      "531     1.166667        1.166667  \n",
      "54      1.000000        0.750000  \n",
      "3       1.343750        0.937500  \n"
     ]
    }
   ],
   "source": [
    "def recommend_locales_based_on_similarity(local_input, n=15):\n",
    "    try:\n",
    "        local_index = locales.loc[locales.name == local_input].index[0]\n",
    "    except IndexError:\n",
    "        return \"Local no encontrado. Asegúrate de que el nombre sea correcto.\"\n",
    "\n",
    "    similarity_score = list(enumerate(similarity_matrix[local_index]))\n",
    "    similarity_score = sorted(similarity_score, key=lambda x: x[1], reverse=True)\n",
    "    similarity_score = similarity_score[1:n+1]\n",
    "    local_indices = [i[0] for i in similarity_score]\n",
    "\n",
    "    return locales[['name', 'address', 'city', 'rating', 'food_rating', 'service_rating']].iloc[local_indices]\n",
    "\n",
    "recomendaciones = recommend_locales_based_on_similarity('carnitas_mata', n=15)\n",
    "print(recomendaciones)"
   ]
  },
  {
   "cell_type": "markdown",
   "metadata": {},
   "source": [
    "# SR usando Surprise"
   ]
  },
  {
   "cell_type": "code",
   "execution_count": 92,
   "metadata": {},
   "outputs": [
    {
     "name": "stdout",
     "output_type": "stream",
     "text": [
      "     userID  placeID  rating  food_rating  service_rating   latitude  \\\n",
      "0     U1077   135085       2            2               2  22.150802   \n",
      "1     U1077   135038       2            2               1  22.155651   \n",
      "2     U1077   132825       2            2               2  22.147392   \n",
      "3     U1077   135060       1            2               2  22.156883   \n",
      "4     U1068   135104       1            1               2  23.752982   \n",
      "...     ...      ...     ...          ...             ...        ...   \n",
      "1156  U1043   132630       1            1               1  23.752931   \n",
      "1157  U1011   132715       1            1               0  23.732423   \n",
      "1158  U1068   132733       1            1               0  23.752707   \n",
      "1159  U1068   132594       1            1               1  23.752168   \n",
      "1160  U1068   132660       0            0               0  23.752943   \n",
      "\n",
      "       longitude                                     the_geom_meter  \\\n",
      "0    -100.982680  0101000020957F00009F823DA6094858C18A2D4D37F9A4...   \n",
      "1    -100.977767  0101000020957F0000506149736E4758C1A8BC93DA48A3...   \n",
      "2    -100.983092  0101000020957F00001AD016568C4858C1243261274BA5...   \n",
      "3    -100.978485  0101000020957F00004C95C918394758C17A5C44896AA3...   \n",
      "4     -99.168434  0101000020957F00007CDF5EAFC58157C1645743B23E4F...   \n",
      "...          ...                                                ...   \n",
      "1156  -99.164473  0101000020957F000047206572DE8157C1D3315028254E...   \n",
      "1157  -99.158660  0101000020957F00004609B96F198557C11973490A874D...   \n",
      "1158  -99.162565  0101000020957F0000F2F4110CF28157C1DCFD7C1BA04D...   \n",
      "1159  -99.165709  0101000020957F00003AE4C6DBF48157C1CE38ECC1864E...   \n",
      "1160  -99.164679  0101000020957F00003D7905C9DC8157C13FCD1AB7334E...   \n",
      "\n",
      "                                       name  \\\n",
      "0                    Tortas Locas Hipocampo   \n",
      "1                     Restaurant la Chalita   \n",
      "2                           puesto de tacos   \n",
      "3                   Restaurante Marisco Sam   \n",
      "4                                      vips   \n",
      "...                                     ...   \n",
      "1156                             palomo tec   \n",
      "1157                   tacos de la estacion   \n",
      "1158                          Little Cesarz   \n",
      "1159     tacos de barbacoa enfrente del Tec   \n",
      "1160  carnitas mata calle Emilio Portes Gil   \n",
      "\n",
      "                                     address  ... url Rambience franchise  \\\n",
      "0             Venustiano Carranza 719 Centro  ...   ?  familiar         f   \n",
      "1         Guajardo Sn San Luis Potosi Centro  ...   ?  familiar         f   \n",
      "2     esquina santos degollado y leon guzman  ...   ?  familiar         f   \n",
      "3                 Ignacio Allende 785 Centro  ...   ?  familiar         f   \n",
      "4                                          ?  ...   ?  familiar         t   \n",
      "...                                      ...  ...  ..       ...       ...   \n",
      "1156                 blvrd emilio portes gil  ...   ?  familiar         f   \n",
      "1157                                       ?  ...   ?     quiet         f   \n",
      "1158                                       ?  ...   ?  familiar         t   \n",
      "1159                                       ?  ...   ?  familiar         f   \n",
      "1160                       Emilio Portes Gil  ...   ?  familiar         f   \n",
      "\n",
      "        area other_services Rpayment   Rcuisine         hours  \\\n",
      "0     closed           none     cash  Fast_Food  00:00-00:00;   \n",
      "1     closed           none     cash        NaN  08:00-17:00;   \n",
      "2       open           none     cash    Mexican  09:00-12:00;   \n",
      "3     closed           none     cash    Seafood  11:30-19:00;   \n",
      "4     closed        variety     cash    Mexican  00:00-23:30;   \n",
      "...      ...            ...      ...        ...           ...   \n",
      "1156  closed           none      NaN    Mexican  00:00-23:30;   \n",
      "1157    open           none     cash    Mexican  09:00-16:00;   \n",
      "1158  closed           none     cash   Pizzeria  10:30-22:30;   \n",
      "1159    open           none     cash    Mexican  09:30-23:30;   \n",
      "1160  closed           none      NaN        NaN  00:00-23:30;   \n",
      "\n",
      "                      days parking_lot  \n",
      "0     Mon;Tue;Wed;Thu;Fri;      public  \n",
      "1     Mon;Tue;Wed;Thu;Fri;        none  \n",
      "2     Mon;Tue;Wed;Thu;Fri;        none  \n",
      "3     Mon;Tue;Wed;Thu;Fri;        none  \n",
      "4     Mon;Tue;Wed;Thu;Fri;         yes  \n",
      "...                    ...         ...  \n",
      "1156  Mon;Tue;Wed;Thu;Fri;        none  \n",
      "1157  Mon;Tue;Wed;Thu;Fri;        none  \n",
      "1158  Mon;Tue;Wed;Thu;Fri;         yes  \n",
      "1159  Mon;Tue;Wed;Thu;Fri;      public  \n",
      "1160  Mon;Tue;Wed;Thu;Fri;        none  \n",
      "\n",
      "[1161 rows x 30 columns]\n"
     ]
    }
   ],
   "source": [
    "print(df_ratings)"
   ]
  },
  {
   "cell_type": "code",
   "execution_count": 93,
   "metadata": {},
   "outputs": [],
   "source": [
    "from surprise import Dataset\n",
    "from surprise import Reader\n",
    "\n",
    "reader = Reader(rating_scale=(0, 2))\n",
    "data = Dataset.load_from_df(df_ratings[['userID', 'placeID', 'rating']], reader)"
   ]
  },
  {
   "cell_type": "code",
   "execution_count": 94,
   "metadata": {},
   "outputs": [
    {
     "name": "stdout",
     "output_type": "stream",
     "text": [
      "Processing epoch 0\n",
      "Processing epoch 1\n",
      "Processing epoch 2\n",
      "Processing epoch 3\n",
      "Processing epoch 4\n",
      "Processing epoch 5\n",
      "Processing epoch 6\n",
      "Processing epoch 7\n",
      "Processing epoch 8\n",
      "Processing epoch 9\n",
      "Processing epoch 0\n",
      "Processing epoch 1\n",
      "Processing epoch 2\n",
      "Processing epoch 3\n",
      "Processing epoch 4\n",
      "Processing epoch 5\n",
      "Processing epoch 6\n",
      "Processing epoch 7\n",
      "Processing epoch 8\n",
      "Processing epoch 9\n",
      "Processing epoch 0\n",
      "Processing epoch 1\n",
      "Processing epoch 2\n",
      "Processing epoch 3\n",
      "Processing epoch 4\n",
      "Processing epoch 5\n",
      "Processing epoch 6\n",
      "Processing epoch 7\n",
      "Processing epoch 8\n",
      "Processing epoch 9\n",
      "Evaluating RMSE, MAE of algorithm SVD on 3 split(s).\n",
      "\n",
      "                  Fold 1  Fold 2  Fold 3  Mean    Std     \n",
      "RMSE (testset)    0.7360  0.7209  0.7010  0.7193  0.0143  \n",
      "MAE (testset)     0.6345  0.6118  0.6032  0.6165  0.0132  \n",
      "Fit time          0.00    0.00    0.00    0.00    0.00    \n",
      "Test time         0.00    0.00    0.00    0.00    0.00    \n"
     ]
    },
    {
     "data": {
      "text/plain": [
       "{'test_rmse': array([0.73599195, 0.72092471, 0.701023  ]),\n",
       " 'test_mae': array([0.6344627 , 0.61184337, 0.60324751]),\n",
       " 'fit_time': (0.004285097122192383,\n",
       "  0.002206087112426758,\n",
       "  0.002485036849975586),\n",
       " 'test_time': (0.0021359920501708984,\n",
       "  0.0008480548858642578,\n",
       "  0.0010077953338623047)}"
      ]
     },
     "execution_count": 94,
     "metadata": {},
     "output_type": "execute_result"
    }
   ],
   "source": [
    "from surprise import SVD\n",
    "from surprise.model_selection import cross_validate\n",
    "\n",
    "svd = SVD(verbose=True, n_epochs=10)\n",
    "cross_validate(svd, data, measures=['RMSE', 'MAE'], cv=3, verbose=True)"
   ]
  },
  {
   "cell_type": "code",
   "execution_count": 95,
   "metadata": {},
   "outputs": [
    {
     "name": "stdout",
     "output_type": "stream",
     "text": [
      "Processing epoch 0\n",
      "Processing epoch 1\n",
      "Processing epoch 2\n",
      "Processing epoch 3\n",
      "Processing epoch 4\n",
      "Processing epoch 5\n",
      "Processing epoch 6\n",
      "Processing epoch 7\n",
      "Processing epoch 8\n",
      "Processing epoch 9\n"
     ]
    },
    {
     "data": {
      "text/plain": [
       "<surprise.prediction_algorithms.matrix_factorization.SVD at 0x28cab99d0>"
      ]
     },
     "execution_count": 95,
     "metadata": {},
     "output_type": "execute_result"
    }
   ],
   "source": [
    "trainset = data.build_full_trainset()\n",
    "svd.fit(trainset)"
   ]
  },
  {
   "cell_type": "code",
   "execution_count": 96,
   "metadata": {},
   "outputs": [
    {
     "data": {
      "text/plain": [
       "Prediction(uid=10, iid=100, r_ui=None, est=1.1998277347114557, details={'was_impossible': False})"
      ]
     },
     "execution_count": 96,
     "metadata": {},
     "output_type": "execute_result"
    }
   ],
   "source": [
    "svd.predict(uid=10, iid=100)"
   ]
  },
  {
   "cell_type": "code",
   "execution_count": 97,
   "metadata": {},
   "outputs": [
    {
     "name": "stdout",
     "output_type": "stream",
     "text": [
      "     userID  placeID  rating  food_rating  service_rating   latitude  \\\n",
      "0     U1077   135085       2            2               2  22.150802   \n",
      "1     U1077   135038       2            2               1  22.155651   \n",
      "2     U1077   132825       2            2               2  22.147392   \n",
      "3     U1077   135060       1            2               2  22.156883   \n",
      "4     U1068   135104       1            1               2  23.752982   \n",
      "...     ...      ...     ...          ...             ...        ...   \n",
      "1156  U1043   132630       1            1               1  23.752931   \n",
      "1157  U1011   132715       1            1               0  23.732423   \n",
      "1158  U1068   132733       1            1               0  23.752707   \n",
      "1159  U1068   132594       1            1               1  23.752168   \n",
      "1160  U1068   132660       0            0               0  23.752943   \n",
      "\n",
      "       longitude                                     the_geom_meter  \\\n",
      "0    -100.982680  0101000020957F00009F823DA6094858C18A2D4D37F9A4...   \n",
      "1    -100.977767  0101000020957F0000506149736E4758C1A8BC93DA48A3...   \n",
      "2    -100.983092  0101000020957F00001AD016568C4858C1243261274BA5...   \n",
      "3    -100.978485  0101000020957F00004C95C918394758C17A5C44896AA3...   \n",
      "4     -99.168434  0101000020957F00007CDF5EAFC58157C1645743B23E4F...   \n",
      "...          ...                                                ...   \n",
      "1156  -99.164473  0101000020957F000047206572DE8157C1D3315028254E...   \n",
      "1157  -99.158660  0101000020957F00004609B96F198557C11973490A874D...   \n",
      "1158  -99.162565  0101000020957F0000F2F4110CF28157C1DCFD7C1BA04D...   \n",
      "1159  -99.165709  0101000020957F00003AE4C6DBF48157C1CE38ECC1864E...   \n",
      "1160  -99.164679  0101000020957F00003D7905C9DC8157C13FCD1AB7334E...   \n",
      "\n",
      "                                       name  \\\n",
      "0                    Tortas Locas Hipocampo   \n",
      "1                     Restaurant la Chalita   \n",
      "2                           puesto de tacos   \n",
      "3                   Restaurante Marisco Sam   \n",
      "4                                      vips   \n",
      "...                                     ...   \n",
      "1156                             palomo tec   \n",
      "1157                   tacos de la estacion   \n",
      "1158                          Little Cesarz   \n",
      "1159     tacos de barbacoa enfrente del Tec   \n",
      "1160  carnitas mata calle Emilio Portes Gil   \n",
      "\n",
      "                                     address  ... url Rambience franchise  \\\n",
      "0             Venustiano Carranza 719 Centro  ...   ?  familiar         f   \n",
      "1         Guajardo Sn San Luis Potosi Centro  ...   ?  familiar         f   \n",
      "2     esquina santos degollado y leon guzman  ...   ?  familiar         f   \n",
      "3                 Ignacio Allende 785 Centro  ...   ?  familiar         f   \n",
      "4                                          ?  ...   ?  familiar         t   \n",
      "...                                      ...  ...  ..       ...       ...   \n",
      "1156                 blvrd emilio portes gil  ...   ?  familiar         f   \n",
      "1157                                       ?  ...   ?     quiet         f   \n",
      "1158                                       ?  ...   ?  familiar         t   \n",
      "1159                                       ?  ...   ?  familiar         f   \n",
      "1160                       Emilio Portes Gil  ...   ?  familiar         f   \n",
      "\n",
      "        area other_services Rpayment   Rcuisine         hours  \\\n",
      "0     closed           none     cash  Fast_Food  00:00-00:00;   \n",
      "1     closed           none     cash        NaN  08:00-17:00;   \n",
      "2       open           none     cash    Mexican  09:00-12:00;   \n",
      "3     closed           none     cash    Seafood  11:30-19:00;   \n",
      "4     closed        variety     cash    Mexican  00:00-23:30;   \n",
      "...      ...            ...      ...        ...           ...   \n",
      "1156  closed           none      NaN    Mexican  00:00-23:30;   \n",
      "1157    open           none     cash    Mexican  09:00-16:00;   \n",
      "1158  closed           none     cash   Pizzeria  10:30-22:30;   \n",
      "1159    open           none     cash    Mexican  09:30-23:30;   \n",
      "1160  closed           none      NaN        NaN  00:00-23:30;   \n",
      "\n",
      "                      days parking_lot  \n",
      "0     Mon;Tue;Wed;Thu;Fri;      public  \n",
      "1     Mon;Tue;Wed;Thu;Fri;        none  \n",
      "2     Mon;Tue;Wed;Thu;Fri;        none  \n",
      "3     Mon;Tue;Wed;Thu;Fri;        none  \n",
      "4     Mon;Tue;Wed;Thu;Fri;         yes  \n",
      "...                    ...         ...  \n",
      "1156  Mon;Tue;Wed;Thu;Fri;        none  \n",
      "1157  Mon;Tue;Wed;Thu;Fri;        none  \n",
      "1158  Mon;Tue;Wed;Thu;Fri;         yes  \n",
      "1159  Mon;Tue;Wed;Thu;Fri;      public  \n",
      "1160  Mon;Tue;Wed;Thu;Fri;        none  \n",
      "\n",
      "[1161 rows x 30 columns]\n"
     ]
    }
   ],
   "source": [
    "print(df_ratings)"
   ]
  },
  {
   "cell_type": "code",
   "execution_count": 98,
   "metadata": {},
   "outputs": [
    {
     "data": {
      "text/html": [
       "<div>\n",
       "<style scoped>\n",
       "    .dataframe tbody tr th:only-of-type {\n",
       "        vertical-align: middle;\n",
       "    }\n",
       "\n",
       "    .dataframe tbody tr th {\n",
       "        vertical-align: top;\n",
       "    }\n",
       "\n",
       "    .dataframe thead th {\n",
       "        text-align: right;\n",
       "    }\n",
       "</style>\n",
       "<table border=\"1\" class=\"dataframe\">\n",
       "  <thead>\n",
       "    <tr style=\"text-align: right;\">\n",
       "      <th></th>\n",
       "      <th>userID</th>\n",
       "      <th>placeID</th>\n",
       "      <th>rating</th>\n",
       "      <th>food_rating</th>\n",
       "      <th>service_rating</th>\n",
       "      <th>latitude</th>\n",
       "      <th>longitude</th>\n",
       "      <th>the_geom_meter</th>\n",
       "      <th>name</th>\n",
       "      <th>address</th>\n",
       "      <th>...</th>\n",
       "      <th>url</th>\n",
       "      <th>Rambience</th>\n",
       "      <th>franchise</th>\n",
       "      <th>area</th>\n",
       "      <th>other_services</th>\n",
       "      <th>Rpayment</th>\n",
       "      <th>Rcuisine</th>\n",
       "      <th>hours</th>\n",
       "      <th>days</th>\n",
       "      <th>parking_lot</th>\n",
       "    </tr>\n",
       "  </thead>\n",
       "  <tbody>\n",
       "    <tr>\n",
       "      <th>0</th>\n",
       "      <td>U1077</td>\n",
       "      <td>135085</td>\n",
       "      <td>2</td>\n",
       "      <td>2</td>\n",
       "      <td>2</td>\n",
       "      <td>22.150802</td>\n",
       "      <td>-100.98268</td>\n",
       "      <td>0101000020957F00009F823DA6094858C18A2D4D37F9A4...</td>\n",
       "      <td>Tortas Locas Hipocampo</td>\n",
       "      <td>Venustiano Carranza 719 Centro</td>\n",
       "      <td>...</td>\n",
       "      <td>?</td>\n",
       "      <td>familiar</td>\n",
       "      <td>f</td>\n",
       "      <td>closed</td>\n",
       "      <td>none</td>\n",
       "      <td>cash</td>\n",
       "      <td>Fast_Food</td>\n",
       "      <td>00:00-00:00;</td>\n",
       "      <td>Mon;Tue;Wed;Thu;Fri;</td>\n",
       "      <td>public</td>\n",
       "    </tr>\n",
       "    <tr>\n",
       "      <th>68</th>\n",
       "      <td>U1108</td>\n",
       "      <td>135085</td>\n",
       "      <td>1</td>\n",
       "      <td>2</td>\n",
       "      <td>1</td>\n",
       "      <td>22.150802</td>\n",
       "      <td>-100.98268</td>\n",
       "      <td>0101000020957F00009F823DA6094858C18A2D4D37F9A4...</td>\n",
       "      <td>Tortas Locas Hipocampo</td>\n",
       "      <td>Venustiano Carranza 719 Centro</td>\n",
       "      <td>...</td>\n",
       "      <td>?</td>\n",
       "      <td>familiar</td>\n",
       "      <td>f</td>\n",
       "      <td>closed</td>\n",
       "      <td>none</td>\n",
       "      <td>cash</td>\n",
       "      <td>Fast_Food</td>\n",
       "      <td>00:00-00:00;</td>\n",
       "      <td>Mon;Tue;Wed;Thu;Fri;</td>\n",
       "      <td>public</td>\n",
       "    </tr>\n",
       "    <tr>\n",
       "      <th>211</th>\n",
       "      <td>U1081</td>\n",
       "      <td>135085</td>\n",
       "      <td>1</td>\n",
       "      <td>2</td>\n",
       "      <td>1</td>\n",
       "      <td>22.150802</td>\n",
       "      <td>-100.98268</td>\n",
       "      <td>0101000020957F00009F823DA6094858C18A2D4D37F9A4...</td>\n",
       "      <td>Tortas Locas Hipocampo</td>\n",
       "      <td>Venustiano Carranza 719 Centro</td>\n",
       "      <td>...</td>\n",
       "      <td>?</td>\n",
       "      <td>familiar</td>\n",
       "      <td>f</td>\n",
       "      <td>closed</td>\n",
       "      <td>none</td>\n",
       "      <td>cash</td>\n",
       "      <td>Fast_Food</td>\n",
       "      <td>00:00-00:00;</td>\n",
       "      <td>Mon;Tue;Wed;Thu;Fri;</td>\n",
       "      <td>public</td>\n",
       "    </tr>\n",
       "    <tr>\n",
       "      <th>246</th>\n",
       "      <td>U1056</td>\n",
       "      <td>135085</td>\n",
       "      <td>2</td>\n",
       "      <td>2</td>\n",
       "      <td>2</td>\n",
       "      <td>22.150802</td>\n",
       "      <td>-100.98268</td>\n",
       "      <td>0101000020957F00009F823DA6094858C18A2D4D37F9A4...</td>\n",
       "      <td>Tortas Locas Hipocampo</td>\n",
       "      <td>Venustiano Carranza 719 Centro</td>\n",
       "      <td>...</td>\n",
       "      <td>?</td>\n",
       "      <td>familiar</td>\n",
       "      <td>f</td>\n",
       "      <td>closed</td>\n",
       "      <td>none</td>\n",
       "      <td>cash</td>\n",
       "      <td>Fast_Food</td>\n",
       "      <td>00:00-00:00;</td>\n",
       "      <td>Mon;Tue;Wed;Thu;Fri;</td>\n",
       "      <td>public</td>\n",
       "    </tr>\n",
       "    <tr>\n",
       "      <th>257</th>\n",
       "      <td>U1134</td>\n",
       "      <td>135085</td>\n",
       "      <td>2</td>\n",
       "      <td>1</td>\n",
       "      <td>2</td>\n",
       "      <td>22.150802</td>\n",
       "      <td>-100.98268</td>\n",
       "      <td>0101000020957F00009F823DA6094858C18A2D4D37F9A4...</td>\n",
       "      <td>Tortas Locas Hipocampo</td>\n",
       "      <td>Venustiano Carranza 719 Centro</td>\n",
       "      <td>...</td>\n",
       "      <td>?</td>\n",
       "      <td>familiar</td>\n",
       "      <td>f</td>\n",
       "      <td>closed</td>\n",
       "      <td>none</td>\n",
       "      <td>cash</td>\n",
       "      <td>Fast_Food</td>\n",
       "      <td>00:00-00:00;</td>\n",
       "      <td>Mon;Tue;Wed;Thu;Fri;</td>\n",
       "      <td>public</td>\n",
       "    </tr>\n",
       "    <tr>\n",
       "      <th>347</th>\n",
       "      <td>U1116</td>\n",
       "      <td>135085</td>\n",
       "      <td>2</td>\n",
       "      <td>2</td>\n",
       "      <td>2</td>\n",
       "      <td>22.150802</td>\n",
       "      <td>-100.98268</td>\n",
       "      <td>0101000020957F00009F823DA6094858C18A2D4D37F9A4...</td>\n",
       "      <td>Tortas Locas Hipocampo</td>\n",
       "      <td>Venustiano Carranza 719 Centro</td>\n",
       "      <td>...</td>\n",
       "      <td>?</td>\n",
       "      <td>familiar</td>\n",
       "      <td>f</td>\n",
       "      <td>closed</td>\n",
       "      <td>none</td>\n",
       "      <td>cash</td>\n",
       "      <td>Fast_Food</td>\n",
       "      <td>00:00-00:00;</td>\n",
       "      <td>Mon;Tue;Wed;Thu;Fri;</td>\n",
       "      <td>public</td>\n",
       "    </tr>\n",
       "    <tr>\n",
       "      <th>403</th>\n",
       "      <td>U1132</td>\n",
       "      <td>135085</td>\n",
       "      <td>2</td>\n",
       "      <td>2</td>\n",
       "      <td>2</td>\n",
       "      <td>22.150802</td>\n",
       "      <td>-100.98268</td>\n",
       "      <td>0101000020957F00009F823DA6094858C18A2D4D37F9A4...</td>\n",
       "      <td>Tortas Locas Hipocampo</td>\n",
       "      <td>Venustiano Carranza 719 Centro</td>\n",
       "      <td>...</td>\n",
       "      <td>?</td>\n",
       "      <td>familiar</td>\n",
       "      <td>f</td>\n",
       "      <td>closed</td>\n",
       "      <td>none</td>\n",
       "      <td>cash</td>\n",
       "      <td>Fast_Food</td>\n",
       "      <td>00:00-00:00;</td>\n",
       "      <td>Mon;Tue;Wed;Thu;Fri;</td>\n",
       "      <td>public</td>\n",
       "    </tr>\n",
       "    <tr>\n",
       "      <th>420</th>\n",
       "      <td>U1120</td>\n",
       "      <td>135085</td>\n",
       "      <td>0</td>\n",
       "      <td>0</td>\n",
       "      <td>0</td>\n",
       "      <td>22.150802</td>\n",
       "      <td>-100.98268</td>\n",
       "      <td>0101000020957F00009F823DA6094858C18A2D4D37F9A4...</td>\n",
       "      <td>Tortas Locas Hipocampo</td>\n",
       "      <td>Venustiano Carranza 719 Centro</td>\n",
       "      <td>...</td>\n",
       "      <td>?</td>\n",
       "      <td>familiar</td>\n",
       "      <td>f</td>\n",
       "      <td>closed</td>\n",
       "      <td>none</td>\n",
       "      <td>cash</td>\n",
       "      <td>Fast_Food</td>\n",
       "      <td>00:00-00:00;</td>\n",
       "      <td>Mon;Tue;Wed;Thu;Fri;</td>\n",
       "      <td>public</td>\n",
       "    </tr>\n",
       "    <tr>\n",
       "      <th>450</th>\n",
       "      <td>U1036</td>\n",
       "      <td>135085</td>\n",
       "      <td>2</td>\n",
       "      <td>2</td>\n",
       "      <td>2</td>\n",
       "      <td>22.150802</td>\n",
       "      <td>-100.98268</td>\n",
       "      <td>0101000020957F00009F823DA6094858C18A2D4D37F9A4...</td>\n",
       "      <td>Tortas Locas Hipocampo</td>\n",
       "      <td>Venustiano Carranza 719 Centro</td>\n",
       "      <td>...</td>\n",
       "      <td>?</td>\n",
       "      <td>familiar</td>\n",
       "      <td>f</td>\n",
       "      <td>closed</td>\n",
       "      <td>none</td>\n",
       "      <td>cash</td>\n",
       "      <td>Fast_Food</td>\n",
       "      <td>00:00-00:00;</td>\n",
       "      <td>Mon;Tue;Wed;Thu;Fri;</td>\n",
       "      <td>public</td>\n",
       "    </tr>\n",
       "    <tr>\n",
       "      <th>485</th>\n",
       "      <td>U1084</td>\n",
       "      <td>135085</td>\n",
       "      <td>2</td>\n",
       "      <td>2</td>\n",
       "      <td>2</td>\n",
       "      <td>22.150802</td>\n",
       "      <td>-100.98268</td>\n",
       "      <td>0101000020957F00009F823DA6094858C18A2D4D37F9A4...</td>\n",
       "      <td>Tortas Locas Hipocampo</td>\n",
       "      <td>Venustiano Carranza 719 Centro</td>\n",
       "      <td>...</td>\n",
       "      <td>?</td>\n",
       "      <td>familiar</td>\n",
       "      <td>f</td>\n",
       "      <td>closed</td>\n",
       "      <td>none</td>\n",
       "      <td>cash</td>\n",
       "      <td>Fast_Food</td>\n",
       "      <td>00:00-00:00;</td>\n",
       "      <td>Mon;Tue;Wed;Thu;Fri;</td>\n",
       "      <td>public</td>\n",
       "    </tr>\n",
       "    <tr>\n",
       "      <th>504</th>\n",
       "      <td>U1113</td>\n",
       "      <td>135085</td>\n",
       "      <td>1</td>\n",
       "      <td>2</td>\n",
       "      <td>1</td>\n",
       "      <td>22.150802</td>\n",
       "      <td>-100.98268</td>\n",
       "      <td>0101000020957F00009F823DA6094858C18A2D4D37F9A4...</td>\n",
       "      <td>Tortas Locas Hipocampo</td>\n",
       "      <td>Venustiano Carranza 719 Centro</td>\n",
       "      <td>...</td>\n",
       "      <td>?</td>\n",
       "      <td>familiar</td>\n",
       "      <td>f</td>\n",
       "      <td>closed</td>\n",
       "      <td>none</td>\n",
       "      <td>cash</td>\n",
       "      <td>Fast_Food</td>\n",
       "      <td>00:00-00:00;</td>\n",
       "      <td>Mon;Tue;Wed;Thu;Fri;</td>\n",
       "      <td>public</td>\n",
       "    </tr>\n",
       "    <tr>\n",
       "      <th>512</th>\n",
       "      <td>U1104</td>\n",
       "      <td>135085</td>\n",
       "      <td>2</td>\n",
       "      <td>2</td>\n",
       "      <td>1</td>\n",
       "      <td>22.150802</td>\n",
       "      <td>-100.98268</td>\n",
       "      <td>0101000020957F00009F823DA6094858C18A2D4D37F9A4...</td>\n",
       "      <td>Tortas Locas Hipocampo</td>\n",
       "      <td>Venustiano Carranza 719 Centro</td>\n",
       "      <td>...</td>\n",
       "      <td>?</td>\n",
       "      <td>familiar</td>\n",
       "      <td>f</td>\n",
       "      <td>closed</td>\n",
       "      <td>none</td>\n",
       "      <td>cash</td>\n",
       "      <td>Fast_Food</td>\n",
       "      <td>00:00-00:00;</td>\n",
       "      <td>Mon;Tue;Wed;Thu;Fri;</td>\n",
       "      <td>public</td>\n",
       "    </tr>\n",
       "    <tr>\n",
       "      <th>530</th>\n",
       "      <td>U1106</td>\n",
       "      <td>135085</td>\n",
       "      <td>2</td>\n",
       "      <td>2</td>\n",
       "      <td>2</td>\n",
       "      <td>22.150802</td>\n",
       "      <td>-100.98268</td>\n",
       "      <td>0101000020957F00009F823DA6094858C18A2D4D37F9A4...</td>\n",
       "      <td>Tortas Locas Hipocampo</td>\n",
       "      <td>Venustiano Carranza 719 Centro</td>\n",
       "      <td>...</td>\n",
       "      <td>?</td>\n",
       "      <td>familiar</td>\n",
       "      <td>f</td>\n",
       "      <td>closed</td>\n",
       "      <td>none</td>\n",
       "      <td>cash</td>\n",
       "      <td>Fast_Food</td>\n",
       "      <td>00:00-00:00;</td>\n",
       "      <td>Mon;Tue;Wed;Thu;Fri;</td>\n",
       "      <td>public</td>\n",
       "    </tr>\n",
       "    <tr>\n",
       "      <th>547</th>\n",
       "      <td>U1045</td>\n",
       "      <td>135085</td>\n",
       "      <td>2</td>\n",
       "      <td>2</td>\n",
       "      <td>2</td>\n",
       "      <td>22.150802</td>\n",
       "      <td>-100.98268</td>\n",
       "      <td>0101000020957F00009F823DA6094858C18A2D4D37F9A4...</td>\n",
       "      <td>Tortas Locas Hipocampo</td>\n",
       "      <td>Venustiano Carranza 719 Centro</td>\n",
       "      <td>...</td>\n",
       "      <td>?</td>\n",
       "      <td>familiar</td>\n",
       "      <td>f</td>\n",
       "      <td>closed</td>\n",
       "      <td>none</td>\n",
       "      <td>cash</td>\n",
       "      <td>Fast_Food</td>\n",
       "      <td>00:00-00:00;</td>\n",
       "      <td>Mon;Tue;Wed;Thu;Fri;</td>\n",
       "      <td>public</td>\n",
       "    </tr>\n",
       "    <tr>\n",
       "      <th>573</th>\n",
       "      <td>U1016</td>\n",
       "      <td>135085</td>\n",
       "      <td>2</td>\n",
       "      <td>2</td>\n",
       "      <td>0</td>\n",
       "      <td>22.150802</td>\n",
       "      <td>-100.98268</td>\n",
       "      <td>0101000020957F00009F823DA6094858C18A2D4D37F9A4...</td>\n",
       "      <td>Tortas Locas Hipocampo</td>\n",
       "      <td>Venustiano Carranza 719 Centro</td>\n",
       "      <td>...</td>\n",
       "      <td>?</td>\n",
       "      <td>familiar</td>\n",
       "      <td>f</td>\n",
       "      <td>closed</td>\n",
       "      <td>none</td>\n",
       "      <td>cash</td>\n",
       "      <td>Fast_Food</td>\n",
       "      <td>00:00-00:00;</td>\n",
       "      <td>Mon;Tue;Wed;Thu;Fri;</td>\n",
       "      <td>public</td>\n",
       "    </tr>\n",
       "    <tr>\n",
       "      <th>592</th>\n",
       "      <td>U1007</td>\n",
       "      <td>135085</td>\n",
       "      <td>1</td>\n",
       "      <td>2</td>\n",
       "      <td>0</td>\n",
       "      <td>22.150802</td>\n",
       "      <td>-100.98268</td>\n",
       "      <td>0101000020957F00009F823DA6094858C18A2D4D37F9A4...</td>\n",
       "      <td>Tortas Locas Hipocampo</td>\n",
       "      <td>Venustiano Carranza 719 Centro</td>\n",
       "      <td>...</td>\n",
       "      <td>?</td>\n",
       "      <td>familiar</td>\n",
       "      <td>f</td>\n",
       "      <td>closed</td>\n",
       "      <td>none</td>\n",
       "      <td>cash</td>\n",
       "      <td>Fast_Food</td>\n",
       "      <td>00:00-00:00;</td>\n",
       "      <td>Mon;Tue;Wed;Thu;Fri;</td>\n",
       "      <td>public</td>\n",
       "    </tr>\n",
       "    <tr>\n",
       "      <th>639</th>\n",
       "      <td>U1013</td>\n",
       "      <td>135085</td>\n",
       "      <td>1</td>\n",
       "      <td>2</td>\n",
       "      <td>0</td>\n",
       "      <td>22.150802</td>\n",
       "      <td>-100.98268</td>\n",
       "      <td>0101000020957F00009F823DA6094858C18A2D4D37F9A4...</td>\n",
       "      <td>Tortas Locas Hipocampo</td>\n",
       "      <td>Venustiano Carranza 719 Centro</td>\n",
       "      <td>...</td>\n",
       "      <td>?</td>\n",
       "      <td>familiar</td>\n",
       "      <td>f</td>\n",
       "      <td>closed</td>\n",
       "      <td>none</td>\n",
       "      <td>cash</td>\n",
       "      <td>Fast_Food</td>\n",
       "      <td>00:00-00:00;</td>\n",
       "      <td>Mon;Tue;Wed;Thu;Fri;</td>\n",
       "      <td>public</td>\n",
       "    </tr>\n",
       "    <tr>\n",
       "      <th>688</th>\n",
       "      <td>U1001</td>\n",
       "      <td>135085</td>\n",
       "      <td>0</td>\n",
       "      <td>1</td>\n",
       "      <td>1</td>\n",
       "      <td>22.150802</td>\n",
       "      <td>-100.98268</td>\n",
       "      <td>0101000020957F00009F823DA6094858C18A2D4D37F9A4...</td>\n",
       "      <td>Tortas Locas Hipocampo</td>\n",
       "      <td>Venustiano Carranza 719 Centro</td>\n",
       "      <td>...</td>\n",
       "      <td>?</td>\n",
       "      <td>familiar</td>\n",
       "      <td>f</td>\n",
       "      <td>closed</td>\n",
       "      <td>none</td>\n",
       "      <td>cash</td>\n",
       "      <td>Fast_Food</td>\n",
       "      <td>00:00-00:00;</td>\n",
       "      <td>Mon;Tue;Wed;Thu;Fri;</td>\n",
       "      <td>public</td>\n",
       "    </tr>\n",
       "    <tr>\n",
       "      <th>695</th>\n",
       "      <td>U1135</td>\n",
       "      <td>135085</td>\n",
       "      <td>0</td>\n",
       "      <td>0</td>\n",
       "      <td>0</td>\n",
       "      <td>22.150802</td>\n",
       "      <td>-100.98268</td>\n",
       "      <td>0101000020957F00009F823DA6094858C18A2D4D37F9A4...</td>\n",
       "      <td>Tortas Locas Hipocampo</td>\n",
       "      <td>Venustiano Carranza 719 Centro</td>\n",
       "      <td>...</td>\n",
       "      <td>?</td>\n",
       "      <td>familiar</td>\n",
       "      <td>f</td>\n",
       "      <td>closed</td>\n",
       "      <td>none</td>\n",
       "      <td>cash</td>\n",
       "      <td>Fast_Food</td>\n",
       "      <td>00:00-00:00;</td>\n",
       "      <td>Mon;Tue;Wed;Thu;Fri;</td>\n",
       "      <td>public</td>\n",
       "    </tr>\n",
       "    <tr>\n",
       "      <th>702</th>\n",
       "      <td>U1032</td>\n",
       "      <td>135085</td>\n",
       "      <td>1</td>\n",
       "      <td>1</td>\n",
       "      <td>1</td>\n",
       "      <td>22.150802</td>\n",
       "      <td>-100.98268</td>\n",
       "      <td>0101000020957F00009F823DA6094858C18A2D4D37F9A4...</td>\n",
       "      <td>Tortas Locas Hipocampo</td>\n",
       "      <td>Venustiano Carranza 719 Centro</td>\n",
       "      <td>...</td>\n",
       "      <td>?</td>\n",
       "      <td>familiar</td>\n",
       "      <td>f</td>\n",
       "      <td>closed</td>\n",
       "      <td>none</td>\n",
       "      <td>cash</td>\n",
       "      <td>Fast_Food</td>\n",
       "      <td>00:00-00:00;</td>\n",
       "      <td>Mon;Tue;Wed;Thu;Fri;</td>\n",
       "      <td>public</td>\n",
       "    </tr>\n",
       "    <tr>\n",
       "      <th>726</th>\n",
       "      <td>U1062</td>\n",
       "      <td>135085</td>\n",
       "      <td>0</td>\n",
       "      <td>0</td>\n",
       "      <td>0</td>\n",
       "      <td>22.150802</td>\n",
       "      <td>-100.98268</td>\n",
       "      <td>0101000020957F00009F823DA6094858C18A2D4D37F9A4...</td>\n",
       "      <td>Tortas Locas Hipocampo</td>\n",
       "      <td>Venustiano Carranza 719 Centro</td>\n",
       "      <td>...</td>\n",
       "      <td>?</td>\n",
       "      <td>familiar</td>\n",
       "      <td>f</td>\n",
       "      <td>closed</td>\n",
       "      <td>none</td>\n",
       "      <td>cash</td>\n",
       "      <td>Fast_Food</td>\n",
       "      <td>00:00-00:00;</td>\n",
       "      <td>Mon;Tue;Wed;Thu;Fri;</td>\n",
       "      <td>public</td>\n",
       "    </tr>\n",
       "    <tr>\n",
       "      <th>730</th>\n",
       "      <td>U1092</td>\n",
       "      <td>135085</td>\n",
       "      <td>0</td>\n",
       "      <td>0</td>\n",
       "      <td>0</td>\n",
       "      <td>22.150802</td>\n",
       "      <td>-100.98268</td>\n",
       "      <td>0101000020957F00009F823DA6094858C18A2D4D37F9A4...</td>\n",
       "      <td>Tortas Locas Hipocampo</td>\n",
       "      <td>Venustiano Carranza 719 Centro</td>\n",
       "      <td>...</td>\n",
       "      <td>?</td>\n",
       "      <td>familiar</td>\n",
       "      <td>f</td>\n",
       "      <td>closed</td>\n",
       "      <td>none</td>\n",
       "      <td>cash</td>\n",
       "      <td>Fast_Food</td>\n",
       "      <td>00:00-00:00;</td>\n",
       "      <td>Mon;Tue;Wed;Thu;Fri;</td>\n",
       "      <td>public</td>\n",
       "    </tr>\n",
       "    <tr>\n",
       "      <th>759</th>\n",
       "      <td>U1109</td>\n",
       "      <td>135085</td>\n",
       "      <td>2</td>\n",
       "      <td>2</td>\n",
       "      <td>2</td>\n",
       "      <td>22.150802</td>\n",
       "      <td>-100.98268</td>\n",
       "      <td>0101000020957F00009F823DA6094858C18A2D4D37F9A4...</td>\n",
       "      <td>Tortas Locas Hipocampo</td>\n",
       "      <td>Venustiano Carranza 719 Centro</td>\n",
       "      <td>...</td>\n",
       "      <td>?</td>\n",
       "      <td>familiar</td>\n",
       "      <td>f</td>\n",
       "      <td>closed</td>\n",
       "      <td>none</td>\n",
       "      <td>cash</td>\n",
       "      <td>Fast_Food</td>\n",
       "      <td>00:00-00:00;</td>\n",
       "      <td>Mon;Tue;Wed;Thu;Fri;</td>\n",
       "      <td>public</td>\n",
       "    </tr>\n",
       "    <tr>\n",
       "      <th>782</th>\n",
       "      <td>U1122</td>\n",
       "      <td>135085</td>\n",
       "      <td>2</td>\n",
       "      <td>2</td>\n",
       "      <td>1</td>\n",
       "      <td>22.150802</td>\n",
       "      <td>-100.98268</td>\n",
       "      <td>0101000020957F00009F823DA6094858C18A2D4D37F9A4...</td>\n",
       "      <td>Tortas Locas Hipocampo</td>\n",
       "      <td>Venustiano Carranza 719 Centro</td>\n",
       "      <td>...</td>\n",
       "      <td>?</td>\n",
       "      <td>familiar</td>\n",
       "      <td>f</td>\n",
       "      <td>closed</td>\n",
       "      <td>none</td>\n",
       "      <td>cash</td>\n",
       "      <td>Fast_Food</td>\n",
       "      <td>00:00-00:00;</td>\n",
       "      <td>Mon;Tue;Wed;Thu;Fri;</td>\n",
       "      <td>public</td>\n",
       "    </tr>\n",
       "    <tr>\n",
       "      <th>790</th>\n",
       "      <td>U1098</td>\n",
       "      <td>135085</td>\n",
       "      <td>1</td>\n",
       "      <td>2</td>\n",
       "      <td>1</td>\n",
       "      <td>22.150802</td>\n",
       "      <td>-100.98268</td>\n",
       "      <td>0101000020957F00009F823DA6094858C18A2D4D37F9A4...</td>\n",
       "      <td>Tortas Locas Hipocampo</td>\n",
       "      <td>Venustiano Carranza 719 Centro</td>\n",
       "      <td>...</td>\n",
       "      <td>?</td>\n",
       "      <td>familiar</td>\n",
       "      <td>f</td>\n",
       "      <td>closed</td>\n",
       "      <td>none</td>\n",
       "      <td>cash</td>\n",
       "      <td>Fast_Food</td>\n",
       "      <td>00:00-00:00;</td>\n",
       "      <td>Mon;Tue;Wed;Thu;Fri;</td>\n",
       "      <td>public</td>\n",
       "    </tr>\n",
       "    <tr>\n",
       "      <th>804</th>\n",
       "      <td>U1033</td>\n",
       "      <td>135085</td>\n",
       "      <td>2</td>\n",
       "      <td>2</td>\n",
       "      <td>2</td>\n",
       "      <td>22.150802</td>\n",
       "      <td>-100.98268</td>\n",
       "      <td>0101000020957F00009F823DA6094858C18A2D4D37F9A4...</td>\n",
       "      <td>Tortas Locas Hipocampo</td>\n",
       "      <td>Venustiano Carranza 719 Centro</td>\n",
       "      <td>...</td>\n",
       "      <td>?</td>\n",
       "      <td>familiar</td>\n",
       "      <td>f</td>\n",
       "      <td>closed</td>\n",
       "      <td>none</td>\n",
       "      <td>cash</td>\n",
       "      <td>Fast_Food</td>\n",
       "      <td>00:00-00:00;</td>\n",
       "      <td>Mon;Tue;Wed;Thu;Fri;</td>\n",
       "      <td>public</td>\n",
       "    </tr>\n",
       "    <tr>\n",
       "      <th>825</th>\n",
       "      <td>U1089</td>\n",
       "      <td>135085</td>\n",
       "      <td>1</td>\n",
       "      <td>1</td>\n",
       "      <td>1</td>\n",
       "      <td>22.150802</td>\n",
       "      <td>-100.98268</td>\n",
       "      <td>0101000020957F00009F823DA6094858C18A2D4D37F9A4...</td>\n",
       "      <td>Tortas Locas Hipocampo</td>\n",
       "      <td>Venustiano Carranza 719 Centro</td>\n",
       "      <td>...</td>\n",
       "      <td>?</td>\n",
       "      <td>familiar</td>\n",
       "      <td>f</td>\n",
       "      <td>closed</td>\n",
       "      <td>none</td>\n",
       "      <td>cash</td>\n",
       "      <td>Fast_Food</td>\n",
       "      <td>00:00-00:00;</td>\n",
       "      <td>Mon;Tue;Wed;Thu;Fri;</td>\n",
       "      <td>public</td>\n",
       "    </tr>\n",
       "    <tr>\n",
       "      <th>855</th>\n",
       "      <td>U1027</td>\n",
       "      <td>135085</td>\n",
       "      <td>1</td>\n",
       "      <td>1</td>\n",
       "      <td>1</td>\n",
       "      <td>22.150802</td>\n",
       "      <td>-100.98268</td>\n",
       "      <td>0101000020957F00009F823DA6094858C18A2D4D37F9A4...</td>\n",
       "      <td>Tortas Locas Hipocampo</td>\n",
       "      <td>Venustiano Carranza 719 Centro</td>\n",
       "      <td>...</td>\n",
       "      <td>?</td>\n",
       "      <td>familiar</td>\n",
       "      <td>f</td>\n",
       "      <td>closed</td>\n",
       "      <td>none</td>\n",
       "      <td>cash</td>\n",
       "      <td>Fast_Food</td>\n",
       "      <td>00:00-00:00;</td>\n",
       "      <td>Mon;Tue;Wed;Thu;Fri;</td>\n",
       "      <td>public</td>\n",
       "    </tr>\n",
       "    <tr>\n",
       "      <th>861</th>\n",
       "      <td>U1029</td>\n",
       "      <td>135085</td>\n",
       "      <td>1</td>\n",
       "      <td>1</td>\n",
       "      <td>1</td>\n",
       "      <td>22.150802</td>\n",
       "      <td>-100.98268</td>\n",
       "      <td>0101000020957F00009F823DA6094858C18A2D4D37F9A4...</td>\n",
       "      <td>Tortas Locas Hipocampo</td>\n",
       "      <td>Venustiano Carranza 719 Centro</td>\n",
       "      <td>...</td>\n",
       "      <td>?</td>\n",
       "      <td>familiar</td>\n",
       "      <td>f</td>\n",
       "      <td>closed</td>\n",
       "      <td>none</td>\n",
       "      <td>cash</td>\n",
       "      <td>Fast_Food</td>\n",
       "      <td>00:00-00:00;</td>\n",
       "      <td>Mon;Tue;Wed;Thu;Fri;</td>\n",
       "      <td>public</td>\n",
       "    </tr>\n",
       "    <tr>\n",
       "      <th>870</th>\n",
       "      <td>U1086</td>\n",
       "      <td>135085</td>\n",
       "      <td>2</td>\n",
       "      <td>1</td>\n",
       "      <td>1</td>\n",
       "      <td>22.150802</td>\n",
       "      <td>-100.98268</td>\n",
       "      <td>0101000020957F00009F823DA6094858C18A2D4D37F9A4...</td>\n",
       "      <td>Tortas Locas Hipocampo</td>\n",
       "      <td>Venustiano Carranza 719 Centro</td>\n",
       "      <td>...</td>\n",
       "      <td>?</td>\n",
       "      <td>familiar</td>\n",
       "      <td>f</td>\n",
       "      <td>closed</td>\n",
       "      <td>none</td>\n",
       "      <td>cash</td>\n",
       "      <td>Fast_Food</td>\n",
       "      <td>00:00-00:00;</td>\n",
       "      <td>Mon;Tue;Wed;Thu;Fri;</td>\n",
       "      <td>public</td>\n",
       "    </tr>\n",
       "    <tr>\n",
       "      <th>882</th>\n",
       "      <td>U1137</td>\n",
       "      <td>135085</td>\n",
       "      <td>2</td>\n",
       "      <td>1</td>\n",
       "      <td>2</td>\n",
       "      <td>22.150802</td>\n",
       "      <td>-100.98268</td>\n",
       "      <td>0101000020957F00009F823DA6094858C18A2D4D37F9A4...</td>\n",
       "      <td>Tortas Locas Hipocampo</td>\n",
       "      <td>Venustiano Carranza 719 Centro</td>\n",
       "      <td>...</td>\n",
       "      <td>?</td>\n",
       "      <td>familiar</td>\n",
       "      <td>f</td>\n",
       "      <td>closed</td>\n",
       "      <td>none</td>\n",
       "      <td>cash</td>\n",
       "      <td>Fast_Food</td>\n",
       "      <td>00:00-00:00;</td>\n",
       "      <td>Mon;Tue;Wed;Thu;Fri;</td>\n",
       "      <td>public</td>\n",
       "    </tr>\n",
       "    <tr>\n",
       "      <th>922</th>\n",
       "      <td>U1046</td>\n",
       "      <td>135085</td>\n",
       "      <td>1</td>\n",
       "      <td>2</td>\n",
       "      <td>1</td>\n",
       "      <td>22.150802</td>\n",
       "      <td>-100.98268</td>\n",
       "      <td>0101000020957F00009F823DA6094858C18A2D4D37F9A4...</td>\n",
       "      <td>Tortas Locas Hipocampo</td>\n",
       "      <td>Venustiano Carranza 719 Centro</td>\n",
       "      <td>...</td>\n",
       "      <td>?</td>\n",
       "      <td>familiar</td>\n",
       "      <td>f</td>\n",
       "      <td>closed</td>\n",
       "      <td>none</td>\n",
       "      <td>cash</td>\n",
       "      <td>Fast_Food</td>\n",
       "      <td>00:00-00:00;</td>\n",
       "      <td>Mon;Tue;Wed;Thu;Fri;</td>\n",
       "      <td>public</td>\n",
       "    </tr>\n",
       "    <tr>\n",
       "      <th>964</th>\n",
       "      <td>U1090</td>\n",
       "      <td>135085</td>\n",
       "      <td>2</td>\n",
       "      <td>2</td>\n",
       "      <td>2</td>\n",
       "      <td>22.150802</td>\n",
       "      <td>-100.98268</td>\n",
       "      <td>0101000020957F00009F823DA6094858C18A2D4D37F9A4...</td>\n",
       "      <td>Tortas Locas Hipocampo</td>\n",
       "      <td>Venustiano Carranza 719 Centro</td>\n",
       "      <td>...</td>\n",
       "      <td>?</td>\n",
       "      <td>familiar</td>\n",
       "      <td>f</td>\n",
       "      <td>closed</td>\n",
       "      <td>none</td>\n",
       "      <td>cash</td>\n",
       "      <td>Fast_Food</td>\n",
       "      <td>00:00-00:00;</td>\n",
       "      <td>Mon;Tue;Wed;Thu;Fri;</td>\n",
       "      <td>public</td>\n",
       "    </tr>\n",
       "    <tr>\n",
       "      <th>999</th>\n",
       "      <td>U1059</td>\n",
       "      <td>135085</td>\n",
       "      <td>2</td>\n",
       "      <td>2</td>\n",
       "      <td>2</td>\n",
       "      <td>22.150802</td>\n",
       "      <td>-100.98268</td>\n",
       "      <td>0101000020957F00009F823DA6094858C18A2D4D37F9A4...</td>\n",
       "      <td>Tortas Locas Hipocampo</td>\n",
       "      <td>Venustiano Carranza 719 Centro</td>\n",
       "      <td>...</td>\n",
       "      <td>?</td>\n",
       "      <td>familiar</td>\n",
       "      <td>f</td>\n",
       "      <td>closed</td>\n",
       "      <td>none</td>\n",
       "      <td>cash</td>\n",
       "      <td>Fast_Food</td>\n",
       "      <td>00:00-00:00;</td>\n",
       "      <td>Mon;Tue;Wed;Thu;Fri;</td>\n",
       "      <td>public</td>\n",
       "    </tr>\n",
       "    <tr>\n",
       "      <th>1050</th>\n",
       "      <td>U1049</td>\n",
       "      <td>135085</td>\n",
       "      <td>0</td>\n",
       "      <td>0</td>\n",
       "      <td>0</td>\n",
       "      <td>22.150802</td>\n",
       "      <td>-100.98268</td>\n",
       "      <td>0101000020957F00009F823DA6094858C18A2D4D37F9A4...</td>\n",
       "      <td>Tortas Locas Hipocampo</td>\n",
       "      <td>Venustiano Carranza 719 Centro</td>\n",
       "      <td>...</td>\n",
       "      <td>?</td>\n",
       "      <td>familiar</td>\n",
       "      <td>f</td>\n",
       "      <td>closed</td>\n",
       "      <td>none</td>\n",
       "      <td>cash</td>\n",
       "      <td>Fast_Food</td>\n",
       "      <td>00:00-00:00;</td>\n",
       "      <td>Mon;Tue;Wed;Thu;Fri;</td>\n",
       "      <td>public</td>\n",
       "    </tr>\n",
       "    <tr>\n",
       "      <th>1071</th>\n",
       "      <td>U1002</td>\n",
       "      <td>135085</td>\n",
       "      <td>1</td>\n",
       "      <td>1</td>\n",
       "      <td>1</td>\n",
       "      <td>22.150802</td>\n",
       "      <td>-100.98268</td>\n",
       "      <td>0101000020957F00009F823DA6094858C18A2D4D37F9A4...</td>\n",
       "      <td>Tortas Locas Hipocampo</td>\n",
       "      <td>Venustiano Carranza 719 Centro</td>\n",
       "      <td>...</td>\n",
       "      <td>?</td>\n",
       "      <td>familiar</td>\n",
       "      <td>f</td>\n",
       "      <td>closed</td>\n",
       "      <td>none</td>\n",
       "      <td>cash</td>\n",
       "      <td>Fast_Food</td>\n",
       "      <td>00:00-00:00;</td>\n",
       "      <td>Mon;Tue;Wed;Thu;Fri;</td>\n",
       "      <td>public</td>\n",
       "    </tr>\n",
       "  </tbody>\n",
       "</table>\n",
       "<p>36 rows × 30 columns</p>\n",
       "</div>"
      ],
      "text/plain": [
       "     userID  placeID  rating  food_rating  service_rating   latitude  \\\n",
       "0     U1077   135085       2            2               2  22.150802   \n",
       "68    U1108   135085       1            2               1  22.150802   \n",
       "211   U1081   135085       1            2               1  22.150802   \n",
       "246   U1056   135085       2            2               2  22.150802   \n",
       "257   U1134   135085       2            1               2  22.150802   \n",
       "347   U1116   135085       2            2               2  22.150802   \n",
       "403   U1132   135085       2            2               2  22.150802   \n",
       "420   U1120   135085       0            0               0  22.150802   \n",
       "450   U1036   135085       2            2               2  22.150802   \n",
       "485   U1084   135085       2            2               2  22.150802   \n",
       "504   U1113   135085       1            2               1  22.150802   \n",
       "512   U1104   135085       2            2               1  22.150802   \n",
       "530   U1106   135085       2            2               2  22.150802   \n",
       "547   U1045   135085       2            2               2  22.150802   \n",
       "573   U1016   135085       2            2               0  22.150802   \n",
       "592   U1007   135085       1            2               0  22.150802   \n",
       "639   U1013   135085       1            2               0  22.150802   \n",
       "688   U1001   135085       0            1               1  22.150802   \n",
       "695   U1135   135085       0            0               0  22.150802   \n",
       "702   U1032   135085       1            1               1  22.150802   \n",
       "726   U1062   135085       0            0               0  22.150802   \n",
       "730   U1092   135085       0            0               0  22.150802   \n",
       "759   U1109   135085       2            2               2  22.150802   \n",
       "782   U1122   135085       2            2               1  22.150802   \n",
       "790   U1098   135085       1            2               1  22.150802   \n",
       "804   U1033   135085       2            2               2  22.150802   \n",
       "825   U1089   135085       1            1               1  22.150802   \n",
       "855   U1027   135085       1            1               1  22.150802   \n",
       "861   U1029   135085       1            1               1  22.150802   \n",
       "870   U1086   135085       2            1               1  22.150802   \n",
       "882   U1137   135085       2            1               2  22.150802   \n",
       "922   U1046   135085       1            2               1  22.150802   \n",
       "964   U1090   135085       2            2               2  22.150802   \n",
       "999   U1059   135085       2            2               2  22.150802   \n",
       "1050  U1049   135085       0            0               0  22.150802   \n",
       "1071  U1002   135085       1            1               1  22.150802   \n",
       "\n",
       "      longitude                                     the_geom_meter  \\\n",
       "0    -100.98268  0101000020957F00009F823DA6094858C18A2D4D37F9A4...   \n",
       "68   -100.98268  0101000020957F00009F823DA6094858C18A2D4D37F9A4...   \n",
       "211  -100.98268  0101000020957F00009F823DA6094858C18A2D4D37F9A4...   \n",
       "246  -100.98268  0101000020957F00009F823DA6094858C18A2D4D37F9A4...   \n",
       "257  -100.98268  0101000020957F00009F823DA6094858C18A2D4D37F9A4...   \n",
       "347  -100.98268  0101000020957F00009F823DA6094858C18A2D4D37F9A4...   \n",
       "403  -100.98268  0101000020957F00009F823DA6094858C18A2D4D37F9A4...   \n",
       "420  -100.98268  0101000020957F00009F823DA6094858C18A2D4D37F9A4...   \n",
       "450  -100.98268  0101000020957F00009F823DA6094858C18A2D4D37F9A4...   \n",
       "485  -100.98268  0101000020957F00009F823DA6094858C18A2D4D37F9A4...   \n",
       "504  -100.98268  0101000020957F00009F823DA6094858C18A2D4D37F9A4...   \n",
       "512  -100.98268  0101000020957F00009F823DA6094858C18A2D4D37F9A4...   \n",
       "530  -100.98268  0101000020957F00009F823DA6094858C18A2D4D37F9A4...   \n",
       "547  -100.98268  0101000020957F00009F823DA6094858C18A2D4D37F9A4...   \n",
       "573  -100.98268  0101000020957F00009F823DA6094858C18A2D4D37F9A4...   \n",
       "592  -100.98268  0101000020957F00009F823DA6094858C18A2D4D37F9A4...   \n",
       "639  -100.98268  0101000020957F00009F823DA6094858C18A2D4D37F9A4...   \n",
       "688  -100.98268  0101000020957F00009F823DA6094858C18A2D4D37F9A4...   \n",
       "695  -100.98268  0101000020957F00009F823DA6094858C18A2D4D37F9A4...   \n",
       "702  -100.98268  0101000020957F00009F823DA6094858C18A2D4D37F9A4...   \n",
       "726  -100.98268  0101000020957F00009F823DA6094858C18A2D4D37F9A4...   \n",
       "730  -100.98268  0101000020957F00009F823DA6094858C18A2D4D37F9A4...   \n",
       "759  -100.98268  0101000020957F00009F823DA6094858C18A2D4D37F9A4...   \n",
       "782  -100.98268  0101000020957F00009F823DA6094858C18A2D4D37F9A4...   \n",
       "790  -100.98268  0101000020957F00009F823DA6094858C18A2D4D37F9A4...   \n",
       "804  -100.98268  0101000020957F00009F823DA6094858C18A2D4D37F9A4...   \n",
       "825  -100.98268  0101000020957F00009F823DA6094858C18A2D4D37F9A4...   \n",
       "855  -100.98268  0101000020957F00009F823DA6094858C18A2D4D37F9A4...   \n",
       "861  -100.98268  0101000020957F00009F823DA6094858C18A2D4D37F9A4...   \n",
       "870  -100.98268  0101000020957F00009F823DA6094858C18A2D4D37F9A4...   \n",
       "882  -100.98268  0101000020957F00009F823DA6094858C18A2D4D37F9A4...   \n",
       "922  -100.98268  0101000020957F00009F823DA6094858C18A2D4D37F9A4...   \n",
       "964  -100.98268  0101000020957F00009F823DA6094858C18A2D4D37F9A4...   \n",
       "999  -100.98268  0101000020957F00009F823DA6094858C18A2D4D37F9A4...   \n",
       "1050 -100.98268  0101000020957F00009F823DA6094858C18A2D4D37F9A4...   \n",
       "1071 -100.98268  0101000020957F00009F823DA6094858C18A2D4D37F9A4...   \n",
       "\n",
       "                        name                         address  ... url  \\\n",
       "0     Tortas Locas Hipocampo  Venustiano Carranza 719 Centro  ...   ?   \n",
       "68    Tortas Locas Hipocampo  Venustiano Carranza 719 Centro  ...   ?   \n",
       "211   Tortas Locas Hipocampo  Venustiano Carranza 719 Centro  ...   ?   \n",
       "246   Tortas Locas Hipocampo  Venustiano Carranza 719 Centro  ...   ?   \n",
       "257   Tortas Locas Hipocampo  Venustiano Carranza 719 Centro  ...   ?   \n",
       "347   Tortas Locas Hipocampo  Venustiano Carranza 719 Centro  ...   ?   \n",
       "403   Tortas Locas Hipocampo  Venustiano Carranza 719 Centro  ...   ?   \n",
       "420   Tortas Locas Hipocampo  Venustiano Carranza 719 Centro  ...   ?   \n",
       "450   Tortas Locas Hipocampo  Venustiano Carranza 719 Centro  ...   ?   \n",
       "485   Tortas Locas Hipocampo  Venustiano Carranza 719 Centro  ...   ?   \n",
       "504   Tortas Locas Hipocampo  Venustiano Carranza 719 Centro  ...   ?   \n",
       "512   Tortas Locas Hipocampo  Venustiano Carranza 719 Centro  ...   ?   \n",
       "530   Tortas Locas Hipocampo  Venustiano Carranza 719 Centro  ...   ?   \n",
       "547   Tortas Locas Hipocampo  Venustiano Carranza 719 Centro  ...   ?   \n",
       "573   Tortas Locas Hipocampo  Venustiano Carranza 719 Centro  ...   ?   \n",
       "592   Tortas Locas Hipocampo  Venustiano Carranza 719 Centro  ...   ?   \n",
       "639   Tortas Locas Hipocampo  Venustiano Carranza 719 Centro  ...   ?   \n",
       "688   Tortas Locas Hipocampo  Venustiano Carranza 719 Centro  ...   ?   \n",
       "695   Tortas Locas Hipocampo  Venustiano Carranza 719 Centro  ...   ?   \n",
       "702   Tortas Locas Hipocampo  Venustiano Carranza 719 Centro  ...   ?   \n",
       "726   Tortas Locas Hipocampo  Venustiano Carranza 719 Centro  ...   ?   \n",
       "730   Tortas Locas Hipocampo  Venustiano Carranza 719 Centro  ...   ?   \n",
       "759   Tortas Locas Hipocampo  Venustiano Carranza 719 Centro  ...   ?   \n",
       "782   Tortas Locas Hipocampo  Venustiano Carranza 719 Centro  ...   ?   \n",
       "790   Tortas Locas Hipocampo  Venustiano Carranza 719 Centro  ...   ?   \n",
       "804   Tortas Locas Hipocampo  Venustiano Carranza 719 Centro  ...   ?   \n",
       "825   Tortas Locas Hipocampo  Venustiano Carranza 719 Centro  ...   ?   \n",
       "855   Tortas Locas Hipocampo  Venustiano Carranza 719 Centro  ...   ?   \n",
       "861   Tortas Locas Hipocampo  Venustiano Carranza 719 Centro  ...   ?   \n",
       "870   Tortas Locas Hipocampo  Venustiano Carranza 719 Centro  ...   ?   \n",
       "882   Tortas Locas Hipocampo  Venustiano Carranza 719 Centro  ...   ?   \n",
       "922   Tortas Locas Hipocampo  Venustiano Carranza 719 Centro  ...   ?   \n",
       "964   Tortas Locas Hipocampo  Venustiano Carranza 719 Centro  ...   ?   \n",
       "999   Tortas Locas Hipocampo  Venustiano Carranza 719 Centro  ...   ?   \n",
       "1050  Tortas Locas Hipocampo  Venustiano Carranza 719 Centro  ...   ?   \n",
       "1071  Tortas Locas Hipocampo  Venustiano Carranza 719 Centro  ...   ?   \n",
       "\n",
       "     Rambience franchise    area other_services Rpayment   Rcuisine  \\\n",
       "0     familiar         f  closed           none     cash  Fast_Food   \n",
       "68    familiar         f  closed           none     cash  Fast_Food   \n",
       "211   familiar         f  closed           none     cash  Fast_Food   \n",
       "246   familiar         f  closed           none     cash  Fast_Food   \n",
       "257   familiar         f  closed           none     cash  Fast_Food   \n",
       "347   familiar         f  closed           none     cash  Fast_Food   \n",
       "403   familiar         f  closed           none     cash  Fast_Food   \n",
       "420   familiar         f  closed           none     cash  Fast_Food   \n",
       "450   familiar         f  closed           none     cash  Fast_Food   \n",
       "485   familiar         f  closed           none     cash  Fast_Food   \n",
       "504   familiar         f  closed           none     cash  Fast_Food   \n",
       "512   familiar         f  closed           none     cash  Fast_Food   \n",
       "530   familiar         f  closed           none     cash  Fast_Food   \n",
       "547   familiar         f  closed           none     cash  Fast_Food   \n",
       "573   familiar         f  closed           none     cash  Fast_Food   \n",
       "592   familiar         f  closed           none     cash  Fast_Food   \n",
       "639   familiar         f  closed           none     cash  Fast_Food   \n",
       "688   familiar         f  closed           none     cash  Fast_Food   \n",
       "695   familiar         f  closed           none     cash  Fast_Food   \n",
       "702   familiar         f  closed           none     cash  Fast_Food   \n",
       "726   familiar         f  closed           none     cash  Fast_Food   \n",
       "730   familiar         f  closed           none     cash  Fast_Food   \n",
       "759   familiar         f  closed           none     cash  Fast_Food   \n",
       "782   familiar         f  closed           none     cash  Fast_Food   \n",
       "790   familiar         f  closed           none     cash  Fast_Food   \n",
       "804   familiar         f  closed           none     cash  Fast_Food   \n",
       "825   familiar         f  closed           none     cash  Fast_Food   \n",
       "855   familiar         f  closed           none     cash  Fast_Food   \n",
       "861   familiar         f  closed           none     cash  Fast_Food   \n",
       "870   familiar         f  closed           none     cash  Fast_Food   \n",
       "882   familiar         f  closed           none     cash  Fast_Food   \n",
       "922   familiar         f  closed           none     cash  Fast_Food   \n",
       "964   familiar         f  closed           none     cash  Fast_Food   \n",
       "999   familiar         f  closed           none     cash  Fast_Food   \n",
       "1050  familiar         f  closed           none     cash  Fast_Food   \n",
       "1071  familiar         f  closed           none     cash  Fast_Food   \n",
       "\n",
       "             hours                  days parking_lot  \n",
       "0     00:00-00:00;  Mon;Tue;Wed;Thu;Fri;      public  \n",
       "68    00:00-00:00;  Mon;Tue;Wed;Thu;Fri;      public  \n",
       "211   00:00-00:00;  Mon;Tue;Wed;Thu;Fri;      public  \n",
       "246   00:00-00:00;  Mon;Tue;Wed;Thu;Fri;      public  \n",
       "257   00:00-00:00;  Mon;Tue;Wed;Thu;Fri;      public  \n",
       "347   00:00-00:00;  Mon;Tue;Wed;Thu;Fri;      public  \n",
       "403   00:00-00:00;  Mon;Tue;Wed;Thu;Fri;      public  \n",
       "420   00:00-00:00;  Mon;Tue;Wed;Thu;Fri;      public  \n",
       "450   00:00-00:00;  Mon;Tue;Wed;Thu;Fri;      public  \n",
       "485   00:00-00:00;  Mon;Tue;Wed;Thu;Fri;      public  \n",
       "504   00:00-00:00;  Mon;Tue;Wed;Thu;Fri;      public  \n",
       "512   00:00-00:00;  Mon;Tue;Wed;Thu;Fri;      public  \n",
       "530   00:00-00:00;  Mon;Tue;Wed;Thu;Fri;      public  \n",
       "547   00:00-00:00;  Mon;Tue;Wed;Thu;Fri;      public  \n",
       "573   00:00-00:00;  Mon;Tue;Wed;Thu;Fri;      public  \n",
       "592   00:00-00:00;  Mon;Tue;Wed;Thu;Fri;      public  \n",
       "639   00:00-00:00;  Mon;Tue;Wed;Thu;Fri;      public  \n",
       "688   00:00-00:00;  Mon;Tue;Wed;Thu;Fri;      public  \n",
       "695   00:00-00:00;  Mon;Tue;Wed;Thu;Fri;      public  \n",
       "702   00:00-00:00;  Mon;Tue;Wed;Thu;Fri;      public  \n",
       "726   00:00-00:00;  Mon;Tue;Wed;Thu;Fri;      public  \n",
       "730   00:00-00:00;  Mon;Tue;Wed;Thu;Fri;      public  \n",
       "759   00:00-00:00;  Mon;Tue;Wed;Thu;Fri;      public  \n",
       "782   00:00-00:00;  Mon;Tue;Wed;Thu;Fri;      public  \n",
       "790   00:00-00:00;  Mon;Tue;Wed;Thu;Fri;      public  \n",
       "804   00:00-00:00;  Mon;Tue;Wed;Thu;Fri;      public  \n",
       "825   00:00-00:00;  Mon;Tue;Wed;Thu;Fri;      public  \n",
       "855   00:00-00:00;  Mon;Tue;Wed;Thu;Fri;      public  \n",
       "861   00:00-00:00;  Mon;Tue;Wed;Thu;Fri;      public  \n",
       "870   00:00-00:00;  Mon;Tue;Wed;Thu;Fri;      public  \n",
       "882   00:00-00:00;  Mon;Tue;Wed;Thu;Fri;      public  \n",
       "922   00:00-00:00;  Mon;Tue;Wed;Thu;Fri;      public  \n",
       "964   00:00-00:00;  Mon;Tue;Wed;Thu;Fri;      public  \n",
       "999   00:00-00:00;  Mon;Tue;Wed;Thu;Fri;      public  \n",
       "1050  00:00-00:00;  Mon;Tue;Wed;Thu;Fri;      public  \n",
       "1071  00:00-00:00;  Mon;Tue;Wed;Thu;Fri;      public  \n",
       "\n",
       "[36 rows x 30 columns]"
      ]
     },
     "execution_count": 98,
     "metadata": {},
     "output_type": "execute_result"
    }
   ],
   "source": [
    "df_ratings.loc[df_ratings.name.str.contains('Tortas Locas Hipocampo'), :]"
   ]
  },
  {
   "cell_type": "markdown",
   "metadata": {},
   "source": [
    "# Generando recomendaciones"
   ]
  },
  {
   "cell_type": "code",
   "execution_count": 99,
   "metadata": {},
   "outputs": [],
   "source": [
    "import difflib\n",
    "import random\n",
    "\n",
    "def get_local_id(nombre_local, metadata):\n",
    "    \n",
    "    existing_names = list(metadata['name'].values)\n",
    "    closest_names = difflib.get_close_matches(nombre_local, existing_names)\n",
    "    place_id = metadata[metadata['name'] == closest_names[0]]['placeID'].values[0]\n",
    "    return place_id\n",
    "\n",
    "def get_local_info(local_id, metadata):\n",
    "    \n",
    "    local_info = metadata[metadata['placeID'] == local_id][['id', 'latitude', \n",
    "                                                    'longitude', 'address']]\n",
    "    return local_info.to_dict(orient='records')\n",
    "\n",
    "def predict_review(userID, local_name, model, metadata):\n",
    "    \n",
    "    placeID = get_local_id(local_name, metadata)\n",
    "    review_prediction = model.predict(uid=userID, iid=placeID)\n",
    "    return review_prediction.est\n",
    "\n",
    "def generate_recommendation(userID, model, metadata, thresh=4):\n",
    "    \n",
    "    local_names = list(metadata['name'].values)\n",
    "    random.shuffle(local_names)\n",
    "    \n",
    "    for local_name in local_names:\n",
    "        rating = predict_review(userID, local_name, model, metadata)\n",
    "        if rating >= thresh:\n",
    "            placeID = get_local_id(local_name, metadata)\n",
    "            return get_local_info(placeID, metadata)"
   ]
  },
  {
   "cell_type": "code",
   "execution_count": 100,
   "metadata": {},
   "outputs": [],
   "source": [
    "generate_recommendation('U1103', svd, locales, 4.8)"
   ]
  },
  {
   "cell_type": "markdown",
   "metadata": {},
   "source": [
    "# TSNE"
   ]
  },
  {
   "cell_type": "code",
   "execution_count": 101,
   "metadata": {},
   "outputs": [
    {
     "name": "stdout",
     "output_type": "stream",
     "text": [
      "[t-SNE] Computing 91 nearest neighbors...\n",
      "[t-SNE] Indexed 130 samples in 0.000s...\n",
      "[t-SNE] Computed neighbors for 130 samples in 0.011s...\n",
      "[t-SNE] Computed conditional probabilities for sample 130 / 130\n",
      "[t-SNE] Mean sigma: 0.334978\n",
      "[t-SNE] Computed conditional probabilities in 0.002s\n",
      "[t-SNE] Iteration 50: error = 59.3879623, gradient norm = 0.8302994 (50 iterations in 0.275s)\n",
      "[t-SNE] Iteration 100: error = 64.8134003, gradient norm = 0.8059993 (50 iterations in 0.027s)\n",
      "[t-SNE] Iteration 150: error = 65.0180817, gradient norm = 0.7475141 (50 iterations in 0.022s)\n",
      "[t-SNE] Iteration 200: error = 72.0568237, gradient norm = 0.3900565 (50 iterations in 0.022s)\n",
      "[t-SNE] Iteration 250: error = 69.4488373, gradient norm = 0.4997140 (50 iterations in 0.022s)\n",
      "[t-SNE] KL divergence after 250 iterations with early exaggeration: 69.448837\n",
      "[t-SNE] Iteration 300: error = 1.2112625, gradient norm = 0.0143107 (50 iterations in 0.024s)\n",
      "[t-SNE] Iteration 350: error = 1.0809973, gradient norm = 0.0079607 (50 iterations in 0.024s)\n",
      "[t-SNE] Iteration 400: error = 1.0276675, gradient norm = 0.0030279 (50 iterations in 0.020s)\n",
      "[t-SNE] Iteration 450: error = 1.0173590, gradient norm = 0.0010131 (50 iterations in 0.017s)\n",
      "[t-SNE] Iteration 500: error = 1.0106080, gradient norm = 0.0029660 (50 iterations in 0.021s)\n",
      "[t-SNE] KL divergence after 500 iterations: 1.010608\n"
     ]
    }
   ],
   "source": [
    "from sklearn.manifold import TSNE\n",
    "\n",
    "tsne = TSNE(n_components=2, n_iter=500, verbose=3, random_state=1)\n",
    "locales_embedding = tsne.fit_transform(svd.qi)\n",
    "projection = pd.DataFrame(columns=['x', 'y'], data=locales_embedding)\n",
    "projection['nombreGenerado'] = locales['name']"
   ]
  },
  {
   "cell_type": "code",
   "execution_count": 102,
   "metadata": {},
   "outputs": [
    {
     "data": {
      "application/vnd.plotly.v1+json": {
       "config": {
        "plotlyServerURL": "https://plot.ly"
       },
       "data": [
        {
         "hovertemplate": "x=%{x}<br>y=%{y}<extra></extra>",
         "legendgroup": "",
         "marker": {
          "color": "#636efa",
          "symbol": "circle"
         },
         "mode": "markers",
         "name": "",
         "orientation": "v",
         "showlegend": false,
         "type": "scatter",
         "x": [
          -2.0802760124206543,
          -1.3584131002426147,
          -1.9756942987442017,
          1.3593988418579102,
          -3.6945974826812744,
          1.373687505722046,
          -1.5303096771240234,
          1.4073410034179688,
          -2.321502923965454,
          0.2368713766336441,
          2.658499002456665,
          0.8201786279678345,
          0.32368203997612,
          3.269827127456665,
          -1.4252156019210815,
          -0.7744741439819336,
          0.08846897631883621,
          2.475766181945801,
          -1.2436410188674927,
          -0.6810400485992432,
          1.7700421810150146,
          1.807571291923523,
          -0.7117331624031067,
          0.7761359810829163,
          -0.33860185742378235,
          2.1534154415130615,
          -0.2515251636505127,
          -0.6619892120361328,
          -1.3588825464248657,
          0.47041621804237366,
          2.259809970855713,
          -3.2623062133789062,
          -2.295015573501587,
          1.321427822113037,
          -0.4517046809196472,
          0.9850673675537109,
          -1.8671568632125854,
          -0.6790225505828857,
          -0.3824123740196228,
          0.19727858901023865,
          -2.516590118408203,
          -1.5506733655929565,
          0.23982420563697815,
          0.31644630432128906,
          0.43877464532852173,
          -0.14429262280464172,
          -1.1430362462997437,
          0.28338706493377686,
          -0.04440455883741379,
          3.492173194885254,
          1.8409883975982666,
          3.438570499420166,
          1.4072363376617432,
          -0.1636911928653717,
          0.30722710490226746,
          1.3643864393234253,
          1.0236653089523315,
          1.2584984302520752,
          -0.8629297614097595,
          2.469756603240967,
          -2.356349229812622,
          1.8048431873321533,
          3.78619122505188,
          1.3843224048614502,
          -2.0819623470306396,
          1.8101621866226196,
          -2.225080728530884,
          2.914527416229248,
          -1.7667399644851685,
          -1.116784691810608,
          0.023161403834819794,
          -0.7058705687522888,
          0.919524073600769,
          0.8487911224365234,
          1.414110779762268,
          1.8158996105194092,
          1.6785376071929932,
          -0.2647678256034851,
          0.6438620686531067,
          -0.9758576154708862,
          -0.5676424503326416,
          -0.8497017025947571,
          2.1078577041625977,
          2.712759017944336,
          0.27306392788887024,
          -2.979064464569092,
          -0.07023487985134125,
          0.9183024764060974,
          2.3664791584014893,
          -2.190809965133667,
          0.8990126252174377,
          0.2821703553199768,
          2.524252414703369,
          0.8795408010482788,
          -1.2010177373886108,
          -0.48598602414131165,
          -2.4788081645965576,
          0.7136356234550476,
          -1.3345383405685425,
          1.959929347038269,
          -2.1805224418640137,
          -0.7688044309616089,
          1.8079231977462769,
          1.0219295024871826,
          -0.7344291806221008,
          -0.4541560411453247,
          0.46219849586486816,
          3.1620688438415527,
          2.6031064987182617,
          1.5682579278945923,
          -0.6883051991462708,
          1.1021589040756226,
          -1.2828706502914429,
          -1.7263274192810059,
          -2.6074087619781494,
          1.1254695653915405,
          2.2042505741119385,
          -2.1993021965026855,
          -0.1676466315984726,
          -1.142764925956726,
          0.14351817965507507,
          -2.2321345806121826,
          -0.16569280624389648,
          -0.5143526792526245,
          -1.6990702152252197,
          0.19751295447349548,
          -1.2489266395568848,
          0.4759291708469391,
          -2.2173333168029785,
          -1.5476295948028564
         ],
         "xaxis": "x",
         "y": [
          -1.3473135232925415,
          0.5097138285636902,
          1.1963422298431396,
          1.104567289352417,
          -0.95787113904953,
          -3.123305082321167,
          0.008151472546160221,
          0.28902989625930786,
          0.7904748320579529,
          -0.8477450609207153,
          -1.0544884204864502,
          2.0348503589630127,
          -3.9378864765167236,
          1.0279912948608398,
          -2.229922294616699,
          -0.7724131941795349,
          -1.228298306465149,
          0.8452549576759338,
          1.5814284086227417,
          0.9432848691940308,
          -2.6545939445495605,
          0.4518543481826782,
          1.1760882139205933,
          -0.31947723031044006,
          1.6424436569213867,
          -0.7814221382141113,
          3.271888017654419,
          -3.2519195079803467,
          -2.268341541290283,
          0.9337623715400696,
          -0.22916439175605774,
          0.6123470067977905,
          2.200378179550171,
          1.01775324344635,
          0.06529094278812408,
          0.1762348711490631,
          -2.6814522743225098,
          -4.035674571990967,
          0.09858818352222443,
          -1.4425407648086548,
          -1.0123639106750488,
          -0.02331993170082569,
          -2.334963083267212,
          0.12749813497066498,
          0.9891613721847534,
          2.363193988800049,
          -1.577568769454956,
          -1.4532150030136108,
          1.7254533767700195,
          -0.9102477431297302,
          2.4781577587127686,
          -0.0024898063857108355,
          -0.034040436148643494,
          0.4735340476036072,
          -1.5119279623031616,
          -2.2858359813690186,
          -1.0324044227600098,
          0.6498757004737854,
          -1.6867035627365112,
          -0.9372702240943909,
          -1.8446191549301147,
          -3.768857717514038,
          -2.120899200439453,
          -2.057847261428833,
          -0.9380555152893066,
          0.9735735058784485,
          0.38761845231056213,
          -1.9028689861297607,
          -3.2053489685058594,
          -0.1556694209575653,
          -0.5525033473968506,
          -1.3849867582321167,
          2.043363094329834,
          3.119295597076416,
          -1.3761770725250244,
          2.0383412837982178,
          -3.0960700511932373,
          0.14568845927715302,
          -2.28360915184021,
          -0.3503074049949646,
          -3.311764717102051,
          2.050234317779541,
          -2.3675708770751953,
          -3.133073568344116,
          -0.9823045134544373,
          -2.3785178661346436,
          1.1334060430526733,
          -3.2148702144622803,
          -0.4476243555545807,
          -0.9743613004684448,
          1.466560959815979,
          -0.15159307420253754,
          -1.4469103813171387,
          1.2330808639526367,
          -0.589818000793457,
          1.138028621673584,
          -2.0414884090423584,
          -2.3491601943969727,
          -0.24664320051670074,
          -0.28009992837905884,
          -0.2269042730331421,
          -0.5399489402770996,
          -1.909613013267517,
          -4.122254848480225,
          -1.660796046257019,
          -2.2500598430633545,
          -0.35075822472572327,
          -0.07299862802028656,
          -2.331270217895508,
          -0.793674886226654,
          -3.501343011856079,
          -1.8638978004455566,
          2.670930862426758,
          0.15031109750270844,
          -2.1780147552490234,
          -2.112116575241089,
          -0.9207507967948914,
          0.9940963983535767,
          2.612992763519287,
          -2.0860955715179443,
          -2.5737195014953613,
          -2.7305283546447754,
          1.3437782526016235,
          -2.2215075492858887,
          -4.211648941040039,
          -3.0241777896881104,
          1.7116249799728394,
          -0.365975946187973,
          0.2246357947587967,
          -0.9199700355529785
         ],
         "yaxis": "y"
        }
       ],
       "layout": {
        "legend": {
         "tracegroupgap": 0
        },
        "margin": {
         "t": 60
        },
        "template": {
         "data": {
          "bar": [
           {
            "error_x": {
             "color": "#2a3f5f"
            },
            "error_y": {
             "color": "#2a3f5f"
            },
            "marker": {
             "line": {
              "color": "#E5ECF6",
              "width": 0.5
             },
             "pattern": {
              "fillmode": "overlay",
              "size": 10,
              "solidity": 0.2
             }
            },
            "type": "bar"
           }
          ],
          "barpolar": [
           {
            "marker": {
             "line": {
              "color": "#E5ECF6",
              "width": 0.5
             },
             "pattern": {
              "fillmode": "overlay",
              "size": 10,
              "solidity": 0.2
             }
            },
            "type": "barpolar"
           }
          ],
          "carpet": [
           {
            "aaxis": {
             "endlinecolor": "#2a3f5f",
             "gridcolor": "white",
             "linecolor": "white",
             "minorgridcolor": "white",
             "startlinecolor": "#2a3f5f"
            },
            "baxis": {
             "endlinecolor": "#2a3f5f",
             "gridcolor": "white",
             "linecolor": "white",
             "minorgridcolor": "white",
             "startlinecolor": "#2a3f5f"
            },
            "type": "carpet"
           }
          ],
          "choropleth": [
           {
            "colorbar": {
             "outlinewidth": 0,
             "ticks": ""
            },
            "type": "choropleth"
           }
          ],
          "contour": [
           {
            "colorbar": {
             "outlinewidth": 0,
             "ticks": ""
            },
            "colorscale": [
             [
              0,
              "#0d0887"
             ],
             [
              0.1111111111111111,
              "#46039f"
             ],
             [
              0.2222222222222222,
              "#7201a8"
             ],
             [
              0.3333333333333333,
              "#9c179e"
             ],
             [
              0.4444444444444444,
              "#bd3786"
             ],
             [
              0.5555555555555556,
              "#d8576b"
             ],
             [
              0.6666666666666666,
              "#ed7953"
             ],
             [
              0.7777777777777778,
              "#fb9f3a"
             ],
             [
              0.8888888888888888,
              "#fdca26"
             ],
             [
              1,
              "#f0f921"
             ]
            ],
            "type": "contour"
           }
          ],
          "contourcarpet": [
           {
            "colorbar": {
             "outlinewidth": 0,
             "ticks": ""
            },
            "type": "contourcarpet"
           }
          ],
          "heatmap": [
           {
            "colorbar": {
             "outlinewidth": 0,
             "ticks": ""
            },
            "colorscale": [
             [
              0,
              "#0d0887"
             ],
             [
              0.1111111111111111,
              "#46039f"
             ],
             [
              0.2222222222222222,
              "#7201a8"
             ],
             [
              0.3333333333333333,
              "#9c179e"
             ],
             [
              0.4444444444444444,
              "#bd3786"
             ],
             [
              0.5555555555555556,
              "#d8576b"
             ],
             [
              0.6666666666666666,
              "#ed7953"
             ],
             [
              0.7777777777777778,
              "#fb9f3a"
             ],
             [
              0.8888888888888888,
              "#fdca26"
             ],
             [
              1,
              "#f0f921"
             ]
            ],
            "type": "heatmap"
           }
          ],
          "heatmapgl": [
           {
            "colorbar": {
             "outlinewidth": 0,
             "ticks": ""
            },
            "colorscale": [
             [
              0,
              "#0d0887"
             ],
             [
              0.1111111111111111,
              "#46039f"
             ],
             [
              0.2222222222222222,
              "#7201a8"
             ],
             [
              0.3333333333333333,
              "#9c179e"
             ],
             [
              0.4444444444444444,
              "#bd3786"
             ],
             [
              0.5555555555555556,
              "#d8576b"
             ],
             [
              0.6666666666666666,
              "#ed7953"
             ],
             [
              0.7777777777777778,
              "#fb9f3a"
             ],
             [
              0.8888888888888888,
              "#fdca26"
             ],
             [
              1,
              "#f0f921"
             ]
            ],
            "type": "heatmapgl"
           }
          ],
          "histogram": [
           {
            "marker": {
             "pattern": {
              "fillmode": "overlay",
              "size": 10,
              "solidity": 0.2
             }
            },
            "type": "histogram"
           }
          ],
          "histogram2d": [
           {
            "colorbar": {
             "outlinewidth": 0,
             "ticks": ""
            },
            "colorscale": [
             [
              0,
              "#0d0887"
             ],
             [
              0.1111111111111111,
              "#46039f"
             ],
             [
              0.2222222222222222,
              "#7201a8"
             ],
             [
              0.3333333333333333,
              "#9c179e"
             ],
             [
              0.4444444444444444,
              "#bd3786"
             ],
             [
              0.5555555555555556,
              "#d8576b"
             ],
             [
              0.6666666666666666,
              "#ed7953"
             ],
             [
              0.7777777777777778,
              "#fb9f3a"
             ],
             [
              0.8888888888888888,
              "#fdca26"
             ],
             [
              1,
              "#f0f921"
             ]
            ],
            "type": "histogram2d"
           }
          ],
          "histogram2dcontour": [
           {
            "colorbar": {
             "outlinewidth": 0,
             "ticks": ""
            },
            "colorscale": [
             [
              0,
              "#0d0887"
             ],
             [
              0.1111111111111111,
              "#46039f"
             ],
             [
              0.2222222222222222,
              "#7201a8"
             ],
             [
              0.3333333333333333,
              "#9c179e"
             ],
             [
              0.4444444444444444,
              "#bd3786"
             ],
             [
              0.5555555555555556,
              "#d8576b"
             ],
             [
              0.6666666666666666,
              "#ed7953"
             ],
             [
              0.7777777777777778,
              "#fb9f3a"
             ],
             [
              0.8888888888888888,
              "#fdca26"
             ],
             [
              1,
              "#f0f921"
             ]
            ],
            "type": "histogram2dcontour"
           }
          ],
          "mesh3d": [
           {
            "colorbar": {
             "outlinewidth": 0,
             "ticks": ""
            },
            "type": "mesh3d"
           }
          ],
          "parcoords": [
           {
            "line": {
             "colorbar": {
              "outlinewidth": 0,
              "ticks": ""
             }
            },
            "type": "parcoords"
           }
          ],
          "pie": [
           {
            "automargin": true,
            "type": "pie"
           }
          ],
          "scatter": [
           {
            "fillpattern": {
             "fillmode": "overlay",
             "size": 10,
             "solidity": 0.2
            },
            "type": "scatter"
           }
          ],
          "scatter3d": [
           {
            "line": {
             "colorbar": {
              "outlinewidth": 0,
              "ticks": ""
             }
            },
            "marker": {
             "colorbar": {
              "outlinewidth": 0,
              "ticks": ""
             }
            },
            "type": "scatter3d"
           }
          ],
          "scattercarpet": [
           {
            "marker": {
             "colorbar": {
              "outlinewidth": 0,
              "ticks": ""
             }
            },
            "type": "scattercarpet"
           }
          ],
          "scattergeo": [
           {
            "marker": {
             "colorbar": {
              "outlinewidth": 0,
              "ticks": ""
             }
            },
            "type": "scattergeo"
           }
          ],
          "scattergl": [
           {
            "marker": {
             "colorbar": {
              "outlinewidth": 0,
              "ticks": ""
             }
            },
            "type": "scattergl"
           }
          ],
          "scattermapbox": [
           {
            "marker": {
             "colorbar": {
              "outlinewidth": 0,
              "ticks": ""
             }
            },
            "type": "scattermapbox"
           }
          ],
          "scatterpolar": [
           {
            "marker": {
             "colorbar": {
              "outlinewidth": 0,
              "ticks": ""
             }
            },
            "type": "scatterpolar"
           }
          ],
          "scatterpolargl": [
           {
            "marker": {
             "colorbar": {
              "outlinewidth": 0,
              "ticks": ""
             }
            },
            "type": "scatterpolargl"
           }
          ],
          "scatterternary": [
           {
            "marker": {
             "colorbar": {
              "outlinewidth": 0,
              "ticks": ""
             }
            },
            "type": "scatterternary"
           }
          ],
          "surface": [
           {
            "colorbar": {
             "outlinewidth": 0,
             "ticks": ""
            },
            "colorscale": [
             [
              0,
              "#0d0887"
             ],
             [
              0.1111111111111111,
              "#46039f"
             ],
             [
              0.2222222222222222,
              "#7201a8"
             ],
             [
              0.3333333333333333,
              "#9c179e"
             ],
             [
              0.4444444444444444,
              "#bd3786"
             ],
             [
              0.5555555555555556,
              "#d8576b"
             ],
             [
              0.6666666666666666,
              "#ed7953"
             ],
             [
              0.7777777777777778,
              "#fb9f3a"
             ],
             [
              0.8888888888888888,
              "#fdca26"
             ],
             [
              1,
              "#f0f921"
             ]
            ],
            "type": "surface"
           }
          ],
          "table": [
           {
            "cells": {
             "fill": {
              "color": "#EBF0F8"
             },
             "line": {
              "color": "white"
             }
            },
            "header": {
             "fill": {
              "color": "#C8D4E3"
             },
             "line": {
              "color": "white"
             }
            },
            "type": "table"
           }
          ]
         },
         "layout": {
          "annotationdefaults": {
           "arrowcolor": "#2a3f5f",
           "arrowhead": 0,
           "arrowwidth": 1
          },
          "autotypenumbers": "strict",
          "coloraxis": {
           "colorbar": {
            "outlinewidth": 0,
            "ticks": ""
           }
          },
          "colorscale": {
           "diverging": [
            [
             0,
             "#8e0152"
            ],
            [
             0.1,
             "#c51b7d"
            ],
            [
             0.2,
             "#de77ae"
            ],
            [
             0.3,
             "#f1b6da"
            ],
            [
             0.4,
             "#fde0ef"
            ],
            [
             0.5,
             "#f7f7f7"
            ],
            [
             0.6,
             "#e6f5d0"
            ],
            [
             0.7,
             "#b8e186"
            ],
            [
             0.8,
             "#7fbc41"
            ],
            [
             0.9,
             "#4d9221"
            ],
            [
             1,
             "#276419"
            ]
           ],
           "sequential": [
            [
             0,
             "#0d0887"
            ],
            [
             0.1111111111111111,
             "#46039f"
            ],
            [
             0.2222222222222222,
             "#7201a8"
            ],
            [
             0.3333333333333333,
             "#9c179e"
            ],
            [
             0.4444444444444444,
             "#bd3786"
            ],
            [
             0.5555555555555556,
             "#d8576b"
            ],
            [
             0.6666666666666666,
             "#ed7953"
            ],
            [
             0.7777777777777778,
             "#fb9f3a"
            ],
            [
             0.8888888888888888,
             "#fdca26"
            ],
            [
             1,
             "#f0f921"
            ]
           ],
           "sequentialminus": [
            [
             0,
             "#0d0887"
            ],
            [
             0.1111111111111111,
             "#46039f"
            ],
            [
             0.2222222222222222,
             "#7201a8"
            ],
            [
             0.3333333333333333,
             "#9c179e"
            ],
            [
             0.4444444444444444,
             "#bd3786"
            ],
            [
             0.5555555555555556,
             "#d8576b"
            ],
            [
             0.6666666666666666,
             "#ed7953"
            ],
            [
             0.7777777777777778,
             "#fb9f3a"
            ],
            [
             0.8888888888888888,
             "#fdca26"
            ],
            [
             1,
             "#f0f921"
            ]
           ]
          },
          "colorway": [
           "#636efa",
           "#EF553B",
           "#00cc96",
           "#ab63fa",
           "#FFA15A",
           "#19d3f3",
           "#FF6692",
           "#B6E880",
           "#FF97FF",
           "#FECB52"
          ],
          "font": {
           "color": "#2a3f5f"
          },
          "geo": {
           "bgcolor": "white",
           "lakecolor": "white",
           "landcolor": "#E5ECF6",
           "showlakes": true,
           "showland": true,
           "subunitcolor": "white"
          },
          "hoverlabel": {
           "align": "left"
          },
          "hovermode": "closest",
          "mapbox": {
           "style": "light"
          },
          "paper_bgcolor": "white",
          "plot_bgcolor": "#E5ECF6",
          "polar": {
           "angularaxis": {
            "gridcolor": "white",
            "linecolor": "white",
            "ticks": ""
           },
           "bgcolor": "#E5ECF6",
           "radialaxis": {
            "gridcolor": "white",
            "linecolor": "white",
            "ticks": ""
           }
          },
          "scene": {
           "xaxis": {
            "backgroundcolor": "#E5ECF6",
            "gridcolor": "white",
            "gridwidth": 2,
            "linecolor": "white",
            "showbackground": true,
            "ticks": "",
            "zerolinecolor": "white"
           },
           "yaxis": {
            "backgroundcolor": "#E5ECF6",
            "gridcolor": "white",
            "gridwidth": 2,
            "linecolor": "white",
            "showbackground": true,
            "ticks": "",
            "zerolinecolor": "white"
           },
           "zaxis": {
            "backgroundcolor": "#E5ECF6",
            "gridcolor": "white",
            "gridwidth": 2,
            "linecolor": "white",
            "showbackground": true,
            "ticks": "",
            "zerolinecolor": "white"
           }
          },
          "shapedefaults": {
           "line": {
            "color": "#2a3f5f"
           }
          },
          "ternary": {
           "aaxis": {
            "gridcolor": "white",
            "linecolor": "white",
            "ticks": ""
           },
           "baxis": {
            "gridcolor": "white",
            "linecolor": "white",
            "ticks": ""
           },
           "bgcolor": "#E5ECF6",
           "caxis": {
            "gridcolor": "white",
            "linecolor": "white",
            "ticks": ""
           }
          },
          "title": {
           "x": 0.05
          },
          "xaxis": {
           "automargin": true,
           "gridcolor": "white",
           "linecolor": "white",
           "ticks": "",
           "title": {
            "standoff": 15
           },
           "zerolinecolor": "white",
           "zerolinewidth": 2
          },
          "yaxis": {
           "automargin": true,
           "gridcolor": "white",
           "linecolor": "white",
           "ticks": "",
           "title": {
            "standoff": 15
           },
           "zerolinecolor": "white",
           "zerolinewidth": 2
          }
         }
        },
        "xaxis": {
         "anchor": "y",
         "domain": [
          0,
          1
         ],
         "title": {
          "text": "x"
         }
        },
        "yaxis": {
         "anchor": "x",
         "domain": [
          0,
          1
         ],
         "title": {
          "text": "y"
         }
        }
       }
      }
     },
     "metadata": {},
     "output_type": "display_data"
    }
   ],
   "source": [
    "import plotly.express as px\n",
    "import datapane as dp\n",
    "\n",
    "fig = px.scatter(\n",
    "    projection, x='x', y='y'\n",
    ")\n",
    "fig.show()\n",
    "\n",
    "report = dp.Report(dp.Plot(fig) )"
   ]
  },
  {
   "cell_type": "code",
   "execution_count": 103,
   "metadata": {},
   "outputs": [],
   "source": [
    "from collections import defaultdict\n",
    "from surprise import Dataset, SVD\n",
    "\n",
    "def get_top_n(predictions, n=10):\n",
    "    \"\"\"Return the top-N recommendation for each user from a set of predictions.\n",
    "\n",
    "    Args:\n",
    "        predictions(list of Prediction objects): The list of predictions, as\n",
    "            returned by the test method of an algorithm.\n",
    "        n(int): The number of recommendation to output for each user. Default\n",
    "            is 10.\n",
    "\n",
    "    Returns:\n",
    "    A dict where keys are user (raw) ids and values are lists of tuples:\n",
    "        [(raw item id, rating estimation), ...] of size n.\n",
    "    \"\"\"\n",
    "\n",
    "    # First map the predictions to each user.\n",
    "    top_n = defaultdict(list)\n",
    "    for uid, iid, true_r, est, _ in predictions:\n",
    "        top_n[uid].append((iid, est))\n",
    "\n",
    "    # Then sort the predictions for each user and retrieve the k highest ones.\n",
    "    for uid, user_ratings in top_n.items():\n",
    "        user_ratings.sort(key=lambda x: x[1], reverse=True)\n",
    "        top_n[uid] = user_ratings[:n]\n",
    "\n",
    "    return top_n"
   ]
  },
  {
   "cell_type": "code",
   "execution_count": 104,
   "metadata": {},
   "outputs": [
    {
     "data": {
      "text/plain": [
       "<surprise.prediction_algorithms.matrix_factorization.SVD at 0x298b5bf40>"
      ]
     },
     "execution_count": 104,
     "metadata": {},
     "output_type": "execute_result"
    }
   ],
   "source": [
    "algo = SVD()\n",
    "algo.fit(trainset)"
   ]
  },
  {
   "cell_type": "code",
   "execution_count": 105,
   "metadata": {},
   "outputs": [],
   "source": [
    "locales_visitados_usuario=df_ratings.loc[(df_ratings.userID=='U1077'),'placeID']\n",
    "locales_no_visitados_usuario=df_ratings.loc[~df_ratings.placeID.isin(locales_visitados_usuario),'placeID'].unique()\n",
    "\n",
    "pred=[]\n",
    "for local in locales_no_visitados_usuario:\n",
    "    pred.append(svd.predict(uid='U1077', iid=local))"
   ]
  },
  {
   "cell_type": "code",
   "execution_count": 106,
   "metadata": {},
   "outputs": [
    {
     "data": {
      "text/plain": [
       "[Prediction(uid='U1077', iid=135104, r_ui=None, est=1.0628600223403257, details={'was_impossible': False}),\n",
       " Prediction(uid='U1077', iid=132740, r_ui=None, est=1, details={'was_impossible': False}),\n",
       " Prediction(uid='U1077', iid=132663, r_ui=None, est=1.1461664954115671, details={'was_impossible': False}),\n",
       " Prediction(uid='U1077', iid=132732, r_ui=None, est=1.1183741234200022, details={'was_impossible': False}),\n",
       " Prediction(uid='U1077', iid=132630, r_ui=None, est=1.1980552045778083, details={'was_impossible': False}),\n",
       " Prediction(uid='U1077', iid=132584, r_ui=None, est=1.21046678253609, details={'was_impossible': False}),\n",
       " Prediction(uid='U1077', iid=132733, r_ui=None, est=1.189309447333155, details={'was_impossible': False}),\n",
       " Prediction(uid='U1077', iid=132560, r_ui=None, est=1.2849437208098795, details={'was_impossible': False}),\n",
       " Prediction(uid='U1077', iid=132613, r_ui=None, est=1.223008100891107, details={'was_impossible': False}),\n",
       " Prediction(uid='U1077', iid=132667, r_ui=None, est=1.0415469947035476, details={'was_impossible': False}),\n",
       " Prediction(uid='U1077', iid=132660, r_ui=None, est=1.0577378799997086, details={'was_impossible': False}),\n",
       " Prediction(uid='U1077', iid=135088, r_ui=None, est=1.1495563231220771, details={'was_impossible': False}),\n",
       " Prediction(uid='U1077', iid=132583, r_ui=None, est=1.2671206598255178, details={'was_impossible': False}),\n",
       " Prediction(uid='U1077', iid=132608, r_ui=None, est=1.131311488333064, details={'was_impossible': False}),\n",
       " Prediction(uid='U1077', iid=132609, r_ui=None, est=1.1243016857076462, details={'was_impossible': False}),\n",
       " Prediction(uid='U1077', iid=132665, r_ui=None, est=1.2053731317207381, details={'was_impossible': False}),\n",
       " Prediction(uid='U1077', iid=132668, r_ui=None, est=1.2088008800905747, details={'was_impossible': False}),\n",
       " Prediction(uid='U1077', iid=132715, r_ui=None, est=1.3684842277623857, details={'was_impossible': False}),\n",
       " Prediction(uid='U1077', iid=132717, r_ui=None, est=1.2523126034323049, details={'was_impossible': False}),\n",
       " Prediction(uid='U1077', iid=132594, r_ui=None, est=1, details={'was_impossible': False}),\n",
       " Prediction(uid='U1077', iid=132564, r_ui=None, est=1.2139006823295675, details={'was_impossible': False}),\n",
       " Prediction(uid='U1077', iid=135071, r_ui=None, est=1.078573902746074, details={'was_impossible': False}),\n",
       " Prediction(uid='U1077', iid=132626, r_ui=None, est=1.2826137327769271, details={'was_impossible': False}),\n",
       " Prediction(uid='U1077', iid=134987, r_ui=None, est=1.0948722243820512, details={'was_impossible': False}),\n",
       " Prediction(uid='U1077', iid=135034, r_ui=None, est=1.5158396007381667, details={'was_impossible': False}),\n",
       " Prediction(uid='U1077', iid=132723, r_ui=None, est=1.406912101491774, details={'was_impossible': False}),\n",
       " Prediction(uid='U1077', iid=135046, r_ui=None, est=1.2098052123923313, details={'was_impossible': False}),\n",
       " Prediction(uid='U1077', iid=135075, r_ui=None, est=1.3982354955332348, details={'was_impossible': False}),\n",
       " Prediction(uid='U1077', iid=132572, r_ui=None, est=1.2909488647279566, details={'was_impossible': False}),\n",
       " Prediction(uid='U1077', iid=135074, r_ui=None, est=1.1622583284048502, details={'was_impossible': False}),\n",
       " Prediction(uid='U1077', iid=135028, r_ui=None, est=1.4305165934116821, details={'was_impossible': False}),\n",
       " Prediction(uid='U1077', iid=135032, r_ui=None, est=1.1824358069633079, details={'was_impossible': False}),\n",
       " Prediction(uid='U1077', iid=135086, r_ui=None, est=1, details={'was_impossible': False}),\n",
       " Prediction(uid='U1077', iid=135058, r_ui=None, est=1.1956800963252485, details={'was_impossible': False}),\n",
       " Prediction(uid='U1077', iid=135001, r_ui=None, est=1.3995945355984876, details={'was_impossible': False}),\n",
       " Prediction(uid='U1077', iid=134983, r_ui=None, est=1.1768859981722255, details={'was_impossible': False}),\n",
       " Prediction(uid='U1077', iid=134996, r_ui=None, est=1.457453110955359, details={'was_impossible': False}),\n",
       " Prediction(uid='U1077', iid=135019, r_ui=None, est=1.3915915447516682, details={'was_impossible': False}),\n",
       " Prediction(uid='U1077', iid=134976, r_ui=None, est=1.2538167788146526, details={'was_impossible': False}),\n",
       " Prediction(uid='U1077', iid=134999, r_ui=None, est=1.3597041235469702, details={'was_impossible': False}),\n",
       " Prediction(uid='U1077', iid=135018, r_ui=None, est=1.3172827360454735, details={'was_impossible': False}),\n",
       " Prediction(uid='U1077', iid=135013, r_ui=None, est=1.4362897401918227, details={'was_impossible': False}),\n",
       " Prediction(uid='U1077', iid=134986, r_ui=None, est=1.5404549383791382, details={'was_impossible': False}),\n",
       " Prediction(uid='U1077', iid=132767, r_ui=None, est=1.2387666580343135, details={'was_impossible': False}),\n",
       " Prediction(uid='U1077', iid=135016, r_ui=None, est=1.105542392672396, details={'was_impossible': False}),\n",
       " Prediction(uid='U1077', iid=135011, r_ui=None, est=1.3556245723715248, details={'was_impossible': False}),\n",
       " Prediction(uid='U1077', iid=135109, r_ui=None, est=1.2111884895576333, details={'was_impossible': False}),\n",
       " Prediction(uid='U1077', iid=134975, r_ui=None, est=1.1947763202082708, details={'was_impossible': False}),\n",
       " Prediction(uid='U1077', iid=135021, r_ui=None, est=1.2885809558637167, details={'was_impossible': False}),\n",
       " Prediction(uid='U1077', iid=132768, r_ui=None, est=1.425251246637, details={'was_impossible': False}),\n",
       " Prediction(uid='U1077', iid=135000, r_ui=None, est=1.190264825461167, details={'was_impossible': False}),\n",
       " Prediction(uid='U1077', iid=132766, r_ui=None, est=1.1019658174615254, details={'was_impossible': False}),\n",
       " Prediction(uid='U1077', iid=134992, r_ui=None, est=1.2024683963233567, details={'was_impossible': False}),\n",
       " Prediction(uid='U1077', iid=132773, r_ui=None, est=1.267511278437204, details={'was_impossible': False}),\n",
       " Prediction(uid='U1077', iid=132561, r_ui=None, est=1.208102574926597, details={'was_impossible': False}),\n",
       " Prediction(uid='U1077', iid=132706, r_ui=None, est=1.074923694674697, details={'was_impossible': False}),\n",
       " Prediction(uid='U1077', iid=132654, r_ui=None, est=1.0805905724930382, details={'was_impossible': False}),\n",
       " Prediction(uid='U1077', iid=135051, r_ui=None, est=1.2412983884359814, details={'was_impossible': False}),\n",
       " Prediction(uid='U1077', iid=135025, r_ui=None, est=1.4927151063070279, details={'was_impossible': False}),\n",
       " Prediction(uid='U1077', iid=135049, r_ui=None, est=1.1937599723156105, details={'was_impossible': False}),\n",
       " Prediction(uid='U1077', iid=135106, r_ui=None, est=1.2621563866846874, details={'was_impossible': False}),\n",
       " Prediction(uid='U1077', iid=135072, r_ui=None, est=1.1104249199584506, details={'was_impossible': False}),\n",
       " Prediction(uid='U1077', iid=132755, r_ui=None, est=1.2743646803816806, details={'was_impossible': False}),\n",
       " Prediction(uid='U1077', iid=135044, r_ui=None, est=1.258276519470902, details={'was_impossible': False}),\n",
       " Prediction(uid='U1077', iid=135048, r_ui=None, est=1.31249645390469, details={'was_impossible': False}),\n",
       " Prediction(uid='U1077', iid=135047, r_ui=None, est=1.3073111651720661, details={'was_impossible': False}),\n",
       " Prediction(uid='U1077', iid=132754, r_ui=None, est=1.4121672146033586, details={'was_impossible': False}),\n",
       " Prediction(uid='U1077', iid=135076, r_ui=None, est=1.2107099547345508, details={'was_impossible': False}),\n",
       " Prediction(uid='U1077', iid=135063, r_ui=None, est=1.270400880893574, details={'was_impossible': False}),\n",
       " Prediction(uid='U1077', iid=135042, r_ui=None, est=1.2709658842841502, details={'was_impossible': False}),\n",
       " Prediction(uid='U1077', iid=135053, r_ui=None, est=1.314015096746564, details={'was_impossible': False}),\n",
       " Prediction(uid='U1077', iid=135081, r_ui=None, est=1.147835922985741, details={'was_impossible': False}),\n",
       " Prediction(uid='U1077', iid=135062, r_ui=None, est=1.179779472805447, details={'was_impossible': False}),\n",
       " Prediction(uid='U1077', iid=135069, r_ui=None, est=1.0168050101932928, details={'was_impossible': False}),\n",
       " Prediction(uid='U1077', iid=135057, r_ui=None, est=1.0276362592213832, details={'was_impossible': False}),\n",
       " Prediction(uid='U1077', iid=135043, r_ui=None, est=1.229022081027396, details={'was_impossible': False}),\n",
       " Prediction(uid='U1077', iid=135039, r_ui=None, est=1.3016092372110664, details={'was_impossible': False}),\n",
       " Prediction(uid='U1077', iid=135052, r_ui=None, est=1.2041927468992857, details={'was_impossible': False}),\n",
       " Prediction(uid='U1077', iid=135030, r_ui=None, est=1.284485752733545, details={'was_impossible': False}),\n",
       " Prediction(uid='U1077', iid=132830, r_ui=None, est=1.0754821463119324, details={'was_impossible': False}),\n",
       " Prediction(uid='U1077', iid=135108, r_ui=None, est=1.1890335350982233, details={'was_impossible': False}),\n",
       " Prediction(uid='U1077', iid=135050, r_ui=None, est=1.3154269562849645, details={'was_impossible': False}),\n",
       " Prediction(uid='U1077', iid=135070, r_ui=None, est=1.1196890962536874, details={'was_impossible': False}),\n",
       " Prediction(uid='U1077', iid=135041, r_ui=None, est=1.231624623327038, details={'was_impossible': False}),\n",
       " Prediction(uid='U1077', iid=135082, r_ui=None, est=1.1337563268956392, details={'was_impossible': False}),\n",
       " Prediction(uid='U1077', iid=135054, r_ui=None, est=1.139146628607611, details={'was_impossible': False}),\n",
       " Prediction(uid='U1077', iid=135066, r_ui=None, est=1.3947690265632435, details={'was_impossible': False}),\n",
       " Prediction(uid='U1077', iid=135026, r_ui=None, est=1.1609768261201885, details={'was_impossible': False}),\n",
       " Prediction(uid='U1077', iid=135059, r_ui=None, est=1.4258781377250753, details={'was_impossible': False}),\n",
       " Prediction(uid='U1077', iid=135065, r_ui=None, est=1.1874814290515636, details={'was_impossible': False}),\n",
       " Prediction(uid='U1077', iid=135079, r_ui=None, est=1.3021596511023328, details={'was_impossible': False}),\n",
       " Prediction(uid='U1077', iid=135055, r_ui=None, est=1.28208847304194, details={'was_impossible': False}),\n",
       " Prediction(uid='U1077', iid=135080, r_ui=None, est=1.22245419496687, details={'was_impossible': False}),\n",
       " Prediction(uid='U1077', iid=135064, r_ui=None, est=1.0999410996553194, details={'was_impossible': False}),\n",
       " Prediction(uid='U1077', iid=135040, r_ui=None, est=1.1861820542224637, details={'was_impossible': False}),\n",
       " Prediction(uid='U1077', iid=135073, r_ui=None, est=1.3468930164444797, details={'was_impossible': False}),\n",
       " Prediction(uid='U1077', iid=135033, r_ui=None, est=1.2564593116967124, details={'was_impossible': False}),\n",
       " Prediction(uid='U1077', iid=135045, r_ui=None, est=1.2723448756685198, details={'was_impossible': False}),\n",
       " Prediction(uid='U1077', iid=132834, r_ui=None, est=1.117860612608812, details={'was_impossible': False}),\n",
       " Prediction(uid='U1077', iid=132845, r_ui=None, est=1.217270319760896, details={'was_impossible': False}),\n",
       " Prediction(uid='U1077', iid=132846, r_ui=None, est=1.263814232407667, details={'was_impossible': False}),\n",
       " Prediction(uid='U1077', iid=132847, r_ui=None, est=1.2035098118597114, details={'was_impossible': False}),\n",
       " Prediction(uid='U1077', iid=132851, r_ui=None, est=1.312813633483513, details={'was_impossible': False}),\n",
       " Prediction(uid='U1077', iid=132854, r_ui=None, est=1.1767377289880363, details={'was_impossible': False}),\n",
       " Prediction(uid='U1077', iid=132856, r_ui=None, est=1.013201037737427, details={'was_impossible': False}),\n",
       " Prediction(uid='U1077', iid=132858, r_ui=None, est=1.1901499642344477, details={'was_impossible': False}),\n",
       " Prediction(uid='U1077', iid=132861, r_ui=None, est=1.2538500703798166, details={'was_impossible': False}),\n",
       " Prediction(uid='U1077', iid=132862, r_ui=None, est=1.3981442034332527, details={'was_impossible': False}),\n",
       " Prediction(uid='U1077', iid=135035, r_ui=None, est=1.186809278519901, details={'was_impossible': False}),\n",
       " Prediction(uid='U1077', iid=132866, r_ui=None, est=1.253169815815159, details={'was_impossible': False}),\n",
       " Prediction(uid='U1077', iid=132869, r_ui=None, est=1.1013899497464184, details={'was_impossible': False}),\n",
       " Prediction(uid='U1077', iid=132870, r_ui=None, est=1.1238508385003445, details={'was_impossible': False}),\n",
       " Prediction(uid='U1077', iid=132875, r_ui=None, est=1.3371361169294478, details={'was_impossible': False}),\n",
       " Prediction(uid='U1077', iid=132877, r_ui=None, est=1.2869372367293557, details={'was_impossible': False}),\n",
       " Prediction(uid='U1077', iid=132884, r_ui=None, est=1.1699911637077975, details={'was_impossible': False}),\n",
       " Prediction(uid='U1077', iid=132872, r_ui=None, est=1.1114628611624142, details={'was_impossible': False}),\n",
       " Prediction(uid='U1077', iid=132885, r_ui=None, est=1, details={'was_impossible': False}),\n",
       " Prediction(uid='U1077', iid=132921, r_ui=None, est=1.3804447754388864, details={'was_impossible': False}),\n",
       " Prediction(uid='U1077', iid=132922, r_ui=None, est=1.2818130462846882, details={'was_impossible': False}),\n",
       " Prediction(uid='U1077', iid=132925, r_ui=None, est=1.0645225512491956, details={'was_impossible': False}),\n",
       " Prediction(uid='U1077', iid=132951, r_ui=None, est=1.1464730561427776, details={'was_impossible': False}),\n",
       " Prediction(uid='U1077', iid=132937, r_ui=None, est=1.3860944680459883, details={'was_impossible': False}),\n",
       " Prediction(uid='U1077', iid=132954, r_ui=None, est=1.2990738328098603, details={'was_impossible': False}),\n",
       " Prediction(uid='U1077', iid=132955, r_ui=None, est=1.5002341839263467, details={'was_impossible': False}),\n",
       " Prediction(uid='U1077', iid=132958, r_ui=None, est=1.2279057019984063, details={'was_impossible': False})]"
      ]
     },
     "execution_count": 106,
     "metadata": {},
     "output_type": "execute_result"
    }
   ],
   "source": [
    "pred"
   ]
  },
  {
   "cell_type": "code",
   "execution_count": 107,
   "metadata": {},
   "outputs": [
    {
     "data": {
      "text/plain": [
       "defaultdict(list,\n",
       "            {'U1077': [(134986, 1.5404549383791382),\n",
       "              (135034, 1.5158396007381667),\n",
       "              (132955, 1.5002341839263467),\n",
       "              (135025, 1.4927151063070279),\n",
       "              (134996, 1.457453110955359),\n",
       "              (135013, 1.4362897401918227),\n",
       "              (135028, 1.4305165934116821),\n",
       "              (135059, 1.4258781377250753),\n",
       "              (132768, 1.425251246637),\n",
       "              (132754, 1.4121672146033586)]})"
      ]
     },
     "execution_count": 107,
     "metadata": {},
     "output_type": "execute_result"
    }
   ],
   "source": [
    "top_n = get_top_n(pred, n=10)\n",
    "top_n"
   ]
  },
  {
   "cell_type": "code",
   "execution_count": 108,
   "metadata": {},
   "outputs": [
    {
     "name": "stdout",
     "output_type": "stream",
     "text": [
      "['Restaurant Las Mananitas', 'Michiko Restaurant Japones', 'emilianos', 'El Rincon de San Francisco', 'Sanborns Casa Piedra', 'Giovannis', 'La Virreina', 'Restaurant Bar Hacienda los Martinez', 'Mariscos Tia Licha', 'Cabana Huasteca']\n"
     ]
    }
   ],
   "source": [
    "for uid, user_ratings in top_n.items():\n",
    "    print([locales.loc[locales.placeID==iid,'name'].values[0] for (iid, _) in user_ratings])"
   ]
  },
  {
   "cell_type": "markdown",
   "metadata": {},
   "source": [
    "# Comparacion desempeño algoritmos"
   ]
  },
  {
   "cell_type": "code",
   "execution_count": 164,
   "metadata": {},
   "outputs": [
    {
     "name": "stdout",
     "output_type": "stream",
     "text": [
      "Evaluating rating...\n",
      "Tuning Random...\n",
      "Tuning Baseline...\n",
      "Estimating biases using als...\n",
      "Estimating biases using als...\n",
      "Estimating biases using als...\n",
      "Estimating biases using als...\n",
      "Estimating biases using als...\n",
      "Estimating biases using als...\n",
      "Estimating biases using als...\n",
      "Estimating biases using als...\n",
      "Estimating biases using als...\n",
      "Estimating biases using als...\n",
      "Estimating biases using als...\n",
      "Estimating biases using als...\n",
      "Tuning SVD...\n",
      "Tuning KNN_cosine...\n",
      "Computing the cosine similarity matrix...\n",
      "Error tuning KNN_cosine: float division\n",
      "Tuning KNN_msd...\n",
      "Computing the msd similarity matrix...\n",
      "Done computing similarity matrix.\n",
      "Computing the msd similarity matrix...\n",
      "Done computing similarity matrix.\n",
      "Computing the msd similarity matrix...\n",
      "Done computing similarity matrix.\n",
      "Computing the msd similarity matrix...\n",
      "Done computing similarity matrix.\n",
      "Computing the msd similarity matrix...\n",
      "Done computing similarity matrix.\n",
      "Computing the msd similarity matrix...\n",
      "Done computing similarity matrix.\n",
      "Computing the msd similarity matrix...\n",
      "Done computing similarity matrix.\n",
      "Computing the msd similarity matrix...\n",
      "Done computing similarity matrix.\n",
      "Computing the msd similarity matrix...\n",
      "Computing the msd similarity matrix...\n",
      "Computing the msd similarity matrix...\n",
      "Computing the msd similarity matrix...\n",
      "Done computing similarity matrix.\n",
      "Done computing similarity matrix.\n",
      "Done computing similarity matrix.\n",
      "Done computing similarity matrix.\n",
      "Computing the msd similarity matrix...\n",
      "Done computing similarity matrix.\n",
      "Computing the msd similarity matrix...\n",
      "Done computing similarity matrix.\n",
      "Computing the msd similarity matrix...\n",
      "Done computing similarity matrix.\n",
      "Computing the msd similarity matrix...\n",
      "Done computing similarity matrix.\n",
      "Evaluating food_rating...\n",
      "Tuning Random...\n",
      "Tuning Baseline...\n",
      "Estimating biases using als...\n",
      "Estimating biases using als...\n",
      "Estimating biases using als...\n",
      "Estimating biases using als...\n",
      "Estimating biases using als...\n",
      "Estimating biases using als...\n",
      "Estimating biases using als...\n",
      "Estimating biases using als...\n",
      "Estimating biases using als...\n",
      "Estimating biases using als...\n",
      "Estimating biases using als...\n",
      "Estimating biases using als...\n",
      "Tuning SVD...\n",
      "Tuning KNN_cosine...\n",
      "Computing the cosine similarity matrix...\n",
      "Error tuning KNN_cosine: float division\n",
      "Tuning KNN_msd...\n",
      "Computing the msd similarity matrix...\n",
      "Done computing similarity matrix.\n",
      "Computing the msd similarity matrix...\n",
      "Done computing similarity matrix.\n",
      "Computing the msd similarity matrix...\n",
      "Done computing similarity matrix.\n",
      "Computing the msd similarity matrix...\n",
      "Done computing similarity matrix.\n",
      "Computing the msd similarity matrix...\n",
      "Done computing similarity matrix.\n",
      "Computing the msd similarity matrix...\n",
      "Done computing similarity matrix.\n",
      "Computing the msd similarity matrix...\n",
      "Done computing similarity matrix.\n",
      "Computing the msd similarity matrix...\n",
      "Done computing similarity matrix.\n",
      "Computing the msd similarity matrix...\n",
      "Computing the msd similarity matrix...\n",
      "Computing the msd similarity matrix...\n",
      "Computing the msd similarity matrix...\n",
      "Done computing similarity matrix.\n",
      "Done computing similarity matrix.\n",
      "Done computing similarity matrix.\n",
      "Done computing similarity matrix.\n",
      "Computing the msd similarity matrix...\n",
      "Done computing similarity matrix.\n",
      "Computing the msd similarity matrix...\n",
      "Done computing similarity matrix.\n",
      "Computing the msd similarity matrix...\n",
      "Done computing similarity matrix.\n",
      "Computing the msd similarity matrix...\n",
      "Done computing similarity matrix.\n",
      "Evaluating service_rating...\n",
      "Tuning Random...\n",
      "Tuning Baseline...\n",
      "Estimating biases using als...\n",
      "Estimating biases using als...\n",
      "Estimating biases using als...\n",
      "Estimating biases using als...\n",
      "Estimating biases using als...\n",
      "Estimating biases using als...\n",
      "Estimating biases using als...\n",
      "Estimating biases using als...\n",
      "Estimating biases using als...\n",
      "Estimating biases using als...\n",
      "Estimating biases using als...\n",
      "Estimating biases using als...\n",
      "Tuning SVD...\n",
      "Tuning KNN_cosine...\n",
      "Computing the cosine similarity matrix...\n",
      "Error tuning KNN_cosine: float division\n",
      "Tuning KNN_msd...\n",
      "Computing the msd similarity matrix...\n",
      "Done computing similarity matrix.\n",
      "Computing the msd similarity matrix...\n",
      "Done computing similarity matrix.\n",
      "Computing the msd similarity matrix...\n",
      "Done computing similarity matrix.\n",
      "Computing the msd similarity matrix...\n",
      "Done computing similarity matrix.\n",
      "Computing the msd similarity matrix...\n",
      "Done computing similarity matrix.\n",
      "Computing the msd similarity matrix...\n",
      "Done computing similarity matrix.\n",
      "Computing the msd similarity matrix...\n",
      "Done computing similarity matrix.\n",
      "Computing the msd similarity matrix...\n",
      "Done computing similarity matrix.\n",
      "Computing the msd similarity matrix...\n",
      "Computing the msd similarity matrix...\n",
      "Computing the msd similarity matrix...\n",
      "Computing the msd similarity matrix...\n",
      "Done computing similarity matrix.\n",
      "Done computing similarity matrix.\n",
      "Done computing similarity matrix.\n",
      "Done computing similarity matrix.\n",
      "Computing the msd similarity matrix...\n",
      "Done computing similarity matrix.\n",
      "Computing the msd similarity matrix...\n",
      "Done computing similarity matrix.\n",
      "Computing the msd similarity matrix...\n",
      "Done computing similarity matrix.\n",
      "Computing the msd similarity matrix...\n",
      "Done computing similarity matrix.\n",
      "   Algoritmo  RMSE CV  Precision    Recall     Rating Type\n",
      "0     Random    0.998   0.402807  0.062074          rating\n",
      "1   Baseline    0.508   0.201087  0.023027          rating\n",
      "2        SVD    0.054   0.184783  0.016863          rating\n",
      "3    KNN_msd    0.000   0.804348  0.190523          rating\n",
      "4     Random    1.016   0.459129  0.069663     food_rating\n",
      "5   Baseline    0.530   0.217391  0.022974     food_rating\n",
      "6        SVD    0.055   0.206522  0.020409     food_rating\n",
      "7    KNN_msd    0.000   0.833333  0.176832     food_rating\n",
      "8     Random    1.017   0.368605  0.059156  service_rating\n",
      "9   Baseline    0.534   0.150362  0.015390  service_rating\n",
      "10       SVD    0.054   0.126812  0.011291  service_rating\n",
      "11   KNN_msd    0.000   0.768116  0.188906  service_rating\n"
     ]
    }
   ],
   "source": [
    "import pandas as pd\n",
    "from surprise import Dataset, Reader\n",
    "from surprise.model_selection import GridSearchCV, cross_validate, KFold\n",
    "from surprise.prediction_algorithms import NormalPredictor, BaselineOnly, SVD, KNNBasic, NMF\n",
    "from collections import defaultdict\n",
    "from sklearn.model_selection import train_test_split as sklearn_train_test_split\n",
    "\n",
    "ratings_data_f = df_ratings.sample(n=100000, replace=True)\n",
    "ratings_data_f = ratings_data_f[['userID', 'placeID', 'rating', 'food_rating', 'service_rating']]\n",
    "reader = Reader(rating_scale=(0, 2))\n",
    "\n",
    "def evaluate(data_train, algo):\n",
    "    cv_results = cross_validate(algo, data_train, measures=['RMSE'], cv=4, verbose=False, n_jobs=-1)\n",
    "    return round(cv_results['test_rmse'].mean(), 3)\n",
    "\n",
    "def precision_recall_at_k(predictions, k=10, threshold=2.0):\n",
    "    user_est_true = defaultdict(list)\n",
    "    for uid, _, true_r, est, _ in predictions:\n",
    "        user_est_true[uid].append((est, true_r))\n",
    "\n",
    "    precisions = dict()\n",
    "    recalls = dict()\n",
    "    for uid, user_ratings in user_est_true.items():\n",
    "        user_ratings.sort(key=lambda x: x[0], reverse=True)\n",
    "        n_rel = sum((true_r >= threshold) for (_, true_r) in user_ratings)\n",
    "        n_rec_k = sum((est >= threshold) for (est, _) in user_ratings[:k])\n",
    "        n_rel_and_rec_k = sum(\n",
    "            ((true_r >= threshold) and (est >= threshold))\n",
    "            for (est, true_r) in user_ratings[:k]\n",
    "        )\n",
    "        precisions[uid] = n_rel_and_rec_k / n_rec_k if n_rec_k != 0 else 0\n",
    "        recalls[uid] = n_rel_and_rec_k / n_rel if n_rel != 0 else 0\n",
    "    return precisions, recalls\n",
    "\n",
    "def evaluate_precision_recall(data_train, algo):\n",
    "    kf = KFold(n_splits=4)\n",
    "    precision = []\n",
    "    recall = []\n",
    "    for trainset, testset in kf.split(data_train):\n",
    "        algo.fit(trainset)\n",
    "        predictions = algo.test(testset)\n",
    "        precisions, recalls = precision_recall_at_k(predictions, k=10, threshold=2.0)\n",
    "        precision.append(sum(prec for prec in precisions.values()) / len(precisions))\n",
    "        recall.append(sum(rec for rec in recalls.values()) / len(recalls))\n",
    "    return sum(precision) / len(precision), sum(recall) / len(recall)\n",
    "\n",
    "algorithms = {\n",
    "    'Random': (NormalPredictor, {}),\n",
    "    'Baseline': (BaselineOnly, {}),\n",
    "    'SVD': (SVD, {'n_factors': [50, 100], 'reg_all': [0.02, 0.05]}),\n",
    "    'KNN_cosine': (KNNBasic, {'k': [20, 30], 'sim_options': {'name': ['cosine'], 'user_based': [False]}}),\n",
    "    'KNN_msd': (KNNBasic, {'k': [20, 30], 'sim_options': {'name': ['msd'], 'user_based': [False]}})\n",
    "}\n",
    "\n",
    "results_list = []\n",
    "\n",
    "def train_test_split_custom(df, column, reader):\n",
    "    train, test = sklearn_train_test_split(df[['userID', 'placeID', column]], test_size=0.20, random_state=100)\n",
    "    data_train = Dataset.load_from_df(train, reader)\n",
    "    return data_train, test\n",
    "\n",
    "for column in ['rating', 'food_rating', 'service_rating']:\n",
    "    print(f'Evaluating {column}...')\n",
    "    data_train, test = train_test_split_custom(ratings_data_f, column, reader)\n",
    "\n",
    "    for algo_name, (algo_class, param_grid) in algorithms.items():\n",
    "        print(f'Tuning {algo_name}...')\n",
    "        try:\n",
    "            gs = GridSearchCV(algo_class, param_grid, measures=['rmse'], cv=4)\n",
    "            gs.fit(data_train)\n",
    "\n",
    "            best_algo = gs.best_estimator['rmse']\n",
    "\n",
    "            rmse = evaluate(data_train, best_algo)\n",
    "            precision, recall = evaluate_precision_recall(data_train, best_algo)\n",
    "\n",
    "            results_list.append({\n",
    "                'Algoritmo': algo_name,\n",
    "                'RMSE CV': rmse,\n",
    "                'Precision': precision,\n",
    "                'Recall': recall,\n",
    "                'Rating Type': column\n",
    "            })\n",
    "        except ZeroDivisionError as e:\n",
    "            print(f'Error tuning {algo_name}: {e}')\n",
    "\n",
    "results_df = pd.DataFrame(results_list)\n",
    "print(results_df)"
   ]
  }
 ],
 "metadata": {
  "kernelspec": {
   "display_name": "Python 3",
   "language": "python",
   "name": "python3"
  },
  "language_info": {
   "codemirror_mode": {
    "name": "ipython",
    "version": 3
   },
   "file_extension": ".py",
   "mimetype": "text/x-python",
   "name": "python",
   "nbconvert_exporter": "python",
   "pygments_lexer": "ipython3",
   "version": "3.8.19"
  }
 },
 "nbformat": 4,
 "nbformat_minor": 2
}
